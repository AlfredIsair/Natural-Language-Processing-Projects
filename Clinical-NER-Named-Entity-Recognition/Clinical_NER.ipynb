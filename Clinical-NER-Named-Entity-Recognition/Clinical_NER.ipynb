{
  "cells": [
    {
      "cell_type": "markdown",
      "metadata": {
        "id": "view-in-github",
        "colab_type": "text"
      },
      "source": [
        "<a href=\"https://colab.research.google.com/github/AlfredIsair/Natural-Language-Processing-Projects/blob/main/Clinical-NER-Named-Entity-Recognition/Clinical_NER.ipynb\" target=\"_parent\"><img src=\"https://colab.research.google.com/assets/colab-badge.svg\" alt=\"Open In Colab\"/></a>"
      ]
    },
    {
      "cell_type": "markdown",
      "metadata": {
        "id": "Niy3mZAjoayg"
      },
      "source": [
        "Named entity recognition (NER) is one of the most important building blocks of NLP tasks in the medical domain by extracting meaningful chunks from clinical notes and reports, which are then fed to downstream tasks like assertion status detection, entity resolution, relation extraction, and de-identification."
      ]
    },
    {
      "cell_type": "markdown",
      "source": [
        "Healthcare providers can use this version of NER to analyze clinical notes, extract keywords, and assign them to specific entities, such as PROBLEM, TEST, or TREATMENT.\n",
        "\n",
        "We use the ZeroShotNerModel(zero_shot_ner_roberta)  that allows extracting entities by crafting appropriate prompts to query and RoBerTa Question Answeing model.It is the first of its kind and can detect any named entities without using any annotated dataset to train a model."
      ],
      "metadata": {
        "id": "3bSpMCSq-5ai"
      }
    },
    {
      "cell_type": "markdown",
      "metadata": {
        "id": "okhT7AcXxben"
      },
      "source": [
        "## Colab Setup"
      ]
    },
    {
      "cell_type": "code",
      "execution_count": null,
      "metadata": {
        "id": "ELqzaf32MT6E",
        "colab": {
          "base_uri": "https://localhost:8080/"
        },
        "outputId": "23d715e6-a403-4a23-d73c-70d13d6bf17b"
      },
      "outputs": [
        {
          "output_type": "stream",
          "name": "stdout",
          "text": [
            "\u001b[2K     \u001b[90m━━━━━━━━━━━━━━━━━━━━━━━━━━━━━━━━━━━━━━━━\u001b[0m \u001b[32m103.9/103.9 kB\u001b[0m \u001b[31m3.2 MB/s\u001b[0m eta \u001b[36m0:00:00\u001b[0m\n",
            "\u001b[2K     \u001b[90m━━━━━━━━━━━━━━━━━━━━━━━━━━━━━━━━━━━━━━━━\u001b[0m \u001b[32m139.3/139.3 kB\u001b[0m \u001b[31m7.1 MB/s\u001b[0m eta \u001b[36m0:00:00\u001b[0m\n",
            "\u001b[2K     \u001b[90m━━━━━━━━━━━━━━━━━━━━━━━━━━━━━━━━━━━━━━━━\u001b[0m \u001b[32m643.8/643.8 kB\u001b[0m \u001b[31m10.7 MB/s\u001b[0m eta \u001b[36m0:00:00\u001b[0m\n",
            "\u001b[2K     \u001b[90m━━━━━━━━━━━━━━━━━━━━━━━━━━━━━━━━━━━━━━━━\u001b[0m \u001b[32m3.1/3.1 MB\u001b[0m \u001b[31m27.9 MB/s\u001b[0m eta \u001b[36m0:00:00\u001b[0m\n",
            "\u001b[2K     \u001b[90m━━━━━━━━━━━━━━━━━━━━━━━━━━━━━━━━━━━━━━━━\u001b[0m \u001b[32m212.4/212.4 MB\u001b[0m \u001b[31m2.3 MB/s\u001b[0m eta \u001b[36m0:00:00\u001b[0m\n",
            "\u001b[?25h  Preparing metadata (setup.py) ... \u001b[?25l\u001b[?25hdone\n",
            "\u001b[2K     \u001b[90m━━━━━━━━━━━━━━━━━━━━━━━━━━━━━━━━━━━━━━━━\u001b[0m \u001b[32m95.4/95.4 kB\u001b[0m \u001b[31m11.5 MB/s\u001b[0m eta \u001b[36m0:00:00\u001b[0m\n",
            "\u001b[2K     \u001b[90m━━━━━━━━━━━━━━━━━━━━━━━━━━━━━━━━━━━━━━━━\u001b[0m \u001b[32m531.2/531.2 kB\u001b[0m \u001b[31m44.8 MB/s\u001b[0m eta \u001b[36m0:00:00\u001b[0m\n",
            "\u001b[2K     \u001b[90m━━━━━━━━━━━━━━━━━━━━━━━━━━━━━━━━━━━━━━━━\u001b[0m \u001b[32m198.6/198.6 kB\u001b[0m \u001b[31m22.1 MB/s\u001b[0m eta \u001b[36m0:00:00\u001b[0m\n",
            "\u001b[2K     \u001b[90m━━━━━━━━━━━━━━━━━━━━━━━━━━━━━━━━━━━━━━━━\u001b[0m \u001b[32m66.9/66.9 kB\u001b[0m \u001b[31m8.8 MB/s\u001b[0m eta \u001b[36m0:00:00\u001b[0m\n",
            "\u001b[2K     \u001b[90m━━━━━━━━━━━━━━━━━━━━━━━━━━━━━━━━━━━━━━━━\u001b[0m \u001b[32m11.8/11.8 MB\u001b[0m \u001b[31m84.8 MB/s\u001b[0m eta \u001b[36m0:00:00\u001b[0m\n",
            "\u001b[2K     \u001b[90m━━━━━━━━━━━━━━━━━━━━━━━━━━━━━━━━━━━━━━━━\u001b[0m \u001b[32m82.0/82.0 kB\u001b[0m \u001b[31m8.5 MB/s\u001b[0m eta \u001b[36m0:00:00\u001b[0m\n",
            "\u001b[2K     \u001b[90m━━━━━━━━━━━━━━━━━━━━━━━━━━━━━━━━━━━━━━━━\u001b[0m \u001b[32m150.3/150.3 kB\u001b[0m \u001b[31m17.8 MB/s\u001b[0m eta \u001b[36m0:00:00\u001b[0m\n",
            "\u001b[2K     \u001b[90m━━━━━━━━━━━━━━━━━━━━━━━━━━━━━━━━━━━━━━━━\u001b[0m \u001b[32m1.6/1.6 MB\u001b[0m \u001b[31m87.4 MB/s\u001b[0m eta \u001b[36m0:00:00\u001b[0m\n",
            "\u001b[?25h  Building wheel for pyspark (setup.py) ... \u001b[?25l\u001b[?25hdone\n",
            "\u001b[31mERROR: pip's dependency resolver does not currently take into account all the packages that are installed. This behaviour is the source of the following dependency conflicts.\n",
            "lida 0.0.10 requires fastapi, which is not installed.\n",
            "lida 0.0.10 requires kaleido, which is not installed.\n",
            "lida 0.0.10 requires python-multipart, which is not installed.\n",
            "lida 0.0.10 requires uvicorn, which is not installed.\n",
            "llmx 0.0.15a0 requires cohere, which is not installed.\n",
            "llmx 0.0.15a0 requires openai, which is not installed.\n",
            "llmx 0.0.15a0 requires tiktoken, which is not installed.\u001b[0m\u001b[31m\n",
            "\u001b[0m"
          ]
        }
      ],
      "source": [
        "# Install the johnsnowlabs library to access Spark-OCR and Spark-NLP for Healthcare, Finance, and Legal.\n",
        "! pip install -q johnsnowlabs==5.1.0"
      ]
    },
    {
      "cell_type": "code",
      "execution_count": null,
      "metadata": {
        "id": "RO2dIA414yL_",
        "colab": {
          "base_uri": "https://localhost:8080/",
          "height": 90
        },
        "outputId": "76e574ce-79a3-4495-c3cd-07867e27ed82"
      },
      "outputs": [
        {
          "output_type": "stream",
          "name": "stdout",
          "text": [
            "Please Upload your John Snow Labs License using the button below\n"
          ]
        },
        {
          "output_type": "display_data",
          "data": {
            "text/plain": [
              "<IPython.core.display.HTML object>"
            ],
            "text/html": [
              "\n",
              "     <input type=\"file\" id=\"files-3e31a3d8-41d3-46e8-b187-d137c239a0bb\" name=\"files[]\" multiple disabled\n",
              "        style=\"border:none\" />\n",
              "     <output id=\"result-3e31a3d8-41d3-46e8-b187-d137c239a0bb\">\n",
              "      Upload widget is only available when the cell has been executed in the\n",
              "      current browser session. Please rerun this cell to enable.\n",
              "      </output>\n",
              "      <script>// Copyright 2017 Google LLC\n",
              "//\n",
              "// Licensed under the Apache License, Version 2.0 (the \"License\");\n",
              "// you may not use this file except in compliance with the License.\n",
              "// You may obtain a copy of the License at\n",
              "//\n",
              "//      http://www.apache.org/licenses/LICENSE-2.0\n",
              "//\n",
              "// Unless required by applicable law or agreed to in writing, software\n",
              "// distributed under the License is distributed on an \"AS IS\" BASIS,\n",
              "// WITHOUT WARRANTIES OR CONDITIONS OF ANY KIND, either express or implied.\n",
              "// See the License for the specific language governing permissions and\n",
              "// limitations under the License.\n",
              "\n",
              "/**\n",
              " * @fileoverview Helpers for google.colab Python module.\n",
              " */\n",
              "(function(scope) {\n",
              "function span(text, styleAttributes = {}) {\n",
              "  const element = document.createElement('span');\n",
              "  element.textContent = text;\n",
              "  for (const key of Object.keys(styleAttributes)) {\n",
              "    element.style[key] = styleAttributes[key];\n",
              "  }\n",
              "  return element;\n",
              "}\n",
              "\n",
              "// Max number of bytes which will be uploaded at a time.\n",
              "const MAX_PAYLOAD_SIZE = 100 * 1024;\n",
              "\n",
              "function _uploadFiles(inputId, outputId) {\n",
              "  const steps = uploadFilesStep(inputId, outputId);\n",
              "  const outputElement = document.getElementById(outputId);\n",
              "  // Cache steps on the outputElement to make it available for the next call\n",
              "  // to uploadFilesContinue from Python.\n",
              "  outputElement.steps = steps;\n",
              "\n",
              "  return _uploadFilesContinue(outputId);\n",
              "}\n",
              "\n",
              "// This is roughly an async generator (not supported in the browser yet),\n",
              "// where there are multiple asynchronous steps and the Python side is going\n",
              "// to poll for completion of each step.\n",
              "// This uses a Promise to block the python side on completion of each step,\n",
              "// then passes the result of the previous step as the input to the next step.\n",
              "function _uploadFilesContinue(outputId) {\n",
              "  const outputElement = document.getElementById(outputId);\n",
              "  const steps = outputElement.steps;\n",
              "\n",
              "  const next = steps.next(outputElement.lastPromiseValue);\n",
              "  return Promise.resolve(next.value.promise).then((value) => {\n",
              "    // Cache the last promise value to make it available to the next\n",
              "    // step of the generator.\n",
              "    outputElement.lastPromiseValue = value;\n",
              "    return next.value.response;\n",
              "  });\n",
              "}\n",
              "\n",
              "/**\n",
              " * Generator function which is called between each async step of the upload\n",
              " * process.\n",
              " * @param {string} inputId Element ID of the input file picker element.\n",
              " * @param {string} outputId Element ID of the output display.\n",
              " * @return {!Iterable<!Object>} Iterable of next steps.\n",
              " */\n",
              "function* uploadFilesStep(inputId, outputId) {\n",
              "  const inputElement = document.getElementById(inputId);\n",
              "  inputElement.disabled = false;\n",
              "\n",
              "  const outputElement = document.getElementById(outputId);\n",
              "  outputElement.innerHTML = '';\n",
              "\n",
              "  const pickedPromise = new Promise((resolve) => {\n",
              "    inputElement.addEventListener('change', (e) => {\n",
              "      resolve(e.target.files);\n",
              "    });\n",
              "  });\n",
              "\n",
              "  const cancel = document.createElement('button');\n",
              "  inputElement.parentElement.appendChild(cancel);\n",
              "  cancel.textContent = 'Cancel upload';\n",
              "  const cancelPromise = new Promise((resolve) => {\n",
              "    cancel.onclick = () => {\n",
              "      resolve(null);\n",
              "    };\n",
              "  });\n",
              "\n",
              "  // Wait for the user to pick the files.\n",
              "  const files = yield {\n",
              "    promise: Promise.race([pickedPromise, cancelPromise]),\n",
              "    response: {\n",
              "      action: 'starting',\n",
              "    }\n",
              "  };\n",
              "\n",
              "  cancel.remove();\n",
              "\n",
              "  // Disable the input element since further picks are not allowed.\n",
              "  inputElement.disabled = true;\n",
              "\n",
              "  if (!files) {\n",
              "    return {\n",
              "      response: {\n",
              "        action: 'complete',\n",
              "      }\n",
              "    };\n",
              "  }\n",
              "\n",
              "  for (const file of files) {\n",
              "    const li = document.createElement('li');\n",
              "    li.append(span(file.name, {fontWeight: 'bold'}));\n",
              "    li.append(span(\n",
              "        `(${file.type || 'n/a'}) - ${file.size} bytes, ` +\n",
              "        `last modified: ${\n",
              "            file.lastModifiedDate ? file.lastModifiedDate.toLocaleDateString() :\n",
              "                                    'n/a'} - `));\n",
              "    const percent = span('0% done');\n",
              "    li.appendChild(percent);\n",
              "\n",
              "    outputElement.appendChild(li);\n",
              "\n",
              "    const fileDataPromise = new Promise((resolve) => {\n",
              "      const reader = new FileReader();\n",
              "      reader.onload = (e) => {\n",
              "        resolve(e.target.result);\n",
              "      };\n",
              "      reader.readAsArrayBuffer(file);\n",
              "    });\n",
              "    // Wait for the data to be ready.\n",
              "    let fileData = yield {\n",
              "      promise: fileDataPromise,\n",
              "      response: {\n",
              "        action: 'continue',\n",
              "      }\n",
              "    };\n",
              "\n",
              "    // Use a chunked sending to avoid message size limits. See b/62115660.\n",
              "    let position = 0;\n",
              "    do {\n",
              "      const length = Math.min(fileData.byteLength - position, MAX_PAYLOAD_SIZE);\n",
              "      const chunk = new Uint8Array(fileData, position, length);\n",
              "      position += length;\n",
              "\n",
              "      const base64 = btoa(String.fromCharCode.apply(null, chunk));\n",
              "      yield {\n",
              "        response: {\n",
              "          action: 'append',\n",
              "          file: file.name,\n",
              "          data: base64,\n",
              "        },\n",
              "      };\n",
              "\n",
              "      let percentDone = fileData.byteLength === 0 ?\n",
              "          100 :\n",
              "          Math.round((position / fileData.byteLength) * 100);\n",
              "      percent.textContent = `${percentDone}% done`;\n",
              "\n",
              "    } while (position < fileData.byteLength);\n",
              "  }\n",
              "\n",
              "  // All done.\n",
              "  yield {\n",
              "    response: {\n",
              "      action: 'complete',\n",
              "    }\n",
              "  };\n",
              "}\n",
              "\n",
              "scope.google = scope.google || {};\n",
              "scope.google.colab = scope.google.colab || {};\n",
              "scope.google.colab._files = {\n",
              "  _uploadFiles,\n",
              "  _uploadFilesContinue,\n",
              "};\n",
              "})(self);\n",
              "</script> "
            ]
          },
          "metadata": {}
        },
        {
          "output_type": "stream",
          "name": "stdout",
          "text": [
            "Saving spark_nlp_for_healthcare_spark_ocr_8539.json to spark_nlp_for_healthcare_spark_ocr_8539.json\n"
          ]
        }
      ],
      "source": [
        "from google.colab import files\n",
        "\n",
        "print('Please Upload your John Snow Labs License using the button below')\n",
        "license_keys = files.upload()"
      ]
    },
    {
      "cell_type": "code",
      "execution_count": null,
      "metadata": {
        "id": "dmcB5zVBHZO8",
        "colab": {
          "base_uri": "https://localhost:8080/"
        },
        "outputId": "28f03f57-ad24-4a4d-c049-9875aeae3550"
      },
      "outputs": [
        {
          "output_type": "stream",
          "name": "stdout",
          "text": [
            "👌 Detected license file /content/spark_nlp_for_healthcare_spark_ocr_8539.json\n",
            "🚨 Outdated Medical Secrets in license file. Version=5.1.3 but should be Version=5.1.0\n",
            "🚨 Outdated OCR Secrets in license file. Version=5.0.2 but should be Version=5.0.1\n",
            "👷 Trying to install compatible secrets. Use nlp.settings.enforce_versions=False if you want to install outdated secrets.\n",
            "📋 Stored John Snow Labs License in /root/.johnsnowlabs/licenses/license_number_0_for_Spark-Healthcare_Spark-OCR.json\n",
            "👷 Setting up  John Snow Labs home in /root/.johnsnowlabs, this might take a few minutes.\n",
            "Downloading 🐍+🚀 Python Library spark_nlp-5.1.0-py2.py3-none-any.whl\n",
            "Downloading 🐍+💊 Python Library spark_nlp_jsl-5.1.0-py3-none-any.whl\n",
            "Downloading 🫘+🚀 Java Library spark-nlp-assembly-5.1.0.jar\n",
            "Downloading 🫘+💊 Java Library spark-nlp-jsl-5.1.0.jar\n",
            "🙆 JSL Home setup in /root/.johnsnowlabs\n",
            "👌 Detected license file /content/spark_nlp_for_healthcare_spark_ocr_8539.json\n",
            "👷 Trying to install compatible secrets. Use nlp.settings.enforce_versions=False if you want to install outdated secrets.\n",
            "Installing /root/.johnsnowlabs/py_installs/spark_nlp_jsl-5.1.0-py3-none-any.whl to /usr/bin/python3\n",
            "Installed 1 products:\n",
            "💊 Spark-Healthcare==5.1.0 installed! ✅ Heal the planet with NLP! \n"
          ]
        }
      ],
      "source": [
        "from johnsnowlabs import nlp, medical\n",
        "# After uploading your license run this to install all licensed Python Wheels and pre-download Jars the Spark Session JVM\n",
        "\n",
        "nlp.install()"
      ]
    },
    {
      "cell_type": "code",
      "execution_count": null,
      "metadata": {
        "id": "lQ8-BI-_5QjG",
        "colab": {
          "base_uri": "https://localhost:8080/"
        },
        "outputId": "efc35116-134b-4255-b69b-f08fc77e7b4f"
      },
      "outputs": [
        {
          "output_type": "stream",
          "name": "stdout",
          "text": [
            "👌 Detected license file /content/spark_nlp_for_healthcare_spark_ocr_8539.json\n",
            "👷 Trying to install compatible secrets. Use nlp.settings.enforce_versions=False if you want to install outdated secrets.\n",
            "👌 Launched \u001b[92mcpu optimized\u001b[39m session with with: 🚀Spark-NLP==5.1.0, 💊Spark-Healthcare==5.1.0, running on ⚡ PySpark==3.1.2\n"
          ]
        }
      ],
      "source": [
        "from johnsnowlabs import nlp, medical\n",
        "\n",
        "# Automatically load license data and start a session with all jars user has access to\n",
        "spark = nlp.start()"
      ]
    },
    {
      "cell_type": "code",
      "source": [
        "spark"
      ],
      "metadata": {
        "colab": {
          "base_uri": "https://localhost:8080/",
          "height": 219
        },
        "id": "PJaGML6Jbrb7",
        "outputId": "a47bc242-560e-47cf-821f-7a0335ece539"
      },
      "execution_count": null,
      "outputs": [
        {
          "output_type": "execute_result",
          "data": {
            "text/plain": [
              "<pyspark.sql.session.SparkSession at 0x7d3111223460>"
            ],
            "text/html": [
              "\n",
              "            <div>\n",
              "                <p><b>SparkSession - in-memory</b></p>\n",
              "                \n",
              "        <div>\n",
              "            <p><b>SparkContext</b></p>\n",
              "\n",
              "            <p><a href=\"http://eb02414891c5:4040\">Spark UI</a></p>\n",
              "\n",
              "            <dl>\n",
              "              <dt>Version</dt>\n",
              "                <dd><code>v3.1.2</code></dd>\n",
              "              <dt>Master</dt>\n",
              "                <dd><code>local[*]</code></dd>\n",
              "              <dt>AppName</dt>\n",
              "                <dd><code>John-Snow-Labs-Spark-Session 🚀 with Jars for: 🚀Spark-NLP==5.1.0, 💊Spark-Healthcare==5.1.0, running on ⚡ PySpark==3.1.2</code></dd>\n",
              "            </dl>\n",
              "        </div>\n",
              "        \n",
              "            </div>\n",
              "        "
            ]
          },
          "metadata": {},
          "execution_count": 5
        }
      ]
    },
    {
      "cell_type": "code",
      "execution_count": null,
      "metadata": {
        "id": "8fLrNBITcmBq"
      },
      "outputs": [],
      "source": [
        "from pyspark.sql import DataFrame\n",
        "import pyspark.sql.functions as F\n",
        "import pyspark.sql.types as T\n",
        "import pyspark.sql as SQL\n",
        "from pyspark import keyword_only"
      ]
    },
    {
      "cell_type": "markdown",
      "metadata": {
        "id": "AMU4sAJQ0Rhs"
      },
      "source": [
        "## **NER Pipeline**\n",
        "We  create a pipeline for Zero-Shot NER model with  `documentAssembler`, `sentenceDetector`, `tokenizer`, `zero_shot_ner` and `ner_converter` stages. As you can see, we don't use any embeddings model, because it is already included in the `ZeroShotNerModel` model\n",
        "\n",
        "We then create a dictionary with the questions for detecting these entities and the labels that we want to see in the result. Then we provided this dictionary to the model by using setEntityDefinitions parameter.For example; we want to detect `PROBLEM`, `DRUG`, `PATIENT_AGE` and `ADMISSION_DATE` , `DIAGNOSIS`, `SYMPTOMS` entities\n"
      ]
    },
    {
      "cell_type": "code",
      "execution_count": null,
      "metadata": {
        "id": "DEa5SITBxmY0",
        "colab": {
          "base_uri": "https://localhost:8080/"
        },
        "outputId": "36bfb378-357f-4715-e792-49d5d83f1a8d"
      },
      "outputs": [
        {
          "output_type": "stream",
          "name": "stdout",
          "text": [
            "zero_shot_ner_roberta download started this may take some time.\n",
            "Approximate size to download 438.9 MB\n",
            "[OK!]\n"
          ]
        }
      ],
      "source": [
        "documentAssembler = nlp.DocumentAssembler() \\\n",
        "    .setInputCol(\"text\") \\\n",
        "    .setOutputCol(\"document\")\n",
        "\n",
        "sentenceDetector = nlp.SentenceDetector() \\\n",
        "    .setInputCols([\"document\"]) \\\n",
        "    .setOutputCol(\"sentence\")\n",
        "\n",
        "tokenizer = nlp.Tokenizer() \\\n",
        "    .setInputCols([\"sentence\"]) \\\n",
        "    .setOutputCol(\"token\")\n",
        "\n",
        "zero_shot_ner = medical.ZeroShotNerModel.pretrained(\"zero_shot_ner_roberta\", \"en\", \"clinical/models\")\\\n",
        "    .setEntityDefinitions(\n",
        "        {\n",
        "            \"PROBLEM\": [\"What is the disease?\", \"What is his symptom?\", \"What is her disease?\", \"What is his disease?\",\n",
        "                        \"What is the problem?\" ,\"What does a patient suffer\", 'What was the reason that the patient is admitted to the clinic?'],\n",
        "            \"DRUG\": [\"Which drug?\", \"Which is the drug?\", \"What is the drug?\", \"Which drug does he use?\", \"Which drug does she use?\", \"Which drug do I use?\", \"Which drug is prescribed for a symptom?\"],\n",
        "            \"ADMISSION_DATE\": [\"When did patient admitted to a clinic?\"],\n",
        "            \"PATIENT_AGE\": [\"How old is the patient?\",'What is the gae of the patient?'],\n",
        "            \"DIAGNOSIS\": [\"What was the final diagnosis?\" ,\"What were the primary and secondary diagnoses?\", \"What is the suspected diagnosis?\",\n",
        "                           \"What other diagnoses were considered?\"],\n",
        "            \"SYMPTOMS\" : [\"What are the patient's symptoms?\", \"What are the presenting symptoms?\", \"What other symptoms are present?\"]\n",
        "\n",
        "        })\\\n",
        "    .setInputCols([\"sentence\", \"token\"])\\\n",
        "    .setOutputCol(\"zero_shot_ner\")\\\n",
        "    .setPredictionThreshold(0.1) # default 0.01\n",
        "\n",
        "ner_converter = medical.NerConverterInternal()\\\n",
        "    .setInputCols([\"sentence\", \"token\", \"zero_shot_ner\"])\\\n",
        "    .setOutputCol(\"ner_chunk\")\\\n",
        "\n",
        "pipeline = nlp.Pipeline(stages = [\n",
        "    documentAssembler,\n",
        "    sentenceDetector,\n",
        "    tokenizer,\n",
        "    zero_shot_ner,\n",
        "    ner_converter])\n",
        "\n",
        "ner_model = pipeline.fit(spark.createDataFrame([[\"\"]]).toDF(\"text\"))"
      ]
    },
    {
      "cell_type": "code",
      "execution_count": null,
      "metadata": {
        "colab": {
          "base_uri": "https://localhost:8080/"
        },
        "id": "0XXEZx92LtKh",
        "outputId": "4f8d3c75-5b8a-4de8-bdce-27ff068fac82"
      },
      "outputs": [
        {
          "output_type": "execute_result",
          "data": {
            "text/plain": [
              "['PATIENT_AGE', 'PROBLEM', 'ADMISSION_DATE', 'DRUG', 'DIAGNOSIS', 'SYMPTOMS']"
            ]
          },
          "metadata": {},
          "execution_count": 8
        }
      ],
      "source": [
        "zero_shot_ner.getClasses()"
      ]
    },
    {
      "cell_type": "code",
      "execution_count": null,
      "metadata": {
        "colab": {
          "base_uri": "https://localhost:8080/"
        },
        "id": "rPO8wgprvai_",
        "outputId": "b92986c8-316e-4573-fdec-39161ce3700e"
      },
      "outputs": [
        {
          "output_type": "execute_result",
          "data": {
            "text/plain": [
              "{Param(parent='ZeroShotNerModel_6958705ca1c8', name='lazyAnnotator', doc='Whether this AnnotatorModel acts as lazy in RecursivePipelines'): False,\n",
              " Param(parent='ZeroShotNerModel_6958705ca1c8', name='batchSize', doc='Size of every batch'): 8,\n",
              " Param(parent='ZeroShotNerModel_6958705ca1c8', name='maxSentenceLength', doc='Max sentence length to process'): 512,\n",
              " Param(parent='ZeroShotNerModel_6958705ca1c8', name='caseSensitive', doc='whether to ignore case in tokens for embeddings matching'): True,\n",
              " Param(parent='ZeroShotNerModel_6958705ca1c8', name='predictionThreshold', doc='Minimal confidence score to encode an entity (default is 0.1)'): 0.1,\n",
              " Param(parent='ZeroShotNerModel_6958705ca1c8', name='ignoreEntities', doc='List of entities to ignore'): [],\n",
              " Param(parent='ZeroShotNerModel_6958705ca1c8', name='engine', doc='Deep Learning engine used for this model'): 'tensorflow',\n",
              " Param(parent='ZeroShotNerModel_6958705ca1c8', name='inputCols', doc='previous annotations columns, if renamed'): ['sentence',\n",
              "  'token'],\n",
              " Param(parent='ZeroShotNerModel_6958705ca1c8', name='outputCol', doc='output annotation column. can be left default.'): 'zero_shot_ner'}"
            ]
          },
          "metadata": {},
          "execution_count": 9
        }
      ],
      "source": [
        "zero_shot_ner.extractParamMap()"
      ]
    },
    {
      "cell_type": "code",
      "execution_count": null,
      "metadata": {
        "colab": {
          "base_uri": "https://localhost:8080/"
        },
        "id": "gGjoRR5Bvj-U",
        "outputId": "cda44e54-a457-4041-d339-2283b792badb"
      },
      "outputs": [
        {
          "output_type": "execute_result",
          "data": {
            "text/plain": [
              "0.1"
            ]
          },
          "metadata": {},
          "execution_count": 10
        }
      ],
      "source": [
        "zero_shot_ner.getPredictionThreshold()"
      ]
    },
    {
      "cell_type": "code",
      "execution_count": null,
      "metadata": {
        "id": "ZrZgkyUfxb-j"
      },
      "outputs": [],
      "source": [
        "text_list = [\"The doctor pescribed Majezik for my severe headache.\",\n",
        "             \"The patient was admitted to the hospital for his colon cancer.\",\n",
        "             \"27 years old patient was admitted to clinic on Sep 1st by Dr. X for a right-sided pleural effusion for thoracentesis.\"\n",
        "            ]\n",
        "\n",
        "data = spark.createDataFrame(text_list, nlp.StringType()).toDF(\"text\")\n",
        "\n",
        "results = ner_model.transform(data)"
      ]
    },
    {
      "cell_type": "code",
      "execution_count": null,
      "metadata": {
        "colab": {
          "base_uri": "https://localhost:8080/"
        },
        "id": "DHC3kvfIF2tm",
        "outputId": "b08dc937-5831-4259-8df4-c3737dad419b"
      },
      "outputs": [
        {
          "output_type": "stream",
          "name": "stdout",
          "text": [
            "+--------------------+--------------------+--------------------+--------------------+--------------------+--------------------+\n",
            "|                text|            document|            sentence|               token|       zero_shot_ner|           ner_chunk|\n",
            "+--------------------+--------------------+--------------------+--------------------+--------------------+--------------------+\n",
            "|The doctor pescri...|[{document, 0, 51...|[{document, 0, 51...|[{token, 0, 2, Th...|[{named_entity, 0...|[{chunk, 21, 27, ...|\n",
            "|The patient was a...|[{document, 0, 61...|[{document, 0, 61...|[{token, 0, 2, Th...|[{named_entity, 0...|[{chunk, 49, 60, ...|\n",
            "|27 years old pati...|[{document, 0, 11...|[{document, 0, 11...|[{token, 0, 1, 27...|[{named_entity, 0...|[{chunk, 0, 11, 2...|\n",
            "+--------------------+--------------------+--------------------+--------------------+--------------------+--------------------+\n",
            "\n"
          ]
        }
      ],
      "source": [
        "results.show()"
      ]
    },
    {
      "cell_type": "markdown",
      "metadata": {
        "id": "MsDuQg95s5Qf"
      },
      "source": [
        "Checking the NER model results."
      ]
    },
    {
      "cell_type": "code",
      "execution_count": null,
      "metadata": {
        "colab": {
          "base_uri": "https://localhost:8080/"
        },
        "id": "OGBHfjMVUoCu",
        "outputId": "57661060-d5a4-48ef-8c87-20dabb707f13"
      },
      "outputs": [
        {
          "output_type": "stream",
          "name": "stdout",
          "text": [
            "+-------------+----------------+--------+-----+---+----------+---------------------------------------------------------------+\n",
            "|word         |result          |sentence|begin|end|confidence|question                                                       |\n",
            "+-------------+----------------+--------+-----+---+----------+---------------------------------------------------------------+\n",
            "|The          |O               |0       |0    |2  |null      |null                                                           |\n",
            "|doctor       |O               |0       |4    |9  |null      |null                                                           |\n",
            "|pescribed    |O               |0       |11   |19 |null      |null                                                           |\n",
            "|Majezik      |B-DRUG          |0       |21   |27 |0.64671576|Which drug is prescribed for a symptom?                        |\n",
            "|for          |O               |0       |29   |31 |null      |null                                                           |\n",
            "|my           |O               |0       |33   |34 |null      |null                                                           |\n",
            "|severe       |B-DIAGNOSIS     |0       |36   |41 |0.5963669 |What is the suspected diagnosis?                               |\n",
            "|headache     |I-DIAGNOSIS     |0       |43   |50 |0.5963669 |What is the suspected diagnosis?                               |\n",
            "|.            |O               |0       |51   |51 |null      |null                                                           |\n",
            "|The          |O               |0       |0    |2  |null      |null                                                           |\n",
            "|patient      |O               |0       |4    |10 |null      |null                                                           |\n",
            "|was          |O               |0       |12   |14 |null      |null                                                           |\n",
            "|admitted     |O               |0       |16   |23 |null      |null                                                           |\n",
            "|to           |O               |0       |25   |26 |null      |null                                                           |\n",
            "|the          |O               |0       |28   |30 |null      |null                                                           |\n",
            "|hospital     |O               |0       |32   |39 |null      |null                                                           |\n",
            "|for          |O               |0       |41   |43 |null      |null                                                           |\n",
            "|his          |O               |0       |45   |47 |null      |null                                                           |\n",
            "|colon        |B-PROBLEM       |0       |49   |53 |0.8898498 |What is his disease?                                           |\n",
            "|cancer       |I-PROBLEM       |0       |55   |60 |0.8898498 |What is his disease?                                           |\n",
            "|.            |O               |0       |61   |61 |null      |null                                                           |\n",
            "|27           |B-PATIENT_AGE   |0       |0    |1  |0.6943085 |How old is the patient?                                        |\n",
            "|years        |I-PATIENT_AGE   |0       |3    |7  |0.6943085 |How old is the patient?                                        |\n",
            "|old          |I-PATIENT_AGE   |0       |9    |11 |0.6943085 |How old is the patient?                                        |\n",
            "|patient      |O               |0       |13   |19 |null      |null                                                           |\n",
            "|was          |O               |0       |21   |23 |null      |null                                                           |\n",
            "|admitted     |O               |0       |25   |32 |null      |null                                                           |\n",
            "|to           |O               |0       |34   |35 |null      |null                                                           |\n",
            "|clinic       |O               |0       |37   |42 |null      |null                                                           |\n",
            "|on           |O               |0       |44   |45 |null      |null                                                           |\n",
            "|Sep          |B-ADMISSION_DATE|0       |47   |49 |0.95646095|When did patient admitted to a clinic?                         |\n",
            "|1st          |I-ADMISSION_DATE|0       |51   |53 |0.95646095|When did patient admitted to a clinic?                         |\n",
            "|by           |O               |0       |55   |56 |null      |null                                                           |\n",
            "|Dr           |O               |0       |58   |59 |null      |null                                                           |\n",
            "|.            |O               |0       |60   |60 |null      |null                                                           |\n",
            "|X            |O               |0       |62   |62 |null      |null                                                           |\n",
            "|for          |O               |0       |64   |66 |null      |null                                                           |\n",
            "|a            |B-PROBLEM       |0       |68   |68 |0.50026613|What was the reason that the patient is admitted to the clinic?|\n",
            "|right-sided  |I-PROBLEM       |0       |70   |80 |0.50026613|What was the reason that the patient is admitted to the clinic?|\n",
            "|pleural      |I-PROBLEM       |0       |82   |88 |0.50026613|What was the reason that the patient is admitted to the clinic?|\n",
            "|effusion     |I-PROBLEM       |0       |90   |97 |0.50026613|What was the reason that the patient is admitted to the clinic?|\n",
            "|for          |I-PROBLEM       |0       |99   |101|0.50026613|What was the reason that the patient is admitted to the clinic?|\n",
            "|thoracentesis|I-PROBLEM       |0       |103  |115|0.50026613|What was the reason that the patient is admitted to the clinic?|\n",
            "|.            |O               |0       |116  |116|null      |null                                                           |\n",
            "+-------------+----------------+--------+-----+---+----------+---------------------------------------------------------------+\n",
            "\n"
          ]
        }
      ],
      "source": [
        "results\\\n",
        "    .selectExpr(\"explode(zero_shot_ner) AS entity\")\\\n",
        "    .select(\n",
        "        \"entity.metadata.word\",\n",
        "        \"entity.result\",\n",
        "        \"entity.metadata.sentence\",\n",
        "        \"entity.begin\",\n",
        "        \"entity.end\",\n",
        "        \"entity.metadata.confidence\",\n",
        "        \"entity.metadata.question\")\\\n",
        "    .show(100, truncate=False)"
      ]
    },
    {
      "cell_type": "code",
      "execution_count": null,
      "metadata": {
        "colab": {
          "base_uri": "https://localhost:8080/"
        },
        "id": "fSsq2qTSX2yd",
        "outputId": "cd1dbd7f-7faa-40ab-a273-88bfd319dade"
      },
      "outputs": [
        {
          "output_type": "stream",
          "name": "stdout",
          "text": [
            "+-------------+----------------+--------+-----+---+----------+\n",
            "|        token|       ner_label|sentence|begin|end|confidence|\n",
            "+-------------+----------------+--------+-----+---+----------+\n",
            "|          The|               O|       0|    0|  2|      null|\n",
            "|       doctor|               O|       0|    4|  9|      null|\n",
            "|    pescribed|               O|       0|   11| 19|      null|\n",
            "|      Majezik|          B-DRUG|       0|   21| 27|0.64671576|\n",
            "|          for|               O|       0|   29| 31|      null|\n",
            "|           my|               O|       0|   33| 34|      null|\n",
            "|       severe|     B-DIAGNOSIS|       0|   36| 41| 0.5963669|\n",
            "|     headache|     I-DIAGNOSIS|       0|   43| 50| 0.5963669|\n",
            "|            .|               O|       0|   51| 51|      null|\n",
            "|          The|               O|       0|    0|  2|      null|\n",
            "|      patient|               O|       0|    4| 10|      null|\n",
            "|          was|               O|       0|   12| 14|      null|\n",
            "|     admitted|               O|       0|   16| 23|      null|\n",
            "|           to|               O|       0|   25| 26|      null|\n",
            "|          the|               O|       0|   28| 30|      null|\n",
            "|     hospital|               O|       0|   32| 39|      null|\n",
            "|          for|               O|       0|   41| 43|      null|\n",
            "|          his|               O|       0|   45| 47|      null|\n",
            "|        colon|       B-PROBLEM|       0|   49| 53| 0.8898498|\n",
            "|       cancer|       I-PROBLEM|       0|   55| 60| 0.8898498|\n",
            "|            .|               O|       0|   61| 61|      null|\n",
            "|           27|   B-PATIENT_AGE|       0|    0|  1| 0.6943085|\n",
            "|        years|   I-PATIENT_AGE|       0|    3|  7| 0.6943085|\n",
            "|          old|   I-PATIENT_AGE|       0|    9| 11| 0.6943085|\n",
            "|      patient|               O|       0|   13| 19|      null|\n",
            "|          was|               O|       0|   21| 23|      null|\n",
            "|     admitted|               O|       0|   25| 32|      null|\n",
            "|           to|               O|       0|   34| 35|      null|\n",
            "|       clinic|               O|       0|   37| 42|      null|\n",
            "|           on|               O|       0|   44| 45|      null|\n",
            "|          Sep|B-ADMISSION_DATE|       0|   47| 49|0.95646095|\n",
            "|          1st|I-ADMISSION_DATE|       0|   51| 53|0.95646095|\n",
            "|           by|               O|       0|   55| 56|      null|\n",
            "|           Dr|               O|       0|   58| 59|      null|\n",
            "|            .|               O|       0|   60| 60|      null|\n",
            "|            X|               O|       0|   62| 62|      null|\n",
            "|          for|               O|       0|   64| 66|      null|\n",
            "|            a|       B-PROBLEM|       0|   68| 68|0.50026613|\n",
            "|  right-sided|       I-PROBLEM|       0|   70| 80|0.50026613|\n",
            "|      pleural|       I-PROBLEM|       0|   82| 88|0.50026613|\n",
            "|     effusion|       I-PROBLEM|       0|   90| 97|0.50026613|\n",
            "|          for|       I-PROBLEM|       0|   99|101|0.50026613|\n",
            "|thoracentesis|       I-PROBLEM|       0|  103|115|0.50026613|\n",
            "|            .|               O|       0|  116|116|      null|\n",
            "+-------------+----------------+--------+-----+---+----------+\n",
            "\n"
          ]
        }
      ],
      "source": [
        "results.select(F.explode(F.arrays_zip(results.token.result,\n",
        "                                      results.zero_shot_ner.result,\n",
        "                                      results.zero_shot_ner.metadata,\n",
        "                                      results.zero_shot_ner.begin,\n",
        "                                      results.zero_shot_ner.end)).alias(\"cols\"))\\\n",
        "       .select(F.expr(\"cols['0']\").alias(\"token\"),\n",
        "               F.expr(\"cols['1']\").alias(\"ner_label\"),\n",
        "               F.expr(\"cols['2']['sentence']\").alias(\"sentence\"),\n",
        "               F.expr(\"cols['3']\").alias(\"begin\"),\n",
        "               F.expr(\"cols['4']\").alias(\"end\"),\n",
        "               F.expr(\"cols['2']['confidence']\").alias(\"confidence\")).show(50, truncate=100)"
      ]
    },
    {
      "cell_type": "markdown",
      "metadata": {
        "id": "z7iMeSens9XU"
      },
      "source": [
        "Checking the NER chunks."
      ]
    },
    {
      "cell_type": "code",
      "execution_count": null,
      "metadata": {
        "colab": {
          "base_uri": "https://localhost:8080/"
        },
        "id": "5uBnSe0--_Tn",
        "outputId": "859ee7b3-2200-475b-837e-7c792506d6ce"
      },
      "outputs": [
        {
          "output_type": "stream",
          "name": "stdout",
          "text": [
            "+-------------------------------------------------------------------------------------------------------------------------------------------------------------------------+\n",
            "|col                                                                                                                                                                      |\n",
            "+-------------------------------------------------------------------------------------------------------------------------------------------------------------------------+\n",
            "|{chunk, 21, 27, Majezik, {chunk -> 0, confidence -> 0.64671576, ner_source -> ner_chunk, entity -> DRUG, sentence -> 0}, []}                                             |\n",
            "|{chunk, 36, 50, severe headache, {chunk -> 1, confidence -> 0.5963669, ner_source -> ner_chunk, entity -> DIAGNOSIS, sentence -> 0}, []}                                 |\n",
            "|{chunk, 49, 60, colon cancer, {chunk -> 0, confidence -> 0.8898498, ner_source -> ner_chunk, entity -> PROBLEM, sentence -> 0}, []}                                      |\n",
            "|{chunk, 0, 11, 27 years old, {chunk -> 0, confidence -> 0.6943085, ner_source -> ner_chunk, entity -> PATIENT_AGE, sentence -> 0}, []}                                   |\n",
            "|{chunk, 47, 53, Sep 1st, {chunk -> 1, confidence -> 0.95646095, ner_source -> ner_chunk, entity -> ADMISSION_DATE, sentence -> 0}, []}                                   |\n",
            "|{chunk, 68, 115, a right-sided pleural effusion for thoracentesis, {chunk -> 2, confidence -> 0.50026613, ner_source -> ner_chunk, entity -> PROBLEM, sentence -> 0}, []}|\n",
            "+-------------------------------------------------------------------------------------------------------------------------------------------------------------------------+\n",
            "\n"
          ]
        }
      ],
      "source": [
        "results.selectExpr(\"explode(ner_chunk)\").show(100, truncate=False)"
      ]
    },
    {
      "cell_type": "code",
      "execution_count": null,
      "metadata": {
        "colab": {
          "base_uri": "https://localhost:8080/"
        },
        "id": "uzkwbP21ydAK",
        "outputId": "13c06cb2-f477-4eab-b247-f1012d2ae8ae"
      },
      "outputs": [
        {
          "output_type": "stream",
          "name": "stdout",
          "text": [
            "+------------------------------------------------+--------------+----------+\n",
            "|                                           chunk|     ner_label|confidence|\n",
            "+------------------------------------------------+--------------+----------+\n",
            "|                                         Majezik|          DRUG|0.64671576|\n",
            "|                                 severe headache|     DIAGNOSIS| 0.5963669|\n",
            "|                                    colon cancer|       PROBLEM| 0.8898498|\n",
            "|                                    27 years old|   PATIENT_AGE| 0.6943085|\n",
            "|                                         Sep 1st|ADMISSION_DATE|0.95646095|\n",
            "|a right-sided pleural effusion for thoracentesis|       PROBLEM|0.50026613|\n",
            "+------------------------------------------------+--------------+----------+\n",
            "\n"
          ]
        }
      ],
      "source": [
        "results.select(F.explode(F.arrays_zip(results.ner_chunk.result,\n",
        "                                      results.ner_chunk.metadata)).alias(\"cols\"))\\\n",
        "       .select(F.expr(\"cols['0']\").alias(\"chunk\"),\n",
        "               F.expr(\"cols['1']['entity']\").alias(\"ner_label\"),\n",
        "               F.expr(\"cols['1']['confidence']\").alias(\"confidence\")).show(50, truncate=100)"
      ]
    },
    {
      "cell_type": "markdown",
      "metadata": {
        "id": "loYjPzwKx5zW"
      },
      "source": [
        "## LightPipelines"
      ]
    },
    {
      "cell_type": "code",
      "execution_count": null,
      "metadata": {
        "colab": {
          "base_uri": "https://localhost:8080/",
          "height": 178
        },
        "id": "Z5q0BojoAsu3",
        "outputId": "5de181af-38dc-4fa7-ee43-7bc11a75937a"
      },
      "outputs": [
        {
          "output_type": "stream",
          "name": "stdout",
          "text": [
            "27 years old patient was admitted to clinic on Sep 1st by Dr. X for a right-sided pleural effusion for thoracentesis. \n",
            "\n"
          ]
        },
        {
          "output_type": "execute_result",
          "data": {
            "text/plain": [
              "                                             chunks  begin  end sentence_id  \\\n",
              "0                                      27 years old      0   11           0   \n",
              "1                                           Sep 1st     47   53           0   \n",
              "2  a right-sided pleural effusion for thoracentesis     68  115           0   \n",
              "\n",
              "         entities  \n",
              "0     PATIENT_AGE  \n",
              "1  ADMISSION_DATE  \n",
              "2         PROBLEM  "
            ],
            "text/html": [
              "\n",
              "  <div id=\"df-ec236974-3727-4cb2-b2fb-402a8e26b428\" class=\"colab-df-container\">\n",
              "    <div>\n",
              "<style scoped>\n",
              "    .dataframe tbody tr th:only-of-type {\n",
              "        vertical-align: middle;\n",
              "    }\n",
              "\n",
              "    .dataframe tbody tr th {\n",
              "        vertical-align: top;\n",
              "    }\n",
              "\n",
              "    .dataframe thead th {\n",
              "        text-align: right;\n",
              "    }\n",
              "</style>\n",
              "<table border=\"1\" class=\"dataframe\">\n",
              "  <thead>\n",
              "    <tr style=\"text-align: right;\">\n",
              "      <th></th>\n",
              "      <th>chunks</th>\n",
              "      <th>begin</th>\n",
              "      <th>end</th>\n",
              "      <th>sentence_id</th>\n",
              "      <th>entities</th>\n",
              "    </tr>\n",
              "  </thead>\n",
              "  <tbody>\n",
              "    <tr>\n",
              "      <th>0</th>\n",
              "      <td>27 years old</td>\n",
              "      <td>0</td>\n",
              "      <td>11</td>\n",
              "      <td>0</td>\n",
              "      <td>PATIENT_AGE</td>\n",
              "    </tr>\n",
              "    <tr>\n",
              "      <th>1</th>\n",
              "      <td>Sep 1st</td>\n",
              "      <td>47</td>\n",
              "      <td>53</td>\n",
              "      <td>0</td>\n",
              "      <td>ADMISSION_DATE</td>\n",
              "    </tr>\n",
              "    <tr>\n",
              "      <th>2</th>\n",
              "      <td>a right-sided pleural effusion for thoracentesis</td>\n",
              "      <td>68</td>\n",
              "      <td>115</td>\n",
              "      <td>0</td>\n",
              "      <td>PROBLEM</td>\n",
              "    </tr>\n",
              "  </tbody>\n",
              "</table>\n",
              "</div>\n",
              "    <div class=\"colab-df-buttons\">\n",
              "\n",
              "  <div class=\"colab-df-container\">\n",
              "    <button class=\"colab-df-convert\" onclick=\"convertToInteractive('df-ec236974-3727-4cb2-b2fb-402a8e26b428')\"\n",
              "            title=\"Convert this dataframe to an interactive table.\"\n",
              "            style=\"display:none;\">\n",
              "\n",
              "  <svg xmlns=\"http://www.w3.org/2000/svg\" height=\"24px\" viewBox=\"0 -960 960 960\">\n",
              "    <path d=\"M120-120v-720h720v720H120Zm60-500h600v-160H180v160Zm220 220h160v-160H400v160Zm0 220h160v-160H400v160ZM180-400h160v-160H180v160Zm440 0h160v-160H620v160ZM180-180h160v-160H180v160Zm440 0h160v-160H620v160Z\"/>\n",
              "  </svg>\n",
              "    </button>\n",
              "\n",
              "  <style>\n",
              "    .colab-df-container {\n",
              "      display:flex;\n",
              "      gap: 12px;\n",
              "    }\n",
              "\n",
              "    .colab-df-convert {\n",
              "      background-color: #E8F0FE;\n",
              "      border: none;\n",
              "      border-radius: 50%;\n",
              "      cursor: pointer;\n",
              "      display: none;\n",
              "      fill: #1967D2;\n",
              "      height: 32px;\n",
              "      padding: 0 0 0 0;\n",
              "      width: 32px;\n",
              "    }\n",
              "\n",
              "    .colab-df-convert:hover {\n",
              "      background-color: #E2EBFA;\n",
              "      box-shadow: 0px 1px 2px rgba(60, 64, 67, 0.3), 0px 1px 3px 1px rgba(60, 64, 67, 0.15);\n",
              "      fill: #174EA6;\n",
              "    }\n",
              "\n",
              "    .colab-df-buttons div {\n",
              "      margin-bottom: 4px;\n",
              "    }\n",
              "\n",
              "    [theme=dark] .colab-df-convert {\n",
              "      background-color: #3B4455;\n",
              "      fill: #D2E3FC;\n",
              "    }\n",
              "\n",
              "    [theme=dark] .colab-df-convert:hover {\n",
              "      background-color: #434B5C;\n",
              "      box-shadow: 0px 1px 3px 1px rgba(0, 0, 0, 0.15);\n",
              "      filter: drop-shadow(0px 1px 2px rgba(0, 0, 0, 0.3));\n",
              "      fill: #FFFFFF;\n",
              "    }\n",
              "  </style>\n",
              "\n",
              "    <script>\n",
              "      const buttonEl =\n",
              "        document.querySelector('#df-ec236974-3727-4cb2-b2fb-402a8e26b428 button.colab-df-convert');\n",
              "      buttonEl.style.display =\n",
              "        google.colab.kernel.accessAllowed ? 'block' : 'none';\n",
              "\n",
              "      async function convertToInteractive(key) {\n",
              "        const element = document.querySelector('#df-ec236974-3727-4cb2-b2fb-402a8e26b428');\n",
              "        const dataTable =\n",
              "          await google.colab.kernel.invokeFunction('convertToInteractive',\n",
              "                                                    [key], {});\n",
              "        if (!dataTable) return;\n",
              "\n",
              "        const docLinkHtml = 'Like what you see? Visit the ' +\n",
              "          '<a target=\"_blank\" href=https://colab.research.google.com/notebooks/data_table.ipynb>data table notebook</a>'\n",
              "          + ' to learn more about interactive tables.';\n",
              "        element.innerHTML = '';\n",
              "        dataTable['output_type'] = 'display_data';\n",
              "        await google.colab.output.renderOutput(dataTable, element);\n",
              "        const docLink = document.createElement('div');\n",
              "        docLink.innerHTML = docLinkHtml;\n",
              "        element.appendChild(docLink);\n",
              "      }\n",
              "    </script>\n",
              "  </div>\n",
              "\n",
              "\n",
              "<div id=\"df-656683e3-e7f3-4cbd-adfa-125263358ac4\">\n",
              "  <button class=\"colab-df-quickchart\" onclick=\"quickchart('df-656683e3-e7f3-4cbd-adfa-125263358ac4')\"\n",
              "            title=\"Suggest charts\"\n",
              "            style=\"display:none;\">\n",
              "\n",
              "<svg xmlns=\"http://www.w3.org/2000/svg\" height=\"24px\"viewBox=\"0 0 24 24\"\n",
              "     width=\"24px\">\n",
              "    <g>\n",
              "        <path d=\"M19 3H5c-1.1 0-2 .9-2 2v14c0 1.1.9 2 2 2h14c1.1 0 2-.9 2-2V5c0-1.1-.9-2-2-2zM9 17H7v-7h2v7zm4 0h-2V7h2v10zm4 0h-2v-4h2v4z\"/>\n",
              "    </g>\n",
              "</svg>\n",
              "  </button>\n",
              "\n",
              "<style>\n",
              "  .colab-df-quickchart {\n",
              "      --bg-color: #E8F0FE;\n",
              "      --fill-color: #1967D2;\n",
              "      --hover-bg-color: #E2EBFA;\n",
              "      --hover-fill-color: #174EA6;\n",
              "      --disabled-fill-color: #AAA;\n",
              "      --disabled-bg-color: #DDD;\n",
              "  }\n",
              "\n",
              "  [theme=dark] .colab-df-quickchart {\n",
              "      --bg-color: #3B4455;\n",
              "      --fill-color: #D2E3FC;\n",
              "      --hover-bg-color: #434B5C;\n",
              "      --hover-fill-color: #FFFFFF;\n",
              "      --disabled-bg-color: #3B4455;\n",
              "      --disabled-fill-color: #666;\n",
              "  }\n",
              "\n",
              "  .colab-df-quickchart {\n",
              "    background-color: var(--bg-color);\n",
              "    border: none;\n",
              "    border-radius: 50%;\n",
              "    cursor: pointer;\n",
              "    display: none;\n",
              "    fill: var(--fill-color);\n",
              "    height: 32px;\n",
              "    padding: 0;\n",
              "    width: 32px;\n",
              "  }\n",
              "\n",
              "  .colab-df-quickchart:hover {\n",
              "    background-color: var(--hover-bg-color);\n",
              "    box-shadow: 0 1px 2px rgba(60, 64, 67, 0.3), 0 1px 3px 1px rgba(60, 64, 67, 0.15);\n",
              "    fill: var(--button-hover-fill-color);\n",
              "  }\n",
              "\n",
              "  .colab-df-quickchart-complete:disabled,\n",
              "  .colab-df-quickchart-complete:disabled:hover {\n",
              "    background-color: var(--disabled-bg-color);\n",
              "    fill: var(--disabled-fill-color);\n",
              "    box-shadow: none;\n",
              "  }\n",
              "\n",
              "  .colab-df-spinner {\n",
              "    border: 2px solid var(--fill-color);\n",
              "    border-color: transparent;\n",
              "    border-bottom-color: var(--fill-color);\n",
              "    animation:\n",
              "      spin 1s steps(1) infinite;\n",
              "  }\n",
              "\n",
              "  @keyframes spin {\n",
              "    0% {\n",
              "      border-color: transparent;\n",
              "      border-bottom-color: var(--fill-color);\n",
              "      border-left-color: var(--fill-color);\n",
              "    }\n",
              "    20% {\n",
              "      border-color: transparent;\n",
              "      border-left-color: var(--fill-color);\n",
              "      border-top-color: var(--fill-color);\n",
              "    }\n",
              "    30% {\n",
              "      border-color: transparent;\n",
              "      border-left-color: var(--fill-color);\n",
              "      border-top-color: var(--fill-color);\n",
              "      border-right-color: var(--fill-color);\n",
              "    }\n",
              "    40% {\n",
              "      border-color: transparent;\n",
              "      border-right-color: var(--fill-color);\n",
              "      border-top-color: var(--fill-color);\n",
              "    }\n",
              "    60% {\n",
              "      border-color: transparent;\n",
              "      border-right-color: var(--fill-color);\n",
              "    }\n",
              "    80% {\n",
              "      border-color: transparent;\n",
              "      border-right-color: var(--fill-color);\n",
              "      border-bottom-color: var(--fill-color);\n",
              "    }\n",
              "    90% {\n",
              "      border-color: transparent;\n",
              "      border-bottom-color: var(--fill-color);\n",
              "    }\n",
              "  }\n",
              "</style>\n",
              "\n",
              "  <script>\n",
              "    async function quickchart(key) {\n",
              "      const quickchartButtonEl =\n",
              "        document.querySelector('#' + key + ' button');\n",
              "      quickchartButtonEl.disabled = true;  // To prevent multiple clicks.\n",
              "      quickchartButtonEl.classList.add('colab-df-spinner');\n",
              "      try {\n",
              "        const charts = await google.colab.kernel.invokeFunction(\n",
              "            'suggestCharts', [key], {});\n",
              "      } catch (error) {\n",
              "        console.error('Error during call to suggestCharts:', error);\n",
              "      }\n",
              "      quickchartButtonEl.classList.remove('colab-df-spinner');\n",
              "      quickchartButtonEl.classList.add('colab-df-quickchart-complete');\n",
              "    }\n",
              "    (() => {\n",
              "      let quickchartButtonEl =\n",
              "        document.querySelector('#df-656683e3-e7f3-4cbd-adfa-125263358ac4 button');\n",
              "      quickchartButtonEl.style.display =\n",
              "        google.colab.kernel.accessAllowed ? 'block' : 'none';\n",
              "    })();\n",
              "  </script>\n",
              "</div>\n",
              "    </div>\n",
              "  </div>\n"
            ]
          },
          "metadata": {},
          "execution_count": 17
        }
      ],
      "source": [
        "import pandas as pd\n",
        "\n",
        "# fullAnnotate in LightPipeline\n",
        "print (text_list[-1], \"\\n\")\n",
        "\n",
        "light_model = nlp.LightPipeline(ner_model)\n",
        "light_result = light_model.fullAnnotate(text_list[-1])\n",
        "\n",
        "chunks = []\n",
        "entities = []\n",
        "sentence= []\n",
        "begin = []\n",
        "end = []\n",
        "\n",
        "for n in light_result[0]['ner_chunk']:\n",
        "\n",
        "    begin.append(n.begin)\n",
        "    end.append(n.end)\n",
        "    chunks.append(n.result)\n",
        "    entities.append(n.metadata['entity'])\n",
        "    sentence.append(n.metadata['sentence'])\n",
        "\n",
        "\n",
        "\n",
        "df_clinical = pd.DataFrame({'chunks':chunks, 'begin': begin, 'end':end,\n",
        "                   'sentence_id':sentence, 'entities':entities})\n",
        "\n",
        "df_clinical.head(20)"
      ]
    },
    {
      "cell_type": "code",
      "execution_count": null,
      "metadata": {
        "colab": {
          "base_uri": "https://localhost:8080/"
        },
        "id": "-r7yfZitmbPT",
        "outputId": "514d777e-02bb-4cdc-bb2f-981cb4bbe87f"
      },
      "outputs": [
        {
          "output_type": "execute_result",
          "data": {
            "text/plain": [
              "{'zero_shot_ner': [Annotation(named_entity, 0, 1, B-PATIENT_AGE, {'sentence': '0', 'word': '27', 'confidence': '0.6943085', 'question': 'How old is the patient?'}, []),\n",
              "  Annotation(named_entity, 3, 7, I-PATIENT_AGE, {'sentence': '0', 'word': 'years', 'confidence': '0.6943085', 'question': 'How old is the patient?'}, []),\n",
              "  Annotation(named_entity, 9, 11, I-PATIENT_AGE, {'sentence': '0', 'word': 'old', 'confidence': '0.6943085', 'question': 'How old is the patient?'}, []),\n",
              "  Annotation(named_entity, 13, 19, O, {'sentence': '0', 'word': 'patient'}, []),\n",
              "  Annotation(named_entity, 21, 23, O, {'sentence': '0', 'word': 'was'}, []),\n",
              "  Annotation(named_entity, 25, 32, O, {'sentence': '0', 'word': 'admitted'}, []),\n",
              "  Annotation(named_entity, 34, 35, O, {'sentence': '0', 'word': 'to'}, []),\n",
              "  Annotation(named_entity, 37, 42, O, {'sentence': '0', 'word': 'clinic'}, []),\n",
              "  Annotation(named_entity, 44, 45, O, {'sentence': '0', 'word': 'on'}, []),\n",
              "  Annotation(named_entity, 47, 49, B-ADMISSION_DATE, {'sentence': '0', 'word': 'Sep', 'confidence': '0.95646095', 'question': 'When did patient admitted to a clinic?'}, []),\n",
              "  Annotation(named_entity, 51, 53, I-ADMISSION_DATE, {'sentence': '0', 'word': '1st', 'confidence': '0.95646095', 'question': 'When did patient admitted to a clinic?'}, []),\n",
              "  Annotation(named_entity, 55, 56, O, {'sentence': '0', 'word': 'by'}, []),\n",
              "  Annotation(named_entity, 58, 59, O, {'sentence': '0', 'word': 'Dr'}, []),\n",
              "  Annotation(named_entity, 60, 60, O, {'sentence': '0', 'word': '.'}, []),\n",
              "  Annotation(named_entity, 62, 62, O, {'sentence': '0', 'word': 'X'}, []),\n",
              "  Annotation(named_entity, 64, 66, O, {'sentence': '0', 'word': 'for'}, []),\n",
              "  Annotation(named_entity, 68, 68, B-PROBLEM, {'sentence': '0', 'word': 'a', 'confidence': '0.50026613', 'question': 'What was the reason that the patient is admitted to the clinic?'}, []),\n",
              "  Annotation(named_entity, 70, 80, I-PROBLEM, {'sentence': '0', 'word': 'right-sided', 'confidence': '0.50026613', 'question': 'What was the reason that the patient is admitted to the clinic?'}, []),\n",
              "  Annotation(named_entity, 82, 88, I-PROBLEM, {'sentence': '0', 'word': 'pleural', 'confidence': '0.50026613', 'question': 'What was the reason that the patient is admitted to the clinic?'}, []),\n",
              "  Annotation(named_entity, 90, 97, I-PROBLEM, {'sentence': '0', 'word': 'effusion', 'confidence': '0.50026613', 'question': 'What was the reason that the patient is admitted to the clinic?'}, []),\n",
              "  Annotation(named_entity, 99, 101, I-PROBLEM, {'sentence': '0', 'word': 'for', 'confidence': '0.50026613', 'question': 'What was the reason that the patient is admitted to the clinic?'}, []),\n",
              "  Annotation(named_entity, 103, 115, I-PROBLEM, {'sentence': '0', 'word': 'thoracentesis', 'confidence': '0.50026613', 'question': 'What was the reason that the patient is admitted to the clinic?'}, []),\n",
              "  Annotation(named_entity, 116, 116, O, {'sentence': '0', 'word': '.'}, [])],\n",
              " 'document': [Annotation(document, 0, 116, 27 years old patient was admitted to clinic on Sep 1st by Dr. X for a right-sided pleural effusion for thoracentesis., {}, [])],\n",
              " 'ner_chunk': [Annotation(chunk, 0, 11, 27 years old, {'chunk': '0', 'confidence': '0.6943085', 'ner_source': 'ner_chunk', 'entity': 'PATIENT_AGE', 'sentence': '0'}, []),\n",
              "  Annotation(chunk, 47, 53, Sep 1st, {'chunk': '1', 'confidence': '0.95646095', 'ner_source': 'ner_chunk', 'entity': 'ADMISSION_DATE', 'sentence': '0'}, []),\n",
              "  Annotation(chunk, 68, 115, a right-sided pleural effusion for thoracentesis, {'chunk': '2', 'confidence': '0.50026613', 'ner_source': 'ner_chunk', 'entity': 'PROBLEM', 'sentence': '0'}, [])],\n",
              " 'token': [Annotation(token, 0, 1, 27, {'sentence': '0'}, []),\n",
              "  Annotation(token, 3, 7, years, {'sentence': '0'}, []),\n",
              "  Annotation(token, 9, 11, old, {'sentence': '0'}, []),\n",
              "  Annotation(token, 13, 19, patient, {'sentence': '0'}, []),\n",
              "  Annotation(token, 21, 23, was, {'sentence': '0'}, []),\n",
              "  Annotation(token, 25, 32, admitted, {'sentence': '0'}, []),\n",
              "  Annotation(token, 34, 35, to, {'sentence': '0'}, []),\n",
              "  Annotation(token, 37, 42, clinic, {'sentence': '0'}, []),\n",
              "  Annotation(token, 44, 45, on, {'sentence': '0'}, []),\n",
              "  Annotation(token, 47, 49, Sep, {'sentence': '0'}, []),\n",
              "  Annotation(token, 51, 53, 1st, {'sentence': '0'}, []),\n",
              "  Annotation(token, 55, 56, by, {'sentence': '0'}, []),\n",
              "  Annotation(token, 58, 59, Dr, {'sentence': '0'}, []),\n",
              "  Annotation(token, 60, 60, ., {'sentence': '0'}, []),\n",
              "  Annotation(token, 62, 62, X, {'sentence': '0'}, []),\n",
              "  Annotation(token, 64, 66, for, {'sentence': '0'}, []),\n",
              "  Annotation(token, 68, 68, a, {'sentence': '0'}, []),\n",
              "  Annotation(token, 70, 80, right-sided, {'sentence': '0'}, []),\n",
              "  Annotation(token, 82, 88, pleural, {'sentence': '0'}, []),\n",
              "  Annotation(token, 90, 97, effusion, {'sentence': '0'}, []),\n",
              "  Annotation(token, 99, 101, for, {'sentence': '0'}, []),\n",
              "  Annotation(token, 103, 115, thoracentesis, {'sentence': '0'}, []),\n",
              "  Annotation(token, 116, 116, ., {'sentence': '0'}, [])],\n",
              " 'sentence': [Annotation(document, 0, 116, 27 years old patient was admitted to clinic on Sep 1st by Dr. X for a right-sided pleural effusion for thoracentesis., {'sentence': '0'}, [])]}"
            ]
          },
          "metadata": {},
          "execution_count": 18
        }
      ],
      "source": [
        "light_result[0]"
      ]
    },
    {
      "cell_type": "markdown",
      "metadata": {
        "id": "iQ1KUzkryBvz"
      },
      "source": [
        "### NER Visualizer"
      ]
    },
    {
      "cell_type": "code",
      "execution_count": null,
      "metadata": {
        "colab": {
          "base_uri": "https://localhost:8080/",
          "height": 230
        },
        "id": "Jh1zoknFybBO",
        "outputId": "83d894d0-0765-435f-f065-78182070f409"
      },
      "outputs": [
        {
          "output_type": "display_data",
          "data": {
            "text/plain": [
              "<IPython.core.display.HTML object>"
            ],
            "text/html": [
              "\n",
              "<style>\n",
              "    @import url('https://fonts.googleapis.com/css2?family=Montserrat:wght@300;400;500;600;700&display=swap');\n",
              "    @import url('https://fonts.googleapis.com/css2?family=Vistol Regular:wght@300;400;500;600;700&display=swap');\n",
              "    \n",
              "    .spark-nlp-display-scroll-entities {\n",
              "        border: 1px solid #E7EDF0;\n",
              "        border-radius: 3px;\n",
              "        text-align: justify;\n",
              "        \n",
              "    }\n",
              "    .spark-nlp-display-scroll-entities span {  \n",
              "        font-size: 14px;\n",
              "        line-height: 24px;\n",
              "        color: #536B76;\n",
              "        font-family: 'Montserrat', sans-serif !important;\n",
              "    }\n",
              "    \n",
              "    .spark-nlp-display-entity-wrapper{\n",
              "    \n",
              "        display: inline-grid;\n",
              "        text-align: center;\n",
              "        border-radius: 4px;\n",
              "        margin: 0 2px 5px 2px;\n",
              "        padding: 1px\n",
              "    }\n",
              "    .spark-nlp-display-entity-name{\n",
              "        font-size: 14px;\n",
              "        line-height: 24px;\n",
              "        font-family: 'Montserrat', sans-serif !important;\n",
              "        \n",
              "        background: #f1f2f3;\n",
              "        border-width: medium;\n",
              "        text-align: center;\n",
              "        \n",
              "        font-weight: 400;\n",
              "        \n",
              "        border-radius: 5px;\n",
              "        padding: 2px 5px;\n",
              "        display: block;\n",
              "        margin: 3px 2px;\n",
              "    \n",
              "    }\n",
              "    .spark-nlp-display-entity-type{\n",
              "        font-size: 14px;\n",
              "        line-height: 24px;\n",
              "        color: #ffffff;\n",
              "        font-family: 'Montserrat', sans-serif !important;\n",
              "        \n",
              "        text-transform: uppercase;\n",
              "        \n",
              "        font-weight: 500;\n",
              "\n",
              "        display: block;\n",
              "        padding: 3px 5px;\n",
              "    }\n",
              "    \n",
              "    .spark-nlp-display-entity-resolution{\n",
              "        font-size: 14px;\n",
              "        line-height: 24px;\n",
              "        color: #ffffff;\n",
              "        font-family: 'Vistol Regular', sans-serif !important;\n",
              "        \n",
              "        text-transform: uppercase;\n",
              "        \n",
              "        font-weight: 500;\n",
              "\n",
              "        display: block;\n",
              "        padding: 3px 5px;\n",
              "    }\n",
              "    \n",
              "    .spark-nlp-display-others{\n",
              "        font-size: 14px;\n",
              "        line-height: 24px;\n",
              "        font-family: 'Montserrat', sans-serif !important;\n",
              "        \n",
              "        font-weight: 400;\n",
              "    }\n",
              "\n",
              "</style>\n",
              " <span class=\"spark-nlp-display-others\" style=\"background-color: white\">The doctor pescribed </span><span class=\"spark-nlp-display-entity-wrapper\" style=\"background-color: #8B668B\"><span class=\"spark-nlp-display-entity-name\">Majezik </span><span class=\"spark-nlp-display-entity-type\">DRUG</span></span><span class=\"spark-nlp-display-others\" style=\"background-color: white\"> for my </span><span class=\"spark-nlp-display-entity-wrapper\" style=\"background-color: #b5a1c9\"><span class=\"spark-nlp-display-entity-name\">severe headache </span><span class=\"spark-nlp-display-entity-type\">DIAGNOSIS</span></span><span class=\"spark-nlp-display-others\" style=\"background-color: white\">.</span></div>"
            ]
          },
          "metadata": {}
        },
        {
          "output_type": "display_data",
          "data": {
            "text/plain": [
              "<IPython.core.display.HTML object>"
            ],
            "text/html": [
              "\n",
              "<style>\n",
              "    @import url('https://fonts.googleapis.com/css2?family=Montserrat:wght@300;400;500;600;700&display=swap');\n",
              "    @import url('https://fonts.googleapis.com/css2?family=Vistol Regular:wght@300;400;500;600;700&display=swap');\n",
              "    \n",
              "    .spark-nlp-display-scroll-entities {\n",
              "        border: 1px solid #E7EDF0;\n",
              "        border-radius: 3px;\n",
              "        text-align: justify;\n",
              "        \n",
              "    }\n",
              "    .spark-nlp-display-scroll-entities span {  \n",
              "        font-size: 14px;\n",
              "        line-height: 24px;\n",
              "        color: #536B76;\n",
              "        font-family: 'Montserrat', sans-serif !important;\n",
              "    }\n",
              "    \n",
              "    .spark-nlp-display-entity-wrapper{\n",
              "    \n",
              "        display: inline-grid;\n",
              "        text-align: center;\n",
              "        border-radius: 4px;\n",
              "        margin: 0 2px 5px 2px;\n",
              "        padding: 1px\n",
              "    }\n",
              "    .spark-nlp-display-entity-name{\n",
              "        font-size: 14px;\n",
              "        line-height: 24px;\n",
              "        font-family: 'Montserrat', sans-serif !important;\n",
              "        \n",
              "        background: #f1f2f3;\n",
              "        border-width: medium;\n",
              "        text-align: center;\n",
              "        \n",
              "        font-weight: 400;\n",
              "        \n",
              "        border-radius: 5px;\n",
              "        padding: 2px 5px;\n",
              "        display: block;\n",
              "        margin: 3px 2px;\n",
              "    \n",
              "    }\n",
              "    .spark-nlp-display-entity-type{\n",
              "        font-size: 14px;\n",
              "        line-height: 24px;\n",
              "        color: #ffffff;\n",
              "        font-family: 'Montserrat', sans-serif !important;\n",
              "        \n",
              "        text-transform: uppercase;\n",
              "        \n",
              "        font-weight: 500;\n",
              "\n",
              "        display: block;\n",
              "        padding: 3px 5px;\n",
              "    }\n",
              "    \n",
              "    .spark-nlp-display-entity-resolution{\n",
              "        font-size: 14px;\n",
              "        line-height: 24px;\n",
              "        color: #ffffff;\n",
              "        font-family: 'Vistol Regular', sans-serif !important;\n",
              "        \n",
              "        text-transform: uppercase;\n",
              "        \n",
              "        font-weight: 500;\n",
              "\n",
              "        display: block;\n",
              "        padding: 3px 5px;\n",
              "    }\n",
              "    \n",
              "    .spark-nlp-display-others{\n",
              "        font-size: 14px;\n",
              "        line-height: 24px;\n",
              "        font-family: 'Montserrat', sans-serif !important;\n",
              "        \n",
              "        font-weight: 400;\n",
              "    }\n",
              "\n",
              "</style>\n",
              " <span class=\"spark-nlp-display-others\" style=\"background-color: white\">The patient was admitted to the hospital for his </span><span class=\"spark-nlp-display-entity-wrapper\" style=\"background-color: #800080\"><span class=\"spark-nlp-display-entity-name\">colon cancer </span><span class=\"spark-nlp-display-entity-type\">PROBLEM</span></span><span class=\"spark-nlp-display-others\" style=\"background-color: white\">.</span></div>"
            ]
          },
          "metadata": {}
        },
        {
          "output_type": "display_data",
          "data": {
            "text/plain": [
              "<IPython.core.display.HTML object>"
            ],
            "text/html": [
              "\n",
              "<style>\n",
              "    @import url('https://fonts.googleapis.com/css2?family=Montserrat:wght@300;400;500;600;700&display=swap');\n",
              "    @import url('https://fonts.googleapis.com/css2?family=Vistol Regular:wght@300;400;500;600;700&display=swap');\n",
              "    \n",
              "    .spark-nlp-display-scroll-entities {\n",
              "        border: 1px solid #E7EDF0;\n",
              "        border-radius: 3px;\n",
              "        text-align: justify;\n",
              "        \n",
              "    }\n",
              "    .spark-nlp-display-scroll-entities span {  \n",
              "        font-size: 14px;\n",
              "        line-height: 24px;\n",
              "        color: #536B76;\n",
              "        font-family: 'Montserrat', sans-serif !important;\n",
              "    }\n",
              "    \n",
              "    .spark-nlp-display-entity-wrapper{\n",
              "    \n",
              "        display: inline-grid;\n",
              "        text-align: center;\n",
              "        border-radius: 4px;\n",
              "        margin: 0 2px 5px 2px;\n",
              "        padding: 1px\n",
              "    }\n",
              "    .spark-nlp-display-entity-name{\n",
              "        font-size: 14px;\n",
              "        line-height: 24px;\n",
              "        font-family: 'Montserrat', sans-serif !important;\n",
              "        \n",
              "        background: #f1f2f3;\n",
              "        border-width: medium;\n",
              "        text-align: center;\n",
              "        \n",
              "        font-weight: 400;\n",
              "        \n",
              "        border-radius: 5px;\n",
              "        padding: 2px 5px;\n",
              "        display: block;\n",
              "        margin: 3px 2px;\n",
              "    \n",
              "    }\n",
              "    .spark-nlp-display-entity-type{\n",
              "        font-size: 14px;\n",
              "        line-height: 24px;\n",
              "        color: #ffffff;\n",
              "        font-family: 'Montserrat', sans-serif !important;\n",
              "        \n",
              "        text-transform: uppercase;\n",
              "        \n",
              "        font-weight: 500;\n",
              "\n",
              "        display: block;\n",
              "        padding: 3px 5px;\n",
              "    }\n",
              "    \n",
              "    .spark-nlp-display-entity-resolution{\n",
              "        font-size: 14px;\n",
              "        line-height: 24px;\n",
              "        color: #ffffff;\n",
              "        font-family: 'Vistol Regular', sans-serif !important;\n",
              "        \n",
              "        text-transform: uppercase;\n",
              "        \n",
              "        font-weight: 500;\n",
              "\n",
              "        display: block;\n",
              "        padding: 3px 5px;\n",
              "    }\n",
              "    \n",
              "    .spark-nlp-display-others{\n",
              "        font-size: 14px;\n",
              "        line-height: 24px;\n",
              "        font-family: 'Montserrat', sans-serif !important;\n",
              "        \n",
              "        font-weight: 400;\n",
              "    }\n",
              "\n",
              "</style>\n",
              " <span class=\"spark-nlp-display-entity-wrapper\" style=\"background-color: #C765BB\"><span class=\"spark-nlp-display-entity-name\">27 years old </span><span class=\"spark-nlp-display-entity-type\">PATIENT_AGE</span></span><span class=\"spark-nlp-display-others\" style=\"background-color: white\"> patient was admitted to clinic on </span><span class=\"spark-nlp-display-entity-wrapper\" style=\"background-color: #B41D73\"><span class=\"spark-nlp-display-entity-name\">Sep 1st </span><span class=\"spark-nlp-display-entity-type\">ADMISSION_DATE</span></span><span class=\"spark-nlp-display-others\" style=\"background-color: white\"> by Dr. X for </span><span class=\"spark-nlp-display-entity-wrapper\" style=\"background-color: #800080\"><span class=\"spark-nlp-display-entity-name\">a right-sided pleural effusion for thoracentesis </span><span class=\"spark-nlp-display-entity-type\">PROBLEM</span></span><span class=\"spark-nlp-display-others\" style=\"background-color: white\">.</span></div>"
            ]
          },
          "metadata": {}
        }
      ],
      "source": [
        "visualiser = nlp.viz.NerVisualizer()\n",
        "\n",
        "for i in text_list:\n",
        "\n",
        "    light_result = light_model.fullAnnotate(i)\n",
        "    visualiser.display(light_result[0], label_col='ner_chunk', document_col='document')\n",
        "\n",
        "    # Change color of an entity label\n",
        "    # visualiser.set_label_colors({'PROBLEM':'#008080', 'DRUG':'#800080', 'PATIENT_AGE':'#808080'})\n",
        "    # visualiser.display(light_result[0], label_col='ner_chunk')\n",
        "\n",
        "\n",
        "    # Set label filter\n",
        "    # visualiser.display(light_result[0], label_col='ner_chunk', document_col='document',labels=['PROBLEM'])"
      ]
    },
    {
      "cell_type": "markdown",
      "metadata": {
        "id": "v4usFfBpim8c"
      },
      "source": [
        "# Save the Model\n",
        "\n",
        "Now we will save the Zero-Shot NER model and then we will be able to use this model without definitions. So our model will have the same labels that we defined before."
      ]
    },
    {
      "cell_type": "code",
      "execution_count": null,
      "metadata": {
        "id": "aPxRlyrxjFEr"
      },
      "outputs": [],
      "source": [
        "# save model\n",
        "\n",
        "ner_model.write().overwrite().save(\"ner_model\")"
      ]
    }
  ],
  "metadata": {
    "colab": {
      "provenance": [],
      "include_colab_link": true
    },
    "kernelspec": {
      "display_name": "Python 3 (ipykernel)",
      "language": "python",
      "name": "python3"
    },
    "language_info": {
      "codemirror_mode": {
        "name": "ipython",
        "version": 3
      },
      "file_extension": ".py",
      "mimetype": "text/x-python",
      "name": "python",
      "nbconvert_exporter": "python",
      "pygments_lexer": "ipython3",
      "version": "3.9.1"
    },
    "gpuClass": "standard"
  },
  "nbformat": 4,
  "nbformat_minor": 0
}