{
  "cells": [
    {
      "cell_type": "markdown",
      "metadata": {
        "id": "view-in-github",
        "colab_type": "text"
      },
      "source": [
        "<a href=\"https://colab.research.google.com/github/AlfredIsair/Natural-Language-Processing-Projects/blob/main/Clinical-Entity-Resolution/Clinical_Entity_Resolver.ipynb\" target=\"_parent\"><img src=\"https://colab.research.google.com/assets/colab-badge.svg\" alt=\"Open In Colab\"/></a>"
      ]
    },
    {
      "cell_type": "markdown",
      "source": [
        "Clinical entity resolution is one of the useful technique to derive insight from detected and recognized clinical entities.In the healthcare industry, accurate entity resolution is crucial for various purposes, including medical research, data analysis, and billing."
      ],
      "metadata": {
        "id": "xDIKCyRCFpHX"
      }
    },
    {
      "cell_type": "markdown",
      "source": [
        "**Entity Resolution** \n",
        "is the process of mapping entities to medical terminologies, or entity resolution. The first step is to extract the clinical entities relevant to the specific terminology we need. For instance, if we are looking for ICD-10 codes, we need to extract medical conditions such as diseases, symptoms, and disorders; while for RxNorm codes, we need to extract drug entities. Once we have extracted the necessary entities, we feed these entity chunks to the Sentence BERT (SBERT) stage, which generates embeddings for each entity. These embeddings are then fed into the entity resolution stage, which utilizes a pre-trained model to return the closest terminology code based on similarity measures between the embeddings and the codes within the medical terminology database. This process ensures accurate and efficient mapping of clinical entities to their corresponding medical terminology codes, facilitating various healthcare-related tasks and analyses."
      ],
      "metadata": {
        "id": "H6-tRM-pgXZe"
      }
    },
    {
      "cell_type": "markdown",
      "source": [
        "## **Colab Setup**"
      ],
      "metadata": {
        "id": "wZFiErbbgE7F"
      }
    },
    {
      "cell_type": "code",
      "execution_count": null,
      "metadata": {
        "id": "1tZkfsDPdMVP"
      },
      "outputs": [],
      "source": [
        "import json, os\n",
        "from google.colab import files\n",
        "\n",
        "if 'spark_jsl.json' not in os.listdir():\n",
        "  license_keys = files.upload()\n",
        "  os.rename(list(license_keys.keys())[0], 'spark_jsl.json')\n",
        "\n",
        "with open('spark_jsl.json') as f:\n",
        "    license_keys = json.load(f)\n",
        "\n",
        "# Defining license key-value pairs as local variables\n",
        "locals().update(license_keys)\n",
        "os.environ.update(license_keys)\n"
      ]
    },
    {
      "cell_type": "code",
      "execution_count": null,
      "metadata": {
        "id": "hMgaik6zhbwj",
        "outputId": "d351852f-4806-4ec1-8ea1-9e059a409ab4",
        "colab": {
          "base_uri": "https://localhost:8080/"
        }
      },
      "outputs": [
        {
          "output_type": "stream",
          "name": "stdout",
          "text": [
            "\u001b[31mERROR: pip's dependency resolver does not currently take into account all the packages that are installed. This behaviour is the source of the following dependency conflicts.\n",
            "spark-ocr 5.0.2 requires spark-nlp==5.1.1, but you have spark-nlp 5.1.4 which is incompatible.\u001b[0m\u001b[31m\n",
            "\u001b[0m\u001b[31mERROR: pip's dependency resolver does not currently take into account all the packages that are installed. This behaviour is the source of the following dependency conflicts.\n",
            "spark-nlp-jsl 5.1.3 requires spark-nlp==5.1.4, but you have spark-nlp 5.1.1 which is incompatible.\u001b[0m\u001b[31m\n",
            "\u001b[0m"
          ]
        }
      ],
      "source": [
        "# Installing pyspark and spark-nlp\n",
        "! pip install --upgrade -q pyspark==3.4.1 spark-nlp==$PUBLIC_VERSION\n",
        "\n",
        "# Installing Spark NLP Healthcare\n",
        "! pip install --upgrade -q spark-nlp-jsl==$JSL_VERSION  --extra-index-url https://pypi.johnsnowlabs.com/$SECRET\n",
        "\n",
        "# Installing Spark OCR\n",
        "! pip install --upgrade -q spark-ocr==$OCR_VERSION --extra-index-url=https://pypi.johnsnowlabs.com/$SPARK_OCR_SECRET --upgrade\n",
        "\n",
        "# Installing Spark NLP Display Library for visualization\n",
        "! pip install -q spark-nlp-display"
      ]
    },
    {
      "cell_type": "code",
      "execution_count": null,
      "metadata": {
        "colab": {
          "base_uri": "https://localhost:8080/",
          "height": 254
        },
        "id": "mAtFEcEEhbzK",
        "outputId": "6a81bbc8-2852-45af-a6e3-86e38281e10c"
      },
      "outputs": [
        {
          "output_type": "stream",
          "name": "stdout",
          "text": [
            "Spark NLP Version : 5.1.1\n",
            "Spark NLP_JSL Version : 5.1.3\n"
          ]
        },
        {
          "output_type": "execute_result",
          "data": {
            "text/plain": [
              "<pyspark.sql.session.SparkSession at 0x7b1d1becf190>"
            ],
            "text/html": [
              "\n",
              "            <div>\n",
              "                <p><b>SparkSession - in-memory</b></p>\n",
              "                \n",
              "        <div>\n",
              "            <p><b>SparkContext</b></p>\n",
              "\n",
              "            <p><a href=\"http://fd4e3232d6d2:4040\">Spark UI</a></p>\n",
              "\n",
              "            <dl>\n",
              "              <dt>Version</dt>\n",
              "                <dd><code>v3.4.1</code></dd>\n",
              "              <dt>Master</dt>\n",
              "                <dd><code>local[*]</code></dd>\n",
              "              <dt>AppName</dt>\n",
              "                <dd><code>Spark NLP Licensed</code></dd>\n",
              "            </dl>\n",
              "        </div>\n",
              "        \n",
              "            </div>\n",
              "        "
            ]
          },
          "metadata": {},
          "execution_count": 3
        }
      ],
      "source": [
        "import os\n",
        "import json\n",
        "import string\n",
        "import numpy as np\n",
        "import pandas as pd\n",
        "import sparkocr\n",
        "import sys\n",
        "\n",
        "from pyspark.ml import Pipeline,PipelineModel\n",
        "from pyspark.sql import SparkSession\n",
        "from pyspark.sql import functions as F\n",
        "from sparkocr import start\n",
        "import base64\n",
        "from sparkocr.transformers import *\n",
        "from pyspark.ml import PipelineModel\n",
        "from pyspark.sql import functions as F\n",
        "from sparkocr.enums import *\n",
        "from sparkocr.utils import display_images, display_image\n",
        "\n",
        "import sparknlp_jsl\n",
        "import sparknlp\n",
        "\n",
        "from sparknlp.annotator import *\n",
        "from sparknlp.base import *\n",
        "from sparknlp.util import *\n",
        "from sparknlp_jsl.annotator import *\n",
        "from sparknlp_jsl.base import *\n",
        "from sparknlp_jsl.annotator import *\n",
        "\n",
        "import warnings\n",
        "warnings.filterwarnings('ignore')\n",
        "\n",
        "params = {\"spark.driver.memory\":\"16G\",\n",
        "          \"spark.kryoserializer.buffer.max\":\"2000M\",\n",
        "          \"spark.driver.maxResultSize\":\"2000M\"}\n",
        "\n",
        "spark = sparknlp_jsl.start(license_keys['SECRET'],params=params)\n",
        "\n",
        "print(\"Spark NLP Version :\", sparknlp.version())\n",
        "print(\"Spark NLP_JSL Version :\", sparknlp_jsl.version())\n",
        "\n",
        "spark\n"
      ]
    },
    {
      "cell_type": "markdown",
      "source": [
        "## **ICD-10-CM**\n",
        "\n",
        "ICD-10-PCS stands for the International Classification of Diseases, Tenth Revision, Procedure Coding System. As indicated by its name, ICD-10-PCS is a procedural classification system of medical codes. It is used in hospital settings to report inpatient procedures."
      ],
      "metadata": {
        "id": "nVxlOQzcNrXG"
      }
    },
    {
      "cell_type": "code",
      "execution_count": null,
      "metadata": {
        "colab": {
          "base_uri": "https://localhost:8080/"
        },
        "id": "SHky_cVzhb2C",
        "outputId": "81829f13-9553-41b4-80c1-f85d949cea14"
      },
      "outputs": [
        {
          "output_type": "stream",
          "name": "stdout",
          "text": [
            "sentence_detector_dl_healthcare download started this may take some time.\n",
            "Approximate size to download 367.3 KB\n",
            "[OK!]\n",
            "embeddings_clinical download started this may take some time.\n",
            "Approximate size to download 1.6 GB\n",
            "[OK!]\n",
            "ner_clinical download started this may take some time.\n",
            "[OK!]\n",
            "sbiobert_base_cased_mli download started this may take some time.\n",
            "Approximate size to download 384.3 MB\n",
            "[OK!]\n",
            "sbiobertresolve_icd10cm_augmented_billable_hcc download started this may take some time.\n",
            "[OK!]\n"
          ]
        }
      ],
      "source": [
        "# Annotator that transforms a text column from dataframe into an Annotation ready for NLP\n",
        "document_assembler = DocumentAssembler()\\\n",
        "    .setInputCol(\"text\")\\\n",
        "    .setOutputCol(\"document\")\n",
        "\n",
        "# Sentence Detector DL annotator, processes various sentences per line\n",
        "sentenceDetectorDL = SentenceDetectorDLModel.pretrained(\"sentence_detector_dl_healthcare\", \"en\", 'clinical/models') \\\n",
        "    .setInputCols(\"document\") \\\n",
        "    .setOutputCol(\"sentence\")\n",
        "\n",
        "# Tokenizer splits words in a relevant format for NLP\n",
        "tokenizer = Tokenizer()\\\n",
        "    .setInputCols(\"sentence\")\\\n",
        "    .setOutputCol(\"token\")\n",
        "\n",
        "# WordEmbeddingsModel pretrained \"embeddings_clinical\"\n",
        "word_embeddings = WordEmbeddingsModel.pretrained(\"embeddings_clinical\", \"en\", \"clinical/models\")\\\n",
        "    .setInputCols([\"sentence\", \"token\"])\\\n",
        "    .setOutputCol(\"word_embeddings\")\n",
        "\n",
        "# Named Entity Recognition for clinical concepts.\n",
        "clinical_ner = MedicalNerModel.pretrained(\"ner_clinical\", \"en\", \"clinical/models\") \\\n",
        "    .setInputCols([\"sentence\", \"token\", \"word_embeddings\"]) \\\n",
        "    .setOutputCol(\"ner\")\n",
        "\n",
        "ner_converter_icd = NerConverterInternal() \\\n",
        "    .setInputCols([\"sentence\", \"token\", \"ner\"]) \\\n",
        "    .setOutputCol(\"ner_chunk\")\\\n",
        "    .setWhiteList(['PROBLEM','Age'])\\\n",
        "    .setPreservePosition(False)\n",
        "\n",
        "#convert chunks of text back into documents.\n",
        "c2doc = Chunk2Doc()\\\n",
        "    .setInputCols(\"ner_chunk\")\\\n",
        "    .setOutputCol(\"doc_ner_chunk\")\n",
        "\n",
        "#generate sentence embeddings\n",
        "sbert_embedder = BertSentenceEmbeddings.pretrained('sbiobert_base_cased_mli', 'en','clinical/models')\\\n",
        "    .setInputCols(\"doc_ner_chunk\")\\\n",
        "    .setOutputCol(\"sentence_embeddings\")\\\n",
        "    .setCaseSensitive(False) #setting the case sensitivity to false, you can ensure that all occurrences of the word are found\n",
        "\n",
        "# involves linking the entity to a specific database entry(ICD -10 CM)\n",
        "icd_resolver = SentenceEntityResolverModel.pretrained(\"sbiobertresolve_icd10cm_augmented_billable_hcc\",\"en\", \"clinical/models\") \\\n",
        "    .setInputCols([\"sentence_embeddings\"]) \\\n",
        "    .setOutputCol(\"icd10cm_code\")\\\n",
        "    .setDistanceFunction(\"EUCLIDEAN\") #distance function is used to calculate the distance between two embeddings, which is used to determine how similar the two embeddings are.\n",
        "\n",
        "\n",
        "# Build up the pipeline\n",
        "resolver_pipeline = Pipeline(\n",
        "    stages = [\n",
        "        document_assembler,\n",
        "        sentenceDetectorDL,\n",
        "        tokenizer,\n",
        "        word_embeddings,\n",
        "        clinical_ner,\n",
        "        ner_converter_icd,\n",
        "        c2doc,\n",
        "        sbert_embedder,\n",
        "        icd_resolver\n",
        "  ])\n",
        "\n",
        "\n",
        "empty_data = spark.createDataFrame([['']]).toDF(\"text\")\n",
        "\n",
        "model = resolver_pipeline.fit(empty_data)"
      ]
    },
    {
      "cell_type": "code",
      "execution_count": null,
      "metadata": {
        "id": "egL-xXJ6i-zz"
      },
      "outputs": [],
      "source": [
        "sample_text_1 = '''A 65-year-old woman had a history of debulking surgery, bilateral oophorectomy with omentectomy, total anterior hysterectomy with radical pelvic lymph nodes dissection due to ovarian carcinoma (mucinous-type carcinoma, stage Ic) 1 year ago. Patient's medical compliance was poor and failed to complete her chemotherapy (cyclophosphamide 750 mg/m2, carboplatin 300 mg/m2). Recently, she noted a palpable right breast mass, 15 cm in size which nearly occupied the whole right breast in 2 months. Core needle biopsy revealed metaplastic carcinoma. Neoadjuvant chemotherapy with the regimens of Taxotere (75 mg/m2), Epirubicin (75 mg/m2), and Cyclophosphamide (500 mg/m2) was given for 6 cycles with poor response, followed by a modified radical mastectomy (MRM) with dissection of axillary lymph nodes and skin grafting. Postoperatively, radiotherapy was done with 5000 cGy in 25 fractions. The histopathologic examination revealed a metaplastic carcinoma with squamous differentiation associated with adenomyoepithelioma. Immunohistochemistry study showed that the tumor cells are positive for epithelial markers-cytokeratin (AE1/AE3) stain, and myoepithelial markers, including cytokeratin 5/6 (CK 5/6), p63, and S100 stains. Expressions of hormone receptors, including ER, PR, and Her-2/Neu, were all negative. The dissected axillary lymph nodes showed metastastic carcinoma with negative hormone receptors in 3 nodes. The patient was staged as pT3N1aM0, with histologic tumor grade III.\n",
        "\n",
        "She underwent a computed tomography (CT) scan of the abdomen and pelvis, which showed a complex ovarian mass. A Pap smear performed one month later was positive for atypical glandular cells suspicious for adenocarcinoma. The pathologic specimen showed extension of the tumor throughout the fallopian tubes, appendix, omentum, and 5 out of 5 enlarged lymph nodes. The final pathologic diagnosis of the tumor was stage IIIC papillary serous ovarian adenocarcinoma. Two months later, the patient was diagnosed with lung metastases.\n",
        "\n",
        "In the bone- marrow (BM) aspiration, blasts accounted for 88.1% of ANCs, which were positive for CD9, CD10, CD13, CD19, CD20, CD34, CD38, CD58, CD66c, CD123, HLA-DR, cCD79a, and TdT on flow cytometry.'''\n"
      ]
    },
    {
      "cell_type": "code",
      "execution_count": null,
      "metadata": {
        "id": "5LKG3cX6hiTS"
      },
      "outputs": [],
      "source": [
        "#Let's see how our model extracted ICD Codes on a sample.\n",
        "\n",
        "light_model = LightPipeline(model)\n",
        "\n",
        "light_result = light_model.fullAnnotate(sample_text_1)\n",
        "\n",
        "from sparknlp_display import EntityResolverVisualizer\n",
        "\n",
        "vis = EntityResolverVisualizer()"
      ]
    },
    {
      "cell_type": "code",
      "execution_count": null,
      "metadata": {
        "id": "WgleRWrZhiV6",
        "outputId": "840b0469-3028-41ec-92ae-1bef0b1629a9",
        "colab": {
          "base_uri": "https://localhost:8080/",
          "height": 1000
        }
      },
      "outputs": [
        {
          "output_type": "display_data",
          "data": {
            "text/plain": [
              "<IPython.core.display.HTML object>"
            ],
            "text/html": [
              "\n",
              "<style>\n",
              "    @import url('https://fonts.googleapis.com/css2?family=Montserrat:wght@300;400;500;600;700&display=swap');\n",
              "    @import url('https://fonts.googleapis.com/css2?family=Vistol Regular:wght@300;400;500;600;700&display=swap');\n",
              "    \n",
              "    .spark-nlp-display-scroll-entities {\n",
              "        border: 1px solid #E7EDF0;\n",
              "        border-radius: 3px;\n",
              "        text-align: justify;\n",
              "        \n",
              "    }\n",
              "    .spark-nlp-display-scroll-entities span {  \n",
              "        font-size: 14px;\n",
              "        line-height: 24px;\n",
              "        color: #536B76;\n",
              "        font-family: 'Montserrat', sans-serif !important;\n",
              "    }\n",
              "    \n",
              "    .spark-nlp-display-entity-wrapper{\n",
              "    \n",
              "        display: inline-grid;\n",
              "        text-align: center;\n",
              "        border-radius: 4px;\n",
              "        margin: 0 2px 5px 2px;\n",
              "        padding: 1px\n",
              "    }\n",
              "    .spark-nlp-display-entity-name{\n",
              "        font-size: 14px;\n",
              "        line-height: 24px;\n",
              "        font-family: 'Montserrat', sans-serif !important;\n",
              "        \n",
              "        background: #f1f2f3;\n",
              "        border-width: medium;\n",
              "        text-align: center;\n",
              "        \n",
              "        font-weight: 400;\n",
              "        \n",
              "        border-radius: 5px;\n",
              "        padding: 2px 5px;\n",
              "        display: block;\n",
              "        margin: 3px 2px;\n",
              "    \n",
              "    }\n",
              "    .spark-nlp-display-entity-type{\n",
              "        font-size: 14px;\n",
              "        line-height: 24px;\n",
              "        color: #ffffff;\n",
              "        font-family: 'Montserrat', sans-serif !important;\n",
              "        \n",
              "        text-transform: uppercase;\n",
              "        \n",
              "        font-weight: 500;\n",
              "\n",
              "        display: block;\n",
              "        padding: 3px 5px;\n",
              "    }\n",
              "    \n",
              "    .spark-nlp-display-entity-resolution{\n",
              "        font-size: 14px;\n",
              "        line-height: 24px;\n",
              "        color: #ffffff;\n",
              "        font-family: 'Vistol Regular', sans-serif !important;\n",
              "        \n",
              "        text-transform: uppercase;\n",
              "        \n",
              "        font-weight: 500;\n",
              "\n",
              "        display: block;\n",
              "        padding: 3px 5px;\n",
              "    }\n",
              "    \n",
              "    .spark-nlp-display-others{\n",
              "        font-size: 14px;\n",
              "        line-height: 24px;\n",
              "        font-family: 'Montserrat', sans-serif !important;\n",
              "        \n",
              "        font-weight: 400;\n",
              "    }\n",
              "\n",
              "</style>\n",
              " <span class=\"spark-nlp-display-others\" style=\"background-color: white\">A 65-year-old woman had a history of debulking surgery, bilateral oophorectomy with omentectomy, total anterior hysterectomy with radical pelvic lymph nodes dissection due to </span><span class=\"spark-nlp-display-entity-wrapper\" style=\"background-color: #800080B3\"><span class=\"spark-nlp-display-entity-name\">ovarian carcinoma </span><span class=\"spark-nlp-display-entity-type\">PROBLEM</span><span class=\"spark-nlp-display-entity-resolution\" style=\"background-color: #800080FF\">C56 </span><span class=\"spark-nlp-display-entity-resolution\" style=\"background-color: #800080CC\">ovarian cancer [malignant neoplasm of ovary]</span></span><span class=\"spark-nlp-display-others\" style=\"background-color: white\"> (</span><span class=\"spark-nlp-display-entity-wrapper\" style=\"background-color: #800080B3\"><span class=\"spark-nlp-display-entity-name\">mucinous-type carcinoma </span><span class=\"spark-nlp-display-entity-type\">PROBLEM</span><span class=\"spark-nlp-display-entity-resolution\" style=\"background-color: #800080FF\">C44.9 </span><span class=\"spark-nlp-display-entity-resolution\" style=\"background-color: #800080CC\">mucinous eccrine carcinoma [other and unspecified malignant neoplasm of skin, unspecified]</span></span><span class=\"spark-nlp-display-others\" style=\"background-color: white\">, </span><span class=\"spark-nlp-display-entity-wrapper\" style=\"background-color: #800080B3\"><span class=\"spark-nlp-display-entity-name\">stage Ic </span><span class=\"spark-nlp-display-entity-type\">PROBLEM</span><span class=\"spark-nlp-display-entity-resolution\" style=\"background-color: #800080FF\">C53.9 </span><span class=\"spark-nlp-display-entity-resolution\" style=\"background-color: #800080CC\">figo cc stage ia [malignant neoplasm of cervix uteri, unspecified]</span></span><span class=\"spark-nlp-display-others\" style=\"background-color: white\">) 1 year ago. Patient's medical compliance was poor and failed to complete her chemotherapy (cyclophosphamide 750 mg/m2, carboplatin 300 mg/m2). Recently, she noted </span><span class=\"spark-nlp-display-entity-wrapper\" style=\"background-color: #800080B3\"><span class=\"spark-nlp-display-entity-name\">a palpable right breast mass </span><span class=\"spark-nlp-display-entity-type\">PROBLEM</span><span class=\"spark-nlp-display-entity-resolution\" style=\"background-color: #800080FF\">R92.8 </span><span class=\"spark-nlp-display-entity-resolution\" style=\"background-color: #800080CC\">mammographic mass of right breast [other abnormal and inconclusive findings on diagnostic imaging of breast]</span></span><span class=\"spark-nlp-display-others\" style=\"background-color: white\">, 15 cm in size which nearly occupied the whole right breast in 2 months. Core needle biopsy revealed </span><span class=\"spark-nlp-display-entity-wrapper\" style=\"background-color: #800080B3\"><span class=\"spark-nlp-display-entity-name\">metaplastic carcinoma </span><span class=\"spark-nlp-display-entity-type\">PROBLEM</span><span class=\"spark-nlp-display-entity-resolution\" style=\"background-color: #800080FF\">C80.0 </span><span class=\"spark-nlp-display-entity-resolution\" style=\"background-color: #800080CC\">carcinomatosis [disseminated malignant neoplasm, unspecified]</span></span><span class=\"spark-nlp-display-others\" style=\"background-color: white\">. Neoadjuvant chemotherapy with the regimens of Taxotere (75 mg/m2), Epirubicin (75 mg/m2), and Cyclophosphamide (500 mg/m2) was given for 6 cycles with </span><span class=\"spark-nlp-display-entity-wrapper\" style=\"background-color: #800080B3\"><span class=\"spark-nlp-display-entity-name\">poor response </span><span class=\"spark-nlp-display-entity-type\">PROBLEM</span><span class=\"spark-nlp-display-entity-resolution\" style=\"background-color: #800080FF\">R41.0 </span><span class=\"spark-nlp-display-entity-resolution\" style=\"background-color: #800080CC\">orientation poor [disorientation, unspecified]</span></span><span class=\"spark-nlp-display-others\" style=\"background-color: white\">, followed by a modified radical mastectomy (MRM) with dissection of axillary lymph nodes and skin grafting. Postoperatively, radiotherapy was done with 5000 cGy in 25 fractions. The histopathologic examination revealed </span><span class=\"spark-nlp-display-entity-wrapper\" style=\"background-color: #800080B3\"><span class=\"spark-nlp-display-entity-name\">a metaplastic carcinoma </span><span class=\"spark-nlp-display-entity-type\">PROBLEM</span><span class=\"spark-nlp-display-entity-resolution\" style=\"background-color: #800080FF\">C7B.1 </span><span class=\"spark-nlp-display-entity-resolution\" style=\"background-color: #800080CC\">secondary merkel cell carcinoma [secondary merkel cell carcinoma]</span></span><span class=\"spark-nlp-display-others\" style=\"background-color: white\"> with </span><span class=\"spark-nlp-display-entity-wrapper\" style=\"background-color: #800080B3\"><span class=\"spark-nlp-display-entity-name\">squamous differentiation </span><span class=\"spark-nlp-display-entity-type\">PROBLEM</span><span class=\"spark-nlp-display-entity-resolution\" style=\"background-color: #800080FF\">Z59.0 </span><span class=\"spark-nlp-display-entity-resolution\" style=\"background-color: #800080CC\">squatter [homelessness]</span></span><span class=\"spark-nlp-display-others\" style=\"background-color: white\"> associated with </span><span class=\"spark-nlp-display-entity-wrapper\" style=\"background-color: #800080B3\"><span class=\"spark-nlp-display-entity-name\">adenomyoepithelioma </span><span class=\"spark-nlp-display-entity-type\">PROBLEM</span><span class=\"spark-nlp-display-entity-resolution\" style=\"background-color: #800080FF\">D23.9 </span><span class=\"spark-nlp-display-entity-resolution\" style=\"background-color: #800080CC\">eccrine epithelioma [other benign neoplasm of skin, unspecified]</span></span><span class=\"spark-nlp-display-others\" style=\"background-color: white\">. Immunohistochemistry study showed that </span><span class=\"spark-nlp-display-entity-wrapper\" style=\"background-color: #800080B3\"><span class=\"spark-nlp-display-entity-name\">the tumor cells </span><span class=\"spark-nlp-display-entity-type\">PROBLEM</span><span class=\"spark-nlp-display-entity-resolution\" style=\"background-color: #800080FF\">D49.9 </span><span class=\"spark-nlp-display-entity-resolution\" style=\"background-color: #800080CC\">tumor configuration [neoplasm of unspecified behavior of unspecified site]</span></span><span class=\"spark-nlp-display-others\" style=\"background-color: white\"> are positive for </span><span class=\"spark-nlp-display-entity-wrapper\" style=\"background-color: #800080B3\"><span class=\"spark-nlp-display-entity-name\">epithelial markers-cytokeratin </span><span class=\"spark-nlp-display-entity-type\">PROBLEM</span><span class=\"spark-nlp-display-entity-resolution\" style=\"background-color: #800080FF\">D18.0 </span><span class=\"spark-nlp-display-entity-resolution\" style=\"background-color: #800080CC\">on examination - capillary nevi present (context-dependent category) [hemangioma]</span></span><span class=\"spark-nlp-display-others\" style=\"background-color: white\"> (AE1/AE3) stain, and myoepithelial markers, including cytokeratin 5/6 (CK 5/6), p63, and S100 stains. Expressions of hormone receptors, including ER, PR, and Her-2/Neu, were all negative. The dissected axillary lymph nodes showed </span><span class=\"spark-nlp-display-entity-wrapper\" style=\"background-color: #800080B3\"><span class=\"spark-nlp-display-entity-name\">metastastic carcinoma </span><span class=\"spark-nlp-display-entity-type\">PROBLEM</span><span class=\"spark-nlp-display-entity-resolution\" style=\"background-color: #800080FF\">C7B.00 </span><span class=\"spark-nlp-display-entity-resolution\" style=\"background-color: #800080CC\">metastatic carcinoid tumor [secondary carcinoid tumors, unspecified site]</span></span><span class=\"spark-nlp-display-others\" style=\"background-color: white\"> with negative hormone receptors in 3 nodes. The patient was staged as pT3N1aM0, with </span><span class=\"spark-nlp-display-entity-wrapper\" style=\"background-color: #800080B3\"><span class=\"spark-nlp-display-entity-name\">histologic tumor grade III </span><span class=\"spark-nlp-display-entity-type\">PROBLEM</span><span class=\"spark-nlp-display-entity-resolution\" style=\"background-color: #800080FF\">C80.1 </span><span class=\"spark-nlp-display-entity-resolution\" style=\"background-color: #800080CC\">tumor stage t3bii [malignant (primary) neoplasm, unspecified]</span></span><span class=\"spark-nlp-display-others\" style=\"background-color: white\">.<br><br>She underwent a computed tomography (CT) scan of the abdomen and pelvis, which showed </span><span class=\"spark-nlp-display-entity-wrapper\" style=\"background-color: #800080B3\"><span class=\"spark-nlp-display-entity-name\">a complex ovarian mass </span><span class=\"spark-nlp-display-entity-type\">PROBLEM</span><span class=\"spark-nlp-display-entity-resolution\" style=\"background-color: #800080FF\">R19.09 </span><span class=\"spark-nlp-display-entity-resolution\" style=\"background-color: #800080CC\">ovarian mass [other intra-abdominal and pelvic swelling, mass and lump]</span></span><span class=\"spark-nlp-display-others\" style=\"background-color: white\">. A Pap smear performed one month later was positive for </span><span class=\"spark-nlp-display-entity-wrapper\" style=\"background-color: #800080B3\"><span class=\"spark-nlp-display-entity-name\">atypical glandular cells </span><span class=\"spark-nlp-display-entity-type\">PROBLEM</span><span class=\"spark-nlp-display-entity-resolution\" style=\"background-color: #800080FF\">L75.8 </span><span class=\"spark-nlp-display-entity-resolution\" style=\"background-color: #800080CC\">glandular cyst (disorder) [other apocrine sweat disorders]</span></span><span class=\"spark-nlp-display-others\" style=\"background-color: white\"> suspicious for </span><span class=\"spark-nlp-display-entity-wrapper\" style=\"background-color: #800080B3\"><span class=\"spark-nlp-display-entity-name\">adenocarcinoma </span><span class=\"spark-nlp-display-entity-type\">PROBLEM</span><span class=\"spark-nlp-display-entity-resolution\" style=\"background-color: #800080FF\">C80.1 </span><span class=\"spark-nlp-display-entity-resolution\" style=\"background-color: #800080CC\">adenocarcinoma [malignant (primary) neoplasm, unspecified]</span></span><span class=\"spark-nlp-display-others\" style=\"background-color: white\">. The pathologic specimen showed extension of </span><span class=\"spark-nlp-display-entity-wrapper\" style=\"background-color: #800080B3\"><span class=\"spark-nlp-display-entity-name\">the tumor </span><span class=\"spark-nlp-display-entity-type\">PROBLEM</span><span class=\"spark-nlp-display-entity-resolution\" style=\"background-color: #800080FF\">D49.9 </span><span class=\"spark-nlp-display-entity-resolution\" style=\"background-color: #800080CC\">tumor configuration [neoplasm of unspecified behavior of unspecified site]</span></span><span class=\"spark-nlp-display-others\" style=\"background-color: white\"> throughout the fallopian tubes, appendix, omentum, and </span><span class=\"spark-nlp-display-entity-wrapper\" style=\"background-color: #800080B3\"><span class=\"spark-nlp-display-entity-name\">5 out of 5 enlarged lymph nodes </span><span class=\"spark-nlp-display-entity-type\">PROBLEM</span><span class=\"spark-nlp-display-entity-resolution\" style=\"background-color: #800080FF\">R29.705 </span><span class=\"spark-nlp-display-entity-resolution\" style=\"background-color: #800080CC\">nihss score 5 [nihss score 5]</span></span><span class=\"spark-nlp-display-others\" style=\"background-color: white\">. The final pathologic diagnosis of </span><span class=\"spark-nlp-display-entity-wrapper\" style=\"background-color: #800080B3\"><span class=\"spark-nlp-display-entity-name\">the tumor </span><span class=\"spark-nlp-display-entity-type\">PROBLEM</span><span class=\"spark-nlp-display-entity-resolution\" style=\"background-color: #800080FF\">D49.9 </span><span class=\"spark-nlp-display-entity-resolution\" style=\"background-color: #800080CC\">tumor configuration [neoplasm of unspecified behavior of unspecified site]</span></span><span class=\"spark-nlp-display-others\" style=\"background-color: white\"> was </span><span class=\"spark-nlp-display-entity-wrapper\" style=\"background-color: #800080B3\"><span class=\"spark-nlp-display-entity-name\">stage IIIC papillary serous ovarian adenocarcinoma </span><span class=\"spark-nlp-display-entity-type\">PROBLEM</span><span class=\"spark-nlp-display-entity-resolution\" style=\"background-color: #800080FF\">C56 </span><span class=\"spark-nlp-display-entity-resolution\" style=\"background-color: #800080CC\">primary high grade serous adenocarcinoma of ovary (disorder) [malignant neoplasm of ovary]</span></span><span class=\"spark-nlp-display-others\" style=\"background-color: white\">. Two months later, the patient was diagnosed with </span><span class=\"spark-nlp-display-entity-wrapper\" style=\"background-color: #800080B3\"><span class=\"spark-nlp-display-entity-name\">lung metastases </span><span class=\"spark-nlp-display-entity-type\">PROBLEM</span><span class=\"spark-nlp-display-entity-resolution\" style=\"background-color: #800080FF\">C78.0 </span><span class=\"spark-nlp-display-entity-resolution\" style=\"background-color: #800080CC\">pulmonary metastasis [secondary malignant neoplasm of lung]</span></span><span class=\"spark-nlp-display-others\" style=\"background-color: white\">.<br><br>In the bone- marrow (BM) aspiration, blasts accounted for 88.1% of ANCs, which were positive for CD9, CD10, CD13, CD19, CD20, CD34, CD38, CD58, CD66c, CD123, HLA-DR, cCD79a, and TdT on flow cytometry.</span></div>"
            ]
          },
          "metadata": {}
        }
      ],
      "source": [
        "vis.display(light_result[0], 'ner_chunk', 'icd10cm_code')"
      ]
    },
    {
      "cell_type": "markdown",
      "source": [
        "**SAMPLE** **DOCUMENT**"
      ],
      "metadata": {
        "id": "kfRYwPsKErLq"
      }
    },
    {
      "cell_type": "code",
      "source": [
        "!pip install docx2txt"
      ],
      "metadata": {
        "id": "m67NiuipvE3h",
        "outputId": "70c58364-cfb1-4841-c3ca-91bf986a81ff",
        "colab": {
          "base_uri": "https://localhost:8080/"
        }
      },
      "execution_count": null,
      "outputs": [
        {
          "output_type": "stream",
          "name": "stdout",
          "text": [
            "Collecting docx2txt\n",
            "  Downloading docx2txt-0.8.tar.gz (2.8 kB)\n",
            "  Preparing metadata (setup.py) ... \u001b[?25l\u001b[?25hdone\n",
            "Building wheels for collected packages: docx2txt\n",
            "  Building wheel for docx2txt (setup.py) ... \u001b[?25l\u001b[?25hdone\n",
            "  Created wheel for docx2txt: filename=docx2txt-0.8-py3-none-any.whl size=3960 sha256=8d00ba2d43343e2aa0a4886576403979c33dfcad66726b0cbf0620a774eae185\n",
            "  Stored in directory: /root/.cache/pip/wheels/22/58/cf/093d0a6c3ecfdfc5f6ddd5524043b88e59a9a199cb02352966\n",
            "Successfully built docx2txt\n",
            "Installing collected packages: docx2txt\n",
            "Successfully installed docx2txt-0.8\n"
          ]
        }
      ]
    },
    {
      "cell_type": "code",
      "source": [
        "import docx2txt"
      ],
      "metadata": {
        "id": "6sCbRdvXtTeg"
      },
      "execution_count": null,
      "outputs": []
    },
    {
      "cell_type": "code",
      "source": [
        "from google.colab import files\n",
        "\n",
        "upload_file = files.upload()\n"
      ],
      "metadata": {
        "id": "bdERIS36t2fJ",
        "outputId": "5400af00-6c70-43ed-94e1-471915643d10",
        "colab": {
          "base_uri": "https://localhost:8080/",
          "height": 73
        }
      },
      "execution_count": null,
      "outputs": [
        {
          "output_type": "display_data",
          "data": {
            "text/plain": [
              "<IPython.core.display.HTML object>"
            ],
            "text/html": [
              "\n",
              "     <input type=\"file\" id=\"files-ed39674a-f9db-4fd7-b7a2-4e640c8a8817\" name=\"files[]\" multiple disabled\n",
              "        style=\"border:none\" />\n",
              "     <output id=\"result-ed39674a-f9db-4fd7-b7a2-4e640c8a8817\">\n",
              "      Upload widget is only available when the cell has been executed in the\n",
              "      current browser session. Please rerun this cell to enable.\n",
              "      </output>\n",
              "      <script>// Copyright 2017 Google LLC\n",
              "//\n",
              "// Licensed under the Apache License, Version 2.0 (the \"License\");\n",
              "// you may not use this file except in compliance with the License.\n",
              "// You may obtain a copy of the License at\n",
              "//\n",
              "//      http://www.apache.org/licenses/LICENSE-2.0\n",
              "//\n",
              "// Unless required by applicable law or agreed to in writing, software\n",
              "// distributed under the License is distributed on an \"AS IS\" BASIS,\n",
              "// WITHOUT WARRANTIES OR CONDITIONS OF ANY KIND, either express or implied.\n",
              "// See the License for the specific language governing permissions and\n",
              "// limitations under the License.\n",
              "\n",
              "/**\n",
              " * @fileoverview Helpers for google.colab Python module.\n",
              " */\n",
              "(function(scope) {\n",
              "function span(text, styleAttributes = {}) {\n",
              "  const element = document.createElement('span');\n",
              "  element.textContent = text;\n",
              "  for (const key of Object.keys(styleAttributes)) {\n",
              "    element.style[key] = styleAttributes[key];\n",
              "  }\n",
              "  return element;\n",
              "}\n",
              "\n",
              "// Max number of bytes which will be uploaded at a time.\n",
              "const MAX_PAYLOAD_SIZE = 100 * 1024;\n",
              "\n",
              "function _uploadFiles(inputId, outputId) {\n",
              "  const steps = uploadFilesStep(inputId, outputId);\n",
              "  const outputElement = document.getElementById(outputId);\n",
              "  // Cache steps on the outputElement to make it available for the next call\n",
              "  // to uploadFilesContinue from Python.\n",
              "  outputElement.steps = steps;\n",
              "\n",
              "  return _uploadFilesContinue(outputId);\n",
              "}\n",
              "\n",
              "// This is roughly an async generator (not supported in the browser yet),\n",
              "// where there are multiple asynchronous steps and the Python side is going\n",
              "// to poll for completion of each step.\n",
              "// This uses a Promise to block the python side on completion of each step,\n",
              "// then passes the result of the previous step as the input to the next step.\n",
              "function _uploadFilesContinue(outputId) {\n",
              "  const outputElement = document.getElementById(outputId);\n",
              "  const steps = outputElement.steps;\n",
              "\n",
              "  const next = steps.next(outputElement.lastPromiseValue);\n",
              "  return Promise.resolve(next.value.promise).then((value) => {\n",
              "    // Cache the last promise value to make it available to the next\n",
              "    // step of the generator.\n",
              "    outputElement.lastPromiseValue = value;\n",
              "    return next.value.response;\n",
              "  });\n",
              "}\n",
              "\n",
              "/**\n",
              " * Generator function which is called between each async step of the upload\n",
              " * process.\n",
              " * @param {string} inputId Element ID of the input file picker element.\n",
              " * @param {string} outputId Element ID of the output display.\n",
              " * @return {!Iterable<!Object>} Iterable of next steps.\n",
              " */\n",
              "function* uploadFilesStep(inputId, outputId) {\n",
              "  const inputElement = document.getElementById(inputId);\n",
              "  inputElement.disabled = false;\n",
              "\n",
              "  const outputElement = document.getElementById(outputId);\n",
              "  outputElement.innerHTML = '';\n",
              "\n",
              "  const pickedPromise = new Promise((resolve) => {\n",
              "    inputElement.addEventListener('change', (e) => {\n",
              "      resolve(e.target.files);\n",
              "    });\n",
              "  });\n",
              "\n",
              "  const cancel = document.createElement('button');\n",
              "  inputElement.parentElement.appendChild(cancel);\n",
              "  cancel.textContent = 'Cancel upload';\n",
              "  const cancelPromise = new Promise((resolve) => {\n",
              "    cancel.onclick = () => {\n",
              "      resolve(null);\n",
              "    };\n",
              "  });\n",
              "\n",
              "  // Wait for the user to pick the files.\n",
              "  const files = yield {\n",
              "    promise: Promise.race([pickedPromise, cancelPromise]),\n",
              "    response: {\n",
              "      action: 'starting',\n",
              "    }\n",
              "  };\n",
              "\n",
              "  cancel.remove();\n",
              "\n",
              "  // Disable the input element since further picks are not allowed.\n",
              "  inputElement.disabled = true;\n",
              "\n",
              "  if (!files) {\n",
              "    return {\n",
              "      response: {\n",
              "        action: 'complete',\n",
              "      }\n",
              "    };\n",
              "  }\n",
              "\n",
              "  for (const file of files) {\n",
              "    const li = document.createElement('li');\n",
              "    li.append(span(file.name, {fontWeight: 'bold'}));\n",
              "    li.append(span(\n",
              "        `(${file.type || 'n/a'}) - ${file.size} bytes, ` +\n",
              "        `last modified: ${\n",
              "            file.lastModifiedDate ? file.lastModifiedDate.toLocaleDateString() :\n",
              "                                    'n/a'} - `));\n",
              "    const percent = span('0% done');\n",
              "    li.appendChild(percent);\n",
              "\n",
              "    outputElement.appendChild(li);\n",
              "\n",
              "    const fileDataPromise = new Promise((resolve) => {\n",
              "      const reader = new FileReader();\n",
              "      reader.onload = (e) => {\n",
              "        resolve(e.target.result);\n",
              "      };\n",
              "      reader.readAsArrayBuffer(file);\n",
              "    });\n",
              "    // Wait for the data to be ready.\n",
              "    let fileData = yield {\n",
              "      promise: fileDataPromise,\n",
              "      response: {\n",
              "        action: 'continue',\n",
              "      }\n",
              "    };\n",
              "\n",
              "    // Use a chunked sending to avoid message size limits. See b/62115660.\n",
              "    let position = 0;\n",
              "    do {\n",
              "      const length = Math.min(fileData.byteLength - position, MAX_PAYLOAD_SIZE);\n",
              "      const chunk = new Uint8Array(fileData, position, length);\n",
              "      position += length;\n",
              "\n",
              "      const base64 = btoa(String.fromCharCode.apply(null, chunk));\n",
              "      yield {\n",
              "        response: {\n",
              "          action: 'append',\n",
              "          file: file.name,\n",
              "          data: base64,\n",
              "        },\n",
              "      };\n",
              "\n",
              "      let percentDone = fileData.byteLength === 0 ?\n",
              "          100 :\n",
              "          Math.round((position / fileData.byteLength) * 100);\n",
              "      percent.textContent = `${percentDone}% done`;\n",
              "\n",
              "    } while (position < fileData.byteLength);\n",
              "  }\n",
              "\n",
              "  // All done.\n",
              "  yield {\n",
              "    response: {\n",
              "      action: 'complete',\n",
              "    }\n",
              "  };\n",
              "}\n",
              "\n",
              "scope.google = scope.google || {};\n",
              "scope.google.colab = scope.google.colab || {};\n",
              "scope.google.colab._files = {\n",
              "  _uploadFiles,\n",
              "  _uploadFilesContinue,\n",
              "};\n",
              "})(self);\n",
              "</script> "
            ]
          },
          "metadata": {}
        },
        {
          "output_type": "stream",
          "name": "stdout",
          "text": [
            "Saving BIOPSY REPORT.docx to BIOPSY REPORT.docx\n"
          ]
        }
      ]
    },
    {
      "cell_type": "code",
      "source": [
        "text = docx2txt.process('BIOPSY REPORT.docx')"
      ],
      "metadata": {
        "id": "V1aY96ixvajY"
      },
      "execution_count": null,
      "outputs": []
    },
    {
      "cell_type": "code",
      "source": [
        "type(text)"
      ],
      "metadata": {
        "id": "ZZhbr8IXzql4",
        "outputId": "9806bd0a-0500-41b8-b521-d970008f8ba8",
        "colab": {
          "base_uri": "https://localhost:8080/"
        }
      },
      "execution_count": null,
      "outputs": [
        {
          "output_type": "execute_result",
          "data": {
            "text/plain": [
              "str"
            ]
          },
          "metadata": {},
          "execution_count": 12
        }
      ]
    },
    {
      "cell_type": "code",
      "source": [
        "text[:160]"
      ],
      "metadata": {
        "id": "Rhqi-_IBzudo",
        "outputId": "98477f29-1598-4a6b-e5d6-5b504be3d782",
        "colab": {
          "base_uri": "https://localhost:8080/",
          "height": 35
        }
      },
      "execution_count": null,
      "outputs": [
        {
          "output_type": "execute_result",
          "data": {
            "text/plain": [
              "'Path. No.: S91-999\\n\\n\\n\\nName: Marie du Malade\\n\\nReg. No.: 000041\\n\\n\\n\\nAge: 47\\n\\nSex: Female\\n\\nRace: White\\n\\nLocation: _____\\n\\nDate: 09/11/91\\n\\n\\n\\n\\n\\nHistory of Case: 47-yea'"
            ],
            "application/vnd.google.colaboratory.intrinsic+json": {
              "type": "string"
            }
          },
          "metadata": {},
          "execution_count": 13
        }
      ]
    },
    {
      "cell_type": "code",
      "source": [
        "data = spark.createDataFrame([[text]]).toDF(\"text\")\n",
        "\n",
        "model = resolver_pipeline.fit(data)"
      ],
      "metadata": {
        "id": "wFk8NeGvzH0_"
      },
      "execution_count": null,
      "outputs": []
    },
    {
      "cell_type": "code",
      "source": [
        "light_model = LightPipeline(model)\n",
        "\n",
        "light_result = light_model.fullAnnotate(text)\n",
        "\n",
        "from sparknlp_display import EntityResolverVisualizer\n",
        "\n",
        "vis = EntityResolverVisualizer()"
      ],
      "metadata": {
        "id": "WYjkciE7yqv3"
      },
      "execution_count": null,
      "outputs": []
    },
    {
      "cell_type": "code",
      "source": [
        "vis.display(light_result[0], 'ner_chunk', 'icd10cm_code')"
      ],
      "metadata": {
        "id": "wTqVukOY0vkI",
        "outputId": "5da23a8a-0cac-43c9-cd24-cf975b6a32c6",
        "colab": {
          "base_uri": "https://localhost:8080/",
          "height": 1000
        }
      },
      "execution_count": null,
      "outputs": [
        {
          "output_type": "display_data",
          "data": {
            "text/plain": [
              "<IPython.core.display.HTML object>"
            ],
            "text/html": [
              "\n",
              "<style>\n",
              "    @import url('https://fonts.googleapis.com/css2?family=Montserrat:wght@300;400;500;600;700&display=swap');\n",
              "    @import url('https://fonts.googleapis.com/css2?family=Vistol Regular:wght@300;400;500;600;700&display=swap');\n",
              "    \n",
              "    .spark-nlp-display-scroll-entities {\n",
              "        border: 1px solid #E7EDF0;\n",
              "        border-radius: 3px;\n",
              "        text-align: justify;\n",
              "        \n",
              "    }\n",
              "    .spark-nlp-display-scroll-entities span {  \n",
              "        font-size: 14px;\n",
              "        line-height: 24px;\n",
              "        color: #536B76;\n",
              "        font-family: 'Montserrat', sans-serif !important;\n",
              "    }\n",
              "    \n",
              "    .spark-nlp-display-entity-wrapper{\n",
              "    \n",
              "        display: inline-grid;\n",
              "        text-align: center;\n",
              "        border-radius: 4px;\n",
              "        margin: 0 2px 5px 2px;\n",
              "        padding: 1px\n",
              "    }\n",
              "    .spark-nlp-display-entity-name{\n",
              "        font-size: 14px;\n",
              "        line-height: 24px;\n",
              "        font-family: 'Montserrat', sans-serif !important;\n",
              "        \n",
              "        background: #f1f2f3;\n",
              "        border-width: medium;\n",
              "        text-align: center;\n",
              "        \n",
              "        font-weight: 400;\n",
              "        \n",
              "        border-radius: 5px;\n",
              "        padding: 2px 5px;\n",
              "        display: block;\n",
              "        margin: 3px 2px;\n",
              "    \n",
              "    }\n",
              "    .spark-nlp-display-entity-type{\n",
              "        font-size: 14px;\n",
              "        line-height: 24px;\n",
              "        color: #ffffff;\n",
              "        font-family: 'Montserrat', sans-serif !important;\n",
              "        \n",
              "        text-transform: uppercase;\n",
              "        \n",
              "        font-weight: 500;\n",
              "\n",
              "        display: block;\n",
              "        padding: 3px 5px;\n",
              "    }\n",
              "    \n",
              "    .spark-nlp-display-entity-resolution{\n",
              "        font-size: 14px;\n",
              "        line-height: 24px;\n",
              "        color: #ffffff;\n",
              "        font-family: 'Vistol Regular', sans-serif !important;\n",
              "        \n",
              "        text-transform: uppercase;\n",
              "        \n",
              "        font-weight: 500;\n",
              "\n",
              "        display: block;\n",
              "        padding: 3px 5px;\n",
              "    }\n",
              "    \n",
              "    .spark-nlp-display-others{\n",
              "        font-size: 14px;\n",
              "        line-height: 24px;\n",
              "        font-family: 'Montserrat', sans-serif !important;\n",
              "        \n",
              "        font-weight: 400;\n",
              "    }\n",
              "\n",
              "</style>\n",
              " <span class=\"spark-nlp-display-others\" style=\"background-color: white\">Path. No.: S91-999<br><br><br><br>Name: Marie du Malade<br><br>Reg. No.: 000041<br><br><br><br>Age: 47<br><br>Sex: Female<br><br>Race: White<br><br>Location: _____<br><br>Date: 09/11/91<br><br><br><br><br><br>History of Case: 47-year-old white female with ten-year history of </span><span class=\"spark-nlp-display-entity-wrapper\" style=\"background-color: #800080B3\"><span class=\"spark-nlp-display-entity-name\">gastric ulcer </span><span class=\"spark-nlp-display-entity-type\">PROBLEM</span><span class=\"spark-nlp-display-entity-resolution\" style=\"background-color: #800080FF\">K25 </span><span class=\"spark-nlp-display-entity-resolution\" style=\"background-color: #800080CC\">gastric ulcer [gastric ulcer]</span></span><span class=\"spark-nlp-display-others\" style=\"background-color: white\"><br><br><br><br>Clinical Diagnosis: </span><span class=\"spark-nlp-display-entity-wrapper\" style=\"background-color: #800080B3\"><span class=\"spark-nlp-display-entity-name\">Carcinoma of the stomach </span><span class=\"spark-nlp-display-entity-type\">PROBLEM</span><span class=\"spark-nlp-display-entity-resolution\" style=\"background-color: #800080FF\">C16.5 </span><span class=\"spark-nlp-display-entity-resolution\" style=\"background-color: #800080CC\">carcinoma of stomach [malignant neoplasm of lesser curvature of stomach, unspecified]</span></span><span class=\"spark-nlp-display-others\" style=\"background-color: white\"><br><br><br><br>Surgeon: George Flatus, MD Operation: Vagotomy & subtotal gastrectomy<br><br><br><br>Gross Description:<br><br>Received were three specimens: The first consisted of a portion of stomach measuring 13 x 7 x 2.5 cm. There was a portion of mesentery attached to the lesser curvature and there was </span><span class=\"spark-nlp-display-entity-wrapper\" style=\"background-color: #800080B3\"><span class=\"spark-nlp-display-entity-name\">a firm indurated area </span><span class=\"spark-nlp-display-entity-type\">PROBLEM</span><span class=\"spark-nlp-display-entity-resolution\" style=\"background-color: #800080FF\">R23.4 </span><span class=\"spark-nlp-display-entity-resolution\" style=\"background-color: #800080CC\">indurated wound [changes in skin texture]</span></span><span class=\"spark-nlp-display-others\" style=\"background-color: white\"> in the wall of the lesser curvature. The serosal surface was smooth and </span><span class=\"spark-nlp-display-entity-wrapper\" style=\"background-color: #800080B3\"><span class=\"spark-nlp-display-entity-name\">glistening </span><span class=\"spark-nlp-display-entity-type\">PROBLEM</span><span class=\"spark-nlp-display-entity-resolution\" style=\"background-color: #800080FF\">R21 </span><span class=\"spark-nlp-display-entity-resolution\" style=\"background-color: #800080CC\">wheal [rash and other nonspecific skin eruption]</span></span><span class=\"spark-nlp-display-others\" style=\"background-color: white\"> and </span><span class=\"spark-nlp-display-entity-wrapper\" style=\"background-color: #800080B3\"><span class=\"spark-nlp-display-entity-name\">slightly hemorrhagic </span><span class=\"spark-nlp-display-entity-type\">PROBLEM</span><span class=\"spark-nlp-display-entity-resolution\" style=\"background-color: #800080FF\">R89.8 </span><span class=\"spark-nlp-display-entity-resolution\" style=\"background-color: #800080CC\">sample slightly hemolyzed [other abnormal findings in specimens from other organs, systems and tissues]</span></span><span class=\"spark-nlp-display-others\" style=\"background-color: white\">. On opening the specimen at </span><span class=\"spark-nlp-display-entity-wrapper\" style=\"background-color: #800080B3\"><span class=\"spark-nlp-display-entity-name\">1 cm in diameter penetrating well-circumscribed ulcer </span><span class=\"spark-nlp-display-entity-type\">PROBLEM</span><span class=\"spark-nlp-display-entity-resolution\" style=\"background-color: #800080FF\">L89.89 </span><span class=\"spark-nlp-display-entity-resolution\" style=\"background-color: #800080CC\">pressure ulcer of right foot stage 1 [pressure ulcer of other site]</span></span><span class=\"spark-nlp-display-others\" style=\"background-color: white\"> was found in the wall of the lesser curvature. </span><span class=\"spark-nlp-display-entity-wrapper\" style=\"background-color: #800080B3\"><span class=\"spark-nlp-display-entity-name\">This ulcer </span><span class=\"spark-nlp-display-entity-type\">PROBLEM</span><span class=\"spark-nlp-display-entity-resolution\" style=\"background-color: #800080FF\">K25.3 </span><span class=\"spark-nlp-display-entity-resolution\" style=\"background-color: #800080CC\">curling's ulcer [acute gastric ulcer without hemorrhage or perforation]</span></span><span class=\"spark-nlp-display-others\" style=\"background-color: white\"> penetrated to a depth of 1 cm. </span><span class=\"spark-nlp-display-entity-wrapper\" style=\"background-color: #800080B3\"><span class=\"spark-nlp-display-entity-name\">The ulcer </span><span class=\"spark-nlp-display-entity-type\">PROBLEM</span><span class=\"spark-nlp-display-entity-resolution\" style=\"background-color: #800080FF\">L98.9 </span><span class=\"spark-nlp-display-entity-resolution\" style=\"background-color: #800080CC\">ulcer [disorder of the skin and subcutaneous tissue, unspecified]</span></span><span class=\"spark-nlp-display-others\" style=\"background-color: white\"> was 3 cm from the proximal portion of the specimen and 4.5 cm from the distal portion. The edges of </span><span class=\"spark-nlp-display-entity-wrapper\" style=\"background-color: #800080B3\"><span class=\"spark-nlp-display-entity-name\">the ulcer </span><span class=\"spark-nlp-display-entity-type\">PROBLEM</span><span class=\"spark-nlp-display-entity-resolution\" style=\"background-color: #800080FF\">L98.9 </span><span class=\"spark-nlp-display-entity-resolution\" style=\"background-color: #800080CC\">ulcer [disorder of the skin and subcutaneous tissue, unspecified]</span></span><span class=\"spark-nlp-display-others\" style=\"background-color: white\"> were heaped up and firm, but there appeared to be no </span><span class=\"spark-nlp-display-entity-wrapper\" style=\"background-color: #800080B3\"><span class=\"spark-nlp-display-entity-name\">involvement of the surrounding mucosa </span><span class=\"spark-nlp-display-entity-type\">PROBLEM</span><span class=\"spark-nlp-display-entity-resolution\" style=\"background-color: #800080FF\">L98.9 </span><span class=\"spark-nlp-display-entity-resolution\" style=\"background-color: #800080CC\">lesion of mucosa (finding) [disorder of the skin and subcutaneous tissue, unspecified]</span></span><span class=\"spark-nlp-display-others\" style=\"background-color: white\">. </span><span class=\"spark-nlp-display-entity-wrapper\" style=\"background-color: #800080B3\"><span class=\"spark-nlp-display-entity-name\">The rugae or folds radiate </span><span class=\"spark-nlp-display-entity-type\">PROBLEM</span><span class=\"spark-nlp-display-entity-resolution\" style=\"background-color: #800080FF\">R23.8 </span><span class=\"spark-nlp-display-entity-resolution\" style=\"background-color: #800080CC\">o/e - skin fissures present [other skin changes]</span></span><span class=\"spark-nlp-display-others\" style=\"background-color: white\"> toward the center of </span><span class=\"spark-nlp-display-entity-wrapper\" style=\"background-color: #800080B3\"><span class=\"spark-nlp-display-entity-name\">the ulcer </span><span class=\"spark-nlp-display-entity-type\">PROBLEM</span><span class=\"spark-nlp-display-entity-resolution\" style=\"background-color: #800080FF\">L98.9 </span><span class=\"spark-nlp-display-entity-resolution\" style=\"background-color: #800080CC\">ulcer [disorder of the skin and subcutaneous tissue, unspecified]</span></span><span class=\"spark-nlp-display-others\" style=\"background-color: white\"> from the superior side, and the mucosa of the distal portion of the stomach was smooth.<br><br><br><br>The second specimen consisted of a portion of the left anterior vagus. Specimen consisted of a piece of </span><span class=\"spark-nlp-display-entity-wrapper\" style=\"background-color: #800080B3\"><span class=\"spark-nlp-display-entity-name\">pale gray-white </span><span class=\"spark-nlp-display-entity-type\">PROBLEM</span><span class=\"spark-nlp-display-entity-resolution\" style=\"background-color: #800080FF\">R23.1 </span><span class=\"spark-nlp-display-entity-resolution\" style=\"background-color: #800080CC\">pale complexion [pallor]</span></span><span class=\"spark-nlp-display-others\" style=\"background-color: white\">, soft tissue measuring 0.8 cm in length. The entire specimen was submitted for examination.<br><br><br><br>The third specimen was </span><span class=\"spark-nlp-display-entity-wrapper\" style=\"background-color: #800080B3\"><span class=\"spark-nlp-display-entity-name\">labeled right posterior vagus </span><span class=\"spark-nlp-display-entity-type\">PROBLEM</span><span class=\"spark-nlp-display-entity-resolution\" style=\"background-color: #800080FF\">R09.89 </span><span class=\"spark-nlp-display-entity-resolution\" style=\"background-color: #800080CC\">on examination - posterior tibial pulse - right (finding) [other specified symptoms and signs involving the circulatory and respiratory systems]</span></span><span class=\"spark-nlp-display-others\" style=\"background-color: white\"> and consisted of a piece of soft, </span><span class=\"spark-nlp-display-entity-wrapper\" style=\"background-color: #800080B3\"><span class=\"spark-nlp-display-entity-name\">gray-white tissue </span><span class=\"spark-nlp-display-entity-type\">PROBLEM</span><span class=\"spark-nlp-display-entity-resolution\" style=\"background-color: #800080FF\">L70.0 </span><span class=\"spark-nlp-display-entity-resolution\" style=\"background-color: #800080CC\">whitehead [acne vulgaris]</span></span><span class=\"spark-nlp-display-others\" style=\"background-color: white\"> measuring 2 cm in length and 0.4 cm in diameter. Entire specimen was submitted for examination.<br><br><br><br>Mictoscopic:<br><br>Microscopically there is </span><span class=\"spark-nlp-display-entity-wrapper\" style=\"background-color: #800080B3\"><span class=\"spark-nlp-display-entity-name\">a ragged ulcer </span><span class=\"spark-nlp-display-entity-type\">PROBLEM</span><span class=\"spark-nlp-display-entity-resolution\" style=\"background-color: #800080FF\">K25.3 </span><span class=\"spark-nlp-display-entity-resolution\" style=\"background-color: #800080CC\">curling's ulcer [acute gastric ulcer without hemorrhage or perforation]</span></span><span class=\"spark-nlp-display-others\" style=\"background-color: white\"> penetrating to within 5 mm of the serosal surface. </span><span class=\"spark-nlp-display-entity-wrapper\" style=\"background-color: #800080B3\"><span class=\"spark-nlp-display-entity-name\">The ulcer </span><span class=\"spark-nlp-display-entity-type\">PROBLEM</span><span class=\"spark-nlp-display-entity-resolution\" style=\"background-color: #800080FF\">L98.9 </span><span class=\"spark-nlp-display-entity-resolution\" style=\"background-color: #800080CC\">ulcer [disorder of the skin and subcutaneous tissue, unspecified]</span></span><span class=\"spark-nlp-display-others\" style=\"background-color: white\"> is surrounded by </span><span class=\"spark-nlp-display-entity-wrapper\" style=\"background-color: #800080B3\"><span class=\"spark-nlp-display-entity-name\">dense connective response </span><span class=\"spark-nlp-display-entity-type\">PROBLEM</span><span class=\"spark-nlp-display-entity-resolution\" style=\"background-color: #800080FF\">N64.5 </span><span class=\"spark-nlp-display-entity-resolution\" style=\"background-color: #800080CC\">extremely dense [other signs and symptoms in breast]</span></span><span class=\"spark-nlp-display-others\" style=\"background-color: white\"> and </span><span class=\"spark-nlp-display-entity-wrapper\" style=\"background-color: #800080B3\"><span class=\"spark-nlp-display-entity-name\">chronic inflammatory infiltrate </span><span class=\"spark-nlp-display-entity-type\">PROBLEM</span><span class=\"spark-nlp-display-entity-resolution\" style=\"background-color: #800080FF\">M08.90 </span><span class=\"spark-nlp-display-entity-resolution\" style=\"background-color: #800080CC\">inflamed joint [juvenile arthritis, unspecified, unspecified site]</span></span><span class=\"spark-nlp-display-others\" style=\"background-color: white\">. The edges are not heaped up, but several sections of </span><span class=\"spark-nlp-display-entity-wrapper\" style=\"background-color: #800080B3\"><span class=\"spark-nlp-display-entity-name\">the ulcer </span><span class=\"spark-nlp-display-entity-type\">PROBLEM</span><span class=\"spark-nlp-display-entity-resolution\" style=\"background-color: #800080FF\">L98.9 </span><span class=\"spark-nlp-display-entity-resolution\" style=\"background-color: #800080CC\">ulcer [disorder of the skin and subcutaneous tissue, unspecified]</span></span><span class=\"spark-nlp-display-others\" style=\"background-color: white\"> reveal </span><span class=\"spark-nlp-display-entity-wrapper\" style=\"background-color: #800080B3\"><span class=\"spark-nlp-display-entity-name\">malignant changes </span><span class=\"spark-nlp-display-entity-type\">PROBLEM</span><span class=\"spark-nlp-display-entity-resolution\" style=\"background-color: #800080FF\">C80.1 </span><span class=\"spark-nlp-display-entity-resolution\" style=\"background-color: #800080CC\">malignant neoplastic disease [malignant (primary) neoplasm, unspecified]</span></span><span class=\"spark-nlp-display-others\" style=\"background-color: white\">. </span><span class=\"spark-nlp-display-entity-wrapper\" style=\"background-color: #800080B3\"><span class=\"spark-nlp-display-entity-name\">The tumor </span><span class=\"spark-nlp-display-entity-type\">PROBLEM</span><span class=\"spark-nlp-display-entity-resolution\" style=\"background-color: #800080FF\">D49.9 </span><span class=\"spark-nlp-display-entity-resolution\" style=\"background-color: #800080CC\">tumor configuration [neoplasm of unspecified behavior of unspecified site]</span></span><span class=\"spark-nlp-display-others\" style=\"background-color: white\"> is superficial and composed of poorly formed glands and sheets of </span><span class=\"spark-nlp-display-entity-wrapper\" style=\"background-color: #800080B3\"><span class=\"spark-nlp-display-entity-name\">malignant cells </span><span class=\"spark-nlp-display-entity-type\">PROBLEM</span><span class=\"spark-nlp-display-entity-resolution\" style=\"background-color: #800080FF\">C80.1 </span><span class=\"spark-nlp-display-entity-resolution\" style=\"background-color: #800080CC\">malignant tumor [malignant (primary) neoplasm, unspecified]</span></span><span class=\"spark-nlp-display-others\" style=\"background-color: white\">. The cells are </span><span class=\"spark-nlp-display-entity-wrapper\" style=\"background-color: #800080B3\"><span class=\"spark-nlp-display-entity-name\">pleomorphic </span><span class=\"spark-nlp-display-entity-type\">PROBLEM</span><span class=\"spark-nlp-display-entity-resolution\" style=\"background-color: #800080FF\">H30.9 </span><span class=\"spark-nlp-display-entity-resolution\" style=\"background-color: #800080CC\">pic [unspecified chorioretinal inflammation]</span></span><span class=\"spark-nlp-display-others\" style=\"background-color: white\"> with </span><span class=\"spark-nlp-display-entity-wrapper\" style=\"background-color: #800080B3\"><span class=\"spark-nlp-display-entity-name\">small amounts of eosinophilic cytoplasm </span><span class=\"spark-nlp-display-entity-type\">PROBLEM</span><span class=\"spark-nlp-display-entity-resolution\" style=\"background-color: #800080FF\">D72.81 </span><span class=\"spark-nlp-display-entity-resolution\" style=\"background-color: #800080CC\">decreased blood eosinophil number [decreased white blood cell count]</span></span><span class=\"spark-nlp-display-others\" style=\"background-color: white\">. The nuclei are either </span><span class=\"spark-nlp-display-entity-wrapper\" style=\"background-color: #800080B3\"><span class=\"spark-nlp-display-entity-name\">pyknotic </span><span class=\"spark-nlp-display-entity-type\">PROBLEM</span><span class=\"spark-nlp-display-entity-resolution\" style=\"background-color: #800080FF\">R71.8 </span><span class=\"spark-nlp-display-entity-resolution\" style=\"background-color: #800080CC\">pyknocytosis [other abnormality of red blood cells]</span></span><span class=\"spark-nlp-display-others\" style=\"background-color: white\"> or </span><span class=\"spark-nlp-display-entity-wrapper\" style=\"background-color: #800080B3\"><span class=\"spark-nlp-display-entity-name\">large with prominent nucleoli </span><span class=\"spark-nlp-display-entity-type\">PROBLEM</span><span class=\"spark-nlp-display-entity-resolution\" style=\"background-color: #800080FF\">L60.8 </span><span class=\"spark-nlp-display-entity-resolution\" style=\"background-color: #800080CC\">large lunula [other nail disorders]</span></span><span class=\"spark-nlp-display-others\" style=\"background-color: white\"> and </span><span class=\"spark-nlp-display-entity-wrapper\" style=\"background-color: #800080B3\"><span class=\"spark-nlp-display-entity-name\">clumped chromatin </span><span class=\"spark-nlp-display-entity-type\">PROBLEM</span><span class=\"spark-nlp-display-entity-resolution\" style=\"background-color: #800080FF\">T69.8 </span><span class=\"spark-nlp-display-entity-resolution\" style=\"background-color: #800080CC\">chapped skin [other specified effects of reduced temperature]</span></span><span class=\"spark-nlp-display-others\" style=\"background-color: white\">. </span><span class=\"spark-nlp-display-entity-wrapper\" style=\"background-color: #800080B3\"><span class=\"spark-nlp-display-entity-name\">Mitoses </span><span class=\"spark-nlp-display-entity-type\">PROBLEM</span><span class=\"spark-nlp-display-entity-resolution\" style=\"background-color: #800080FF\">R89.8 </span><span class=\"spark-nlp-display-entity-resolution\" style=\"background-color: #800080CC\">mitotic alteration (finding) [other abnormal findings in specimens from other organs, systems and tissues]</span></span><span class=\"spark-nlp-display-others\" style=\"background-color: white\"> are rare. </span><span class=\"spark-nlp-display-entity-wrapper\" style=\"background-color: #800080B3\"><span class=\"spark-nlp-display-entity-name\">The tumor </span><span class=\"spark-nlp-display-entity-type\">PROBLEM</span><span class=\"spark-nlp-display-entity-resolution\" style=\"background-color: #800080FF\">D49.9 </span><span class=\"spark-nlp-display-entity-resolution\" style=\"background-color: #800080CC\">tumor configuration [neoplasm of unspecified behavior of unspecified site]</span></span><span class=\"spark-nlp-display-others\" style=\"background-color: white\"> proper does not extend below the mucosa, but a single nest of </span><span class=\"spark-nlp-display-entity-wrapper\" style=\"background-color: #800080B3\"><span class=\"spark-nlp-display-entity-name\">malignant cells </span><span class=\"spark-nlp-display-entity-type\">PROBLEM</span><span class=\"spark-nlp-display-entity-resolution\" style=\"background-color: #800080FF\">C80.1 </span><span class=\"spark-nlp-display-entity-resolution\" style=\"background-color: #800080CC\">malignant tumor [malignant (primary) neoplasm, unspecified]</span></span><span class=\"spark-nlp-display-others\" style=\"background-color: white\"> is seen in a submucosal lymphatic space. The surgical margins are free of </span><span class=\"spark-nlp-display-entity-wrapper\" style=\"background-color: #800080B3\"><span class=\"spark-nlp-display-entity-name\">tumor </span><span class=\"spark-nlp-display-entity-type\">PROBLEM</span><span class=\"spark-nlp-display-entity-resolution\" style=\"background-color: #800080FF\">D49.9 </span><span class=\"spark-nlp-display-entity-resolution\" style=\"background-color: #800080CC\">tumor configuration [neoplasm of unspecified behavior of unspecified site]</span></span><span class=\"spark-nlp-display-others\" style=\"background-color: white\">.<br><br><br><br>Four perigastric lymph nodes show no evidence of </span><span class=\"spark-nlp-display-entity-wrapper\" style=\"background-color: #800080B3\"><span class=\"spark-nlp-display-entity-name\">metastatic spread </span><span class=\"spark-nlp-display-entity-type\">PROBLEM</span><span class=\"spark-nlp-display-entity-resolution\" style=\"background-color: #800080FF\">C80.0 </span><span class=\"spark-nlp-display-entity-resolution\" style=\"background-color: #800080CC\">metastases [disseminated malignant neoplasm, unspecified]</span></span><span class=\"spark-nlp-display-others\" style=\"background-color: white\">.<br><br><br><br>There are two segments of large peripheral nerve.<br><br><br><br>Diagnosis:<br><br></span><span class=\"spark-nlp-display-entity-wrapper\" style=\"background-color: #800080B3\"><span class=\"spark-nlp-display-entity-name\">Superficial spreading carcinoma </span><span class=\"spark-nlp-display-entity-type\">PROBLEM</span><span class=\"spark-nlp-display-entity-resolution\" style=\"background-color: #800080FF\">C44.92 </span><span class=\"spark-nlp-display-entity-resolution\" style=\"background-color: #800080CC\">cutaneous squamous cell carcinoma [squamous cell carcinoma of skin, unspecified]</span></span><span class=\"spark-nlp-display-others\" style=\"background-color: white\"> </span><span class=\"spark-nlp-display-entity-wrapper\" style=\"background-color: #800080B3\"><span class=\"spark-nlp-display-entity-name\">rising </span><span class=\"spark-nlp-display-entity-type\">PROBLEM</span><span class=\"spark-nlp-display-entity-resolution\" style=\"background-color: #800080FF\">R79.9 </span><span class=\"spark-nlp-display-entity-resolution\" style=\"background-color: #800080CC\">inr raised [abnormal finding of blood chemistry, unspecified]</span></span><span class=\"spark-nlp-display-others\" style=\"background-color: white\"> in the margin of </span><span class=\"spark-nlp-display-entity-wrapper\" style=\"background-color: #800080B3\"><span class=\"spark-nlp-display-entity-name\">a chronic gastric ulcer </span><span class=\"spark-nlp-display-entity-type\">PROBLEM</span><span class=\"spark-nlp-display-entity-resolution\" style=\"background-color: #800080FF\">K25.7 </span><span class=\"spark-nlp-display-entity-resolution\" style=\"background-color: #800080CC\">chronic gastric ulcer [chronic gastric ulcer without hemorrhage or perforation]</span></span><span class=\"spark-nlp-display-others\" style=\"background-color: white\"> - the surgical margins appear free of </span><span class=\"spark-nlp-display-entity-wrapper\" style=\"background-color: #800080B3\"><span class=\"spark-nlp-display-entity-name\">tumor </span><span class=\"spark-nlp-display-entity-type\">PROBLEM</span><span class=\"spark-nlp-display-entity-resolution\" style=\"background-color: #800080FF\">D49.9 </span><span class=\"spark-nlp-display-entity-resolution\" style=\"background-color: #800080CC\">tumor configuration [neoplasm of unspecified behavior of unspecified site]</span></span><span class=\"spark-nlp-display-others\" style=\"background-color: white\">.<br><br></span><span class=\"spark-nlp-display-entity-wrapper\" style=\"background-color: #800080B3\"><span class=\"spark-nlp-display-entity-name\">Perigastric lymph nodes </span><span class=\"spark-nlp-display-entity-type\">PROBLEM</span><span class=\"spark-nlp-display-entity-resolution\" style=\"background-color: #800080FF\">R59.1 </span><span class=\"spark-nlp-display-entity-resolution\" style=\"background-color: #800080CC\">o/e - lymph nodes [generalized enlarged lymph nodes]</span></span><span class=\"spark-nlp-display-others\" style=\"background-color: white\"> (4) without </span><span class=\"spark-nlp-display-entity-wrapper\" style=\"background-color: #800080B3\"><span class=\"spark-nlp-display-entity-name\">demonstrable metastases </span><span class=\"spark-nlp-display-entity-type\">PROBLEM</span><span class=\"spark-nlp-display-entity-resolution\" style=\"background-color: #800080FF\">C79.9 </span><span class=\"spark-nlp-display-entity-resolution\" style=\"background-color: #800080CC\">distant metastasis present (finding) [secondary malignant neoplasm of unspecified site]</span></span><span class=\"spark-nlp-display-others\" style=\"background-color: white\">.</span></div>"
            ]
          },
          "metadata": {}
        }
      ]
    },
    {
      "cell_type": "markdown",
      "source": [
        "## **CPT (Current Procedural Terminology)**"
      ],
      "metadata": {
        "id": "LRWsrpjCJZX7"
      }
    },
    {
      "cell_type": "markdown",
      "source": [
        "Current Procedural Terminology (CPT) is a medical code set that is used to report medical, surgical, and diagnostic procedures and services to entities such as physicians, health insurance companies and accreditation organizations. CPT codes are used in conjunction with ICD-9-CM or ICD-10-CM numerical diagnostic coding during the electronic medical billing process."
      ],
      "metadata": {
        "id": "YuXq7SdyKCjB"
      }
    },
    {
      "cell_type": "code",
      "source": [
        "document_assembler = DocumentAssembler()\\\n",
        "    .setInputCol(\"text\")\\\n",
        "    .setOutputCol(\"document\")\n",
        "\n",
        "sentenceDetectorDL = SentenceDetectorDLModel.pretrained(\"sentence_detector_dl_healthcare\", \"en\", 'clinical/models') \\\n",
        "    .setInputCols([\"document\"]) \\\n",
        "    .setOutputCol(\"sentence\")\n",
        "\n",
        "tokenizer = Tokenizer()\\\n",
        "    .setInputCols([\"sentence\"])\\\n",
        "    .setOutputCol(\"token\")\n",
        "\n",
        "word_embeddings = WordEmbeddingsModel.pretrained(\"embeddings_clinical\", \"en\", \"clinical/models\")\\\n",
        "    .setInputCols([\"sentence\", \"token\"])\\\n",
        "    .setOutputCol(\"word_embeddings\")\n",
        "\n",
        "\n",
        "pos_tagger = PerceptronModel()\\\n",
        "    .pretrained(\"pos_clinical\", \"en\", \"clinical/models\") \\\n",
        "    .setInputCols([\"sentence\", \"token\"])\\\n",
        "    .setOutputCol(\"pos_tags\")\n",
        "\n",
        "dependency_parser = DependencyParserModel()\\\n",
        "    .pretrained(\"dependency_conllu\", \"en\")\\\n",
        "    .setInputCols([\"sentence\", \"pos_tags\", \"token\"])\\\n",
        "    .setOutputCol(\"dependencies\")\n",
        "\n",
        "# Named Entity Recognition for radiology reports.\n",
        "clinical_ner = MedicalNerModel.pretrained(\"jsl_rd_ner_wip_greedy_clinical\", \"en\", \"clinical/models\") \\\n",
        "   .setInputCols([\"sentence\", \"token\", \"word_embeddings\"]) \\\n",
        "   .setOutputCol(\"ner\")\n",
        "\n",
        "ner_chunker = NerConverterInternal()\\\n",
        "    .setInputCols([\"sentence\", \"token\", \"ner\"])\\\n",
        "    .setOutputCol(\"ner_chunk\")\n",
        "\n",
        "re_model = RelationExtractionModel()\\\n",
        "    .pretrained(\"re_bodypart_directions\", \"en\", 'clinical/models')\\\n",
        "    .setInputCols([\"word_embeddings\", \"pos_tags\", \"ner_chunk\", \"dependencies\"])\\\n",
        "    .setOutputCol(\"relations\")\\\n",
        "    .setRelationPairs([\"imagingtest-bodypart\", \"bodypart-imagingtest\"])\\\n",
        "    .setMaxSyntacticDistance(4)\\\n",
        "    .setPredictionThreshold(0.5)\n",
        "\n",
        "\n",
        "# Build up the pipeline\n",
        "relation_pipeline = Pipeline(\n",
        "    stages = [\n",
        "        document_assembler,\n",
        "        sentenceDetectorDL,\n",
        "        tokenizer,\n",
        "        word_embeddings,\n",
        "        pos_tagger,\n",
        "        dependency_parser,\n",
        "        clinical_ner,\n",
        "        ner_chunker,\n",
        "        re_model\n",
        "        ])\n",
        "\n",
        "\n",
        "empty_data = spark.createDataFrame([['']]).toDF(\"text\")\n",
        "\n",
        "rel_model = relation_pipeline.fit(empty_data)"
      ],
      "metadata": {
        "id": "Cv9ob8pqJhRi",
        "outputId": "4565e0c8-fbbe-4ee7-d806-235f508aa275",
        "colab": {
          "base_uri": "https://localhost:8080/"
        }
      },
      "execution_count": null,
      "outputs": [
        {
          "output_type": "stream",
          "name": "stdout",
          "text": [
            "sentence_detector_dl_healthcare download started this may take some time.\n",
            "Approximate size to download 367.3 KB\n",
            "[OK!]\n",
            "embeddings_clinical download started this may take some time.\n",
            "Approximate size to download 1.6 GB\n",
            "[OK!]\n",
            "pos_clinical download started this may take some time.\n",
            "Approximate size to download 1.5 MB\n",
            "[OK!]\n",
            "dependency_conllu download started this may take some time.\n",
            "Approximate size to download 16.7 MB\n",
            "[OK!]\n",
            "jsl_rd_ner_wip_greedy_clinical download started this may take some time.\n",
            "[OK!]\n",
            "re_bodypart_directions download started this may take some time.\n",
            "[OK!]\n"
          ]
        }
      ]
    },
    {
      "cell_type": "code",
      "source": [
        "light_rel_model = LightPipeline(rel_model)"
      ],
      "metadata": {
        "id": "-GkQsrfzOv2C"
      },
      "execution_count": null,
      "outputs": []
    },
    {
      "cell_type": "code",
      "source": [
        "text=\"Left shin pain. I have ordered x-ray of the left fibula and knee today. The patient will return to the clinic in 3 weeks. He is to call me in the interim for any problems.\"\n",
        "light_result = light_rel_model.fullAnnotate(text)\n",
        "\n",
        "visualiser = EntityResolverVisualizer()\n",
        "visualiser.display(light_result[0], 'ner_chunk', 'relations')"
      ],
      "metadata": {
        "id": "EAv1UMZvOwzA",
        "outputId": "65d4f2b3-4a2f-4015-9cee-21ed105fe0fe",
        "colab": {
          "base_uri": "https://localhost:8080/",
          "height": 148
        }
      },
      "execution_count": null,
      "outputs": [
        {
          "output_type": "display_data",
          "data": {
            "text/plain": [
              "<IPython.core.display.HTML object>"
            ],
            "text/html": [
              "\n",
              "<style>\n",
              "    @import url('https://fonts.googleapis.com/css2?family=Montserrat:wght@300;400;500;600;700&display=swap');\n",
              "    @import url('https://fonts.googleapis.com/css2?family=Vistol Regular:wght@300;400;500;600;700&display=swap');\n",
              "    \n",
              "    .spark-nlp-display-scroll-entities {\n",
              "        border: 1px solid #E7EDF0;\n",
              "        border-radius: 3px;\n",
              "        text-align: justify;\n",
              "        \n",
              "    }\n",
              "    .spark-nlp-display-scroll-entities span {  \n",
              "        font-size: 14px;\n",
              "        line-height: 24px;\n",
              "        color: #536B76;\n",
              "        font-family: 'Montserrat', sans-serif !important;\n",
              "    }\n",
              "    \n",
              "    .spark-nlp-display-entity-wrapper{\n",
              "    \n",
              "        display: inline-grid;\n",
              "        text-align: center;\n",
              "        border-radius: 4px;\n",
              "        margin: 0 2px 5px 2px;\n",
              "        padding: 1px\n",
              "    }\n",
              "    .spark-nlp-display-entity-name{\n",
              "        font-size: 14px;\n",
              "        line-height: 24px;\n",
              "        font-family: 'Montserrat', sans-serif !important;\n",
              "        \n",
              "        background: #f1f2f3;\n",
              "        border-width: medium;\n",
              "        text-align: center;\n",
              "        \n",
              "        font-weight: 400;\n",
              "        \n",
              "        border-radius: 5px;\n",
              "        padding: 2px 5px;\n",
              "        display: block;\n",
              "        margin: 3px 2px;\n",
              "    \n",
              "    }\n",
              "    .spark-nlp-display-entity-type{\n",
              "        font-size: 14px;\n",
              "        line-height: 24px;\n",
              "        color: #ffffff;\n",
              "        font-family: 'Montserrat', sans-serif !important;\n",
              "        \n",
              "        text-transform: uppercase;\n",
              "        \n",
              "        font-weight: 500;\n",
              "\n",
              "        display: block;\n",
              "        padding: 3px 5px;\n",
              "    }\n",
              "    \n",
              "    .spark-nlp-display-entity-resolution{\n",
              "        font-size: 14px;\n",
              "        line-height: 24px;\n",
              "        color: #ffffff;\n",
              "        font-family: 'Vistol Regular', sans-serif !important;\n",
              "        \n",
              "        text-transform: uppercase;\n",
              "        \n",
              "        font-weight: 500;\n",
              "\n",
              "        display: block;\n",
              "        padding: 3px 5px;\n",
              "    }\n",
              "    \n",
              "    .spark-nlp-display-others{\n",
              "        font-size: 14px;\n",
              "        line-height: 24px;\n",
              "        font-family: 'Montserrat', sans-serif !important;\n",
              "        \n",
              "        font-weight: 400;\n",
              "    }\n",
              "\n",
              "</style>\n",
              " <span class=\"spark-nlp-display-entity-wrapper\" style=\"background-color: #486325B3\"><span class=\"spark-nlp-display-entity-name\">Left </span><span class=\"spark-nlp-display-entity-type\">Direction</span></span><span class=\"spark-nlp-display-others\" style=\"background-color: white\"> </span><span class=\"spark-nlp-display-entity-wrapper\" style=\"background-color: #C33594B3\"><span class=\"spark-nlp-display-entity-name\">shin pain </span><span class=\"spark-nlp-display-entity-type\">Symptom</span></span><span class=\"spark-nlp-display-others\" style=\"background-color: white\">. I have ordered </span><span class=\"spark-nlp-display-entity-wrapper\" style=\"background-color: #5172AAB3\"><span class=\"spark-nlp-display-entity-name\">x-ray </span><span class=\"spark-nlp-display-entity-type\">ImagingTest</span><span class=\"spark-nlp-display-entity-resolution\" style=\"background-color: #5172AAFF\">1 </span><span class=\"spark-nlp-display-entity-resolution\" style=\"background-color: #5172AACC\">None</span></span><span class=\"spark-nlp-display-others\" style=\"background-color: white\"> of the </span><span class=\"spark-nlp-display-entity-wrapper\" style=\"background-color: #486325B3\"><span class=\"spark-nlp-display-entity-name\">left </span><span class=\"spark-nlp-display-entity-type\">Direction</span></span><span class=\"spark-nlp-display-others\" style=\"background-color: white\"> </span><span class=\"spark-nlp-display-entity-wrapper\" style=\"background-color: #8696A9B3\"><span class=\"spark-nlp-display-entity-name\">fibula </span><span class=\"spark-nlp-display-entity-type\">BodyPart</span></span><span class=\"spark-nlp-display-others\" style=\"background-color: white\"> and </span><span class=\"spark-nlp-display-entity-wrapper\" style=\"background-color: #8696A9B3\"><span class=\"spark-nlp-display-entity-name\">knee </span><span class=\"spark-nlp-display-entity-type\">BodyPart</span></span><span class=\"spark-nlp-display-others\" style=\"background-color: white\"> </span><span class=\"spark-nlp-display-entity-wrapper\" style=\"background-color: #692F81B3\"><span class=\"spark-nlp-display-entity-name\">today </span><span class=\"spark-nlp-display-entity-type\">RelativeDate</span></span><span class=\"spark-nlp-display-others\" style=\"background-color: white\">. The patient will return to the clinic </span><span class=\"spark-nlp-display-entity-wrapper\" style=\"background-color: #692F81B3\"><span class=\"spark-nlp-display-entity-name\">in 3 weeks </span><span class=\"spark-nlp-display-entity-type\">RelativeDate</span></span><span class=\"spark-nlp-display-others\" style=\"background-color: white\">. </span><span class=\"spark-nlp-display-entity-wrapper\" style=\"background-color: #ffacb7B3\"><span class=\"spark-nlp-display-entity-name\">He </span><span class=\"spark-nlp-display-entity-type\">Gender</span></span><span class=\"spark-nlp-display-others\" style=\"background-color: white\"> is to call me in the interim for any problems.</span></div>"
            ]
          },
          "metadata": {}
        }
      ]
    },
    {
      "cell_type": "code",
      "source": [
        "documentAssembler = DocumentAssembler()\\\n",
        "    .setInputCol(\"text\")\\\n",
        "    .setOutputCol(\"ner_chunk\")\n",
        "\n",
        "sbert_embedder = BertSentenceEmbeddings\\\n",
        "    .pretrained('sbiobert_base_cased_mli', 'en','clinical/models')\\\n",
        "    .setInputCols([\"ner_chunk\"])\\\n",
        "    .setOutputCol(\"sentence_embeddings\")\\\n",
        "    .setCaseSensitive(False)\n",
        "\n",
        "cpt_resolver = SentenceEntityResolverModel.pretrained(\"sbiobertresolve_cpt_augmented\",\"en\", \"clinical/models\") \\\n",
        "    .setInputCols([\"sentence_embeddings\"]) \\\n",
        "    .setOutputCol(\"cpt_code\")\\\n",
        "    .setDistanceFunction(\"EUCLIDEAN\")\n",
        "\n",
        "\n",
        "cpt_pipelineModel = PipelineModel(\n",
        "    stages = [\n",
        "        documentAssembler,\n",
        "        sbert_embedder,\n",
        "        cpt_resolver])\n",
        "\n",
        "\n",
        "cpt_lp = LightPipeline(cpt_pipelineModel)"
      ],
      "metadata": {
        "id": "Xl7fqoLeP4Eg",
        "outputId": "b0d7e1d1-c3b8-4063-995b-3e27649dccc2",
        "colab": {
          "base_uri": "https://localhost:8080/"
        }
      },
      "execution_count": null,
      "outputs": [
        {
          "output_type": "stream",
          "name": "stdout",
          "text": [
            "sbiobert_base_cased_mli download started this may take some time.\n",
            "Approximate size to download 384.3 MB\n",
            "[OK!]\n",
            "sbiobertresolve_cpt_augmented download started this may take some time.\n",
            "[OK!]\n"
          ]
        }
      ]
    },
    {
      "cell_type": "code",
      "source": [
        "def get_relations_df (results, col='relations'):\n",
        "    rel_pairs=[]\n",
        "    for rel in results[0][col]:\n",
        "        rel_pairs.append((\n",
        "          rel.metadata['entity1'],\n",
        "          rel.metadata['entity1_begin'],\n",
        "          rel.metadata['entity1_end'],\n",
        "          rel.metadata['chunk1'],\n",
        "          rel.metadata['entity2'],\n",
        "          rel.metadata['entity2_begin'],\n",
        "          rel.metadata['entity2_end'],\n",
        "          rel.metadata['chunk2'],\n",
        "          rel.metadata['confidence']\n",
        "        ))\n",
        "\n",
        "    rel_df = pd.DataFrame(rel_pairs, columns=['entity1','entity1_begin','entity1_end','chunk1',\n",
        "                                              'entity2','entity2_end','entity2_end','chunk2',\n",
        "                                              'confidence'])\n",
        "\n",
        "    # limit df columns to get entity and chunks with results only\n",
        "    rel_df = rel_df.iloc[:,[0,3,4,7,8]]\n",
        "\n",
        "    return rel_df"
      ],
      "metadata": {
        "id": "spKnKf-XRErR"
      },
      "execution_count": null,
      "outputs": []
    },
    {
      "cell_type": "code",
      "source": [
        "def get_codes (lp, text, vocab='icd10cm_code', hcc=False):\n",
        "\n",
        "    full_light_result = lp.fullAnnotate(text)\n",
        "\n",
        "    chunks = []\n",
        "    codes = []\n",
        "    begin = []\n",
        "    end = []\n",
        "    resolutions=[]\n",
        "    all_distances =[]\n",
        "    all_codes=[]\n",
        "    all_cosines = []\n",
        "    all_k_aux_labels=[]\n",
        "\n",
        "    for chunk, code in zip(full_light_result[0]['ner_chunk'], full_light_result[0][vocab]):\n",
        "\n",
        "        begin.append(chunk.begin)\n",
        "        end.append(chunk.end)\n",
        "        chunks.append(chunk.result)\n",
        "        codes.append(code.result)\n",
        "        all_codes.append(code.metadata['all_k_results'].split(':::'))\n",
        "        resolutions.append(code.metadata['all_k_resolutions'].split(':::'))\n",
        "        all_distances.append(code.metadata['all_k_distances'].split(':::'))\n",
        "        all_cosines.append(code.metadata['all_k_cosine_distances'].split(':::'))\n",
        "        if hcc:\n",
        "            try:\n",
        "                all_k_aux_labels.append(code.metadata['all_k_aux_labels'].split(':::'))\n",
        "            except:\n",
        "                all_k_aux_labels.append([])\n",
        "        else:\n",
        "            all_k_aux_labels.append([])\n",
        "\n",
        "    df = pd.DataFrame({'chunks':chunks, 'begin': begin, 'end':end, 'code':codes, 'all_codes':all_codes,\n",
        "                       'resolutions':resolutions, 'all_k_aux_labels':all_k_aux_labels,'all_distances':all_cosines})\n",
        "\n",
        "    if hcc:\n",
        "\n",
        "        df['billable'] = df['all_k_aux_labels'].apply(lambda x: [i.split('||')[0] for i in x])\n",
        "        df['hcc_status'] = df['all_k_aux_labels'].apply(lambda x: [i.split('||')[1] for i in x])\n",
        "        df['hcc_code'] = df['all_k_aux_labels'].apply(lambda x: [i.split('||')[2] for i in x])\n",
        "\n",
        "    df = df.drop(['all_k_aux_labels'], axis=1)\n",
        "\n",
        "    return df\n"
      ],
      "metadata": {
        "id": "wghB8K4EQdGw"
      },
      "execution_count": null,
      "outputs": []
    },
    {
      "cell_type": "code",
      "source": [
        "text = 'fibula x-ray'\n",
        "\n",
        "%time get_codes (cpt_lp, text, vocab='cpt_code')"
      ],
      "metadata": {
        "id": "1qdB2wmORiBI",
        "outputId": "94671a09-bfab-47a0-ba55-d8cf33269041",
        "colab": {
          "base_uri": "https://localhost:8080/",
          "height": 115
        }
      },
      "execution_count": null,
      "outputs": [
        {
          "output_type": "stream",
          "name": "stdout",
          "text": [
            "CPU times: user 36.9 ms, sys: 13.2 ms, total: 50.1 ms\n",
            "Wall time: 537 ms\n"
          ]
        },
        {
          "output_type": "execute_result",
          "data": {
            "text/plain": [
              "         chunks  begin  end   code  \\\n",
              "0  fibula x-ray      0   11  73590   \n",
              "\n",
              "                                           all_codes  \\\n",
              "0  [73590, 27676, 27455, 27712, 27457, 27707, 735...   \n",
              "\n",
              "                                         resolutions  \\\n",
              "0  [Tibia and fibula X-ray, Incision of fibula, I...   \n",
              "\n",
              "                                       all_distances  \n",
              "0  [0.0895, 0.0970, 0.0970, 0.0970, 0.0970, 0.097...  "
            ],
            "text/html": [
              "\n",
              "  <div id=\"df-7d92a8a3-453c-4c25-83e1-ace5ac2ec877\" class=\"colab-df-container\">\n",
              "    <div>\n",
              "<style scoped>\n",
              "    .dataframe tbody tr th:only-of-type {\n",
              "        vertical-align: middle;\n",
              "    }\n",
              "\n",
              "    .dataframe tbody tr th {\n",
              "        vertical-align: top;\n",
              "    }\n",
              "\n",
              "    .dataframe thead th {\n",
              "        text-align: right;\n",
              "    }\n",
              "</style>\n",
              "<table border=\"1\" class=\"dataframe\">\n",
              "  <thead>\n",
              "    <tr style=\"text-align: right;\">\n",
              "      <th></th>\n",
              "      <th>chunks</th>\n",
              "      <th>begin</th>\n",
              "      <th>end</th>\n",
              "      <th>code</th>\n",
              "      <th>all_codes</th>\n",
              "      <th>resolutions</th>\n",
              "      <th>all_distances</th>\n",
              "    </tr>\n",
              "  </thead>\n",
              "  <tbody>\n",
              "    <tr>\n",
              "      <th>0</th>\n",
              "      <td>fibula x-ray</td>\n",
              "      <td>0</td>\n",
              "      <td>11</td>\n",
              "      <td>73590</td>\n",
              "      <td>[73590, 27676, 27455, 27712, 27457, 27707, 735...</td>\n",
              "      <td>[Tibia and fibula X-ray, Incision of fibula, I...</td>\n",
              "      <td>[0.0895, 0.0970, 0.0970, 0.0970, 0.0970, 0.097...</td>\n",
              "    </tr>\n",
              "  </tbody>\n",
              "</table>\n",
              "</div>\n",
              "    <div class=\"colab-df-buttons\">\n",
              "\n",
              "  <div class=\"colab-df-container\">\n",
              "    <button class=\"colab-df-convert\" onclick=\"convertToInteractive('df-7d92a8a3-453c-4c25-83e1-ace5ac2ec877')\"\n",
              "            title=\"Convert this dataframe to an interactive table.\"\n",
              "            style=\"display:none;\">\n",
              "\n",
              "  <svg xmlns=\"http://www.w3.org/2000/svg\" height=\"24px\" viewBox=\"0 -960 960 960\">\n",
              "    <path d=\"M120-120v-720h720v720H120Zm60-500h600v-160H180v160Zm220 220h160v-160H400v160Zm0 220h160v-160H400v160ZM180-400h160v-160H180v160Zm440 0h160v-160H620v160ZM180-180h160v-160H180v160Zm440 0h160v-160H620v160Z\"/>\n",
              "  </svg>\n",
              "    </button>\n",
              "\n",
              "  <style>\n",
              "    .colab-df-container {\n",
              "      display:flex;\n",
              "      gap: 12px;\n",
              "    }\n",
              "\n",
              "    .colab-df-convert {\n",
              "      background-color: #E8F0FE;\n",
              "      border: none;\n",
              "      border-radius: 50%;\n",
              "      cursor: pointer;\n",
              "      display: none;\n",
              "      fill: #1967D2;\n",
              "      height: 32px;\n",
              "      padding: 0 0 0 0;\n",
              "      width: 32px;\n",
              "    }\n",
              "\n",
              "    .colab-df-convert:hover {\n",
              "      background-color: #E2EBFA;\n",
              "      box-shadow: 0px 1px 2px rgba(60, 64, 67, 0.3), 0px 1px 3px 1px rgba(60, 64, 67, 0.15);\n",
              "      fill: #174EA6;\n",
              "    }\n",
              "\n",
              "    .colab-df-buttons div {\n",
              "      margin-bottom: 4px;\n",
              "    }\n",
              "\n",
              "    [theme=dark] .colab-df-convert {\n",
              "      background-color: #3B4455;\n",
              "      fill: #D2E3FC;\n",
              "    }\n",
              "\n",
              "    [theme=dark] .colab-df-convert:hover {\n",
              "      background-color: #434B5C;\n",
              "      box-shadow: 0px 1px 3px 1px rgba(0, 0, 0, 0.15);\n",
              "      filter: drop-shadow(0px 1px 2px rgba(0, 0, 0, 0.3));\n",
              "      fill: #FFFFFF;\n",
              "    }\n",
              "  </style>\n",
              "\n",
              "    <script>\n",
              "      const buttonEl =\n",
              "        document.querySelector('#df-7d92a8a3-453c-4c25-83e1-ace5ac2ec877 button.colab-df-convert');\n",
              "      buttonEl.style.display =\n",
              "        google.colab.kernel.accessAllowed ? 'block' : 'none';\n",
              "\n",
              "      async function convertToInteractive(key) {\n",
              "        const element = document.querySelector('#df-7d92a8a3-453c-4c25-83e1-ace5ac2ec877');\n",
              "        const dataTable =\n",
              "          await google.colab.kernel.invokeFunction('convertToInteractive',\n",
              "                                                    [key], {});\n",
              "        if (!dataTable) return;\n",
              "\n",
              "        const docLinkHtml = 'Like what you see? Visit the ' +\n",
              "          '<a target=\"_blank\" href=https://colab.research.google.com/notebooks/data_table.ipynb>data table notebook</a>'\n",
              "          + ' to learn more about interactive tables.';\n",
              "        element.innerHTML = '';\n",
              "        dataTable['output_type'] = 'display_data';\n",
              "        await google.colab.output.renderOutput(dataTable, element);\n",
              "        const docLink = document.createElement('div');\n",
              "        docLink.innerHTML = docLinkHtml;\n",
              "        element.appendChild(docLink);\n",
              "      }\n",
              "    </script>\n",
              "  </div>\n",
              "\n",
              "    </div>\n",
              "  </div>\n"
            ]
          },
          "metadata": {},
          "execution_count": 23
        }
      ]
    },
    {
      "cell_type": "markdown",
      "source": [
        "## **Sentence Entity Resolver (LOINC)**\n",
        "\n",
        "Logical Observation Identifiers Names and Codes (LOINC) is a database and universal standard for identifying medical laboratory observations.\n",
        "\n",
        "LOINC applies universal code names and identifiers to medical terminology related to electronic health records. The purpose is to assist in the electronic exchange and gathering of clinical results (such as laboratory tests, clinical observations, outcomes management and research)."
      ],
      "metadata": {
        "id": "Y6HC4hJpR9_f"
      }
    },
    {
      "cell_type": "code",
      "source": [
        "documentAssembler = DocumentAssembler()\\\n",
        "    .setInputCol(\"text\")\\\n",
        "    .setOutputCol(\"ner_chunk\")\n",
        "\n",
        "sbert_embedder = BertSentenceEmbeddings\\\n",
        "    .pretrained('sbiobert_base_cased_mli', 'en','clinical/models')\\\n",
        "    .setInputCols([\"ner_chunk\"])\\\n",
        "    .setOutputCol(\"sentence_embeddings\")\\\n",
        "    .setCaseSensitive(False)\n",
        "\n",
        "loinc_resolver = SentenceEntityResolverModel.pretrained(\"sbiobertresolve_loinc_augmented\", \"en\", \"clinical/models\") \\\n",
        "    .setInputCols([\"sentence_embeddings\"]) \\\n",
        "    .setOutputCol(\"loinc_code\")\\\n",
        "    .setDistanceFunction(\"EUCLIDEAN\")\n",
        "\n",
        "loinc_pipelineModel = PipelineModel(\n",
        "    stages = [\n",
        "        documentAssembler,\n",
        "        sbert_embedder,\n",
        "        loinc_resolver])\n",
        "\n",
        "loinc_lp = LightPipeline(loinc_pipelineModel)"
      ],
      "metadata": {
        "id": "5qBrKeMgR7QQ",
        "outputId": "1dbf0b01-576d-4253-bc7c-3c4657dc29c4",
        "colab": {
          "base_uri": "https://localhost:8080/"
        }
      },
      "execution_count": null,
      "outputs": [
        {
          "output_type": "stream",
          "name": "stdout",
          "text": [
            "sbiobert_base_cased_mli download started this may take some time.\n",
            "Approximate size to download 384.3 MB\n",
            "[OK!]\n",
            "sbiobertresolve_loinc_augmented download started this may take some time.\n",
            "[OK!]\n"
          ]
        }
      ]
    },
    {
      "cell_type": "code",
      "source": [
        "text = 'FLT3 gene mutation analysis'\n",
        "\n",
        "%time get_codes (loinc_lp, text, vocab='loinc_code')"
      ],
      "metadata": {
        "id": "IE_ShyUaUQff",
        "outputId": "f29fb4ef-fa4d-4df4-ac3e-9cd4ca7481f3",
        "colab": {
          "base_uri": "https://localhost:8080/",
          "height": 115
        }
      },
      "execution_count": null,
      "outputs": [
        {
          "output_type": "stream",
          "name": "stdout",
          "text": [
            "CPU times: user 40.3 ms, sys: 8.79 ms, total: 49 ms\n",
            "Wall time: 1 s\n"
          ]
        },
        {
          "output_type": "execute_result",
          "data": {
            "text/plain": [
              "                        chunks  begin  end     code  \\\n",
              "0  FLT3 gene mutation analysis      0   26  47958-4   \n",
              "\n",
              "                                           all_codes  \\\n",
              "0  [47958-4, LP310331-6, 21676-2, 53863-7, 92843-...   \n",
              "\n",
              "                                         resolutions  \\\n",
              "0  [FLT3 gene targeted mutation analysis [FLT3 ge...   \n",
              "\n",
              "                                       all_distances  \n",
              "0  [0.0354, 0.1032, 0.1021, 0.1111, 0.1155, 0.113...  "
            ],
            "text/html": [
              "\n",
              "  <div id=\"df-0354f9c7-0584-4622-96b5-4180d01552d0\" class=\"colab-df-container\">\n",
              "    <div>\n",
              "<style scoped>\n",
              "    .dataframe tbody tr th:only-of-type {\n",
              "        vertical-align: middle;\n",
              "    }\n",
              "\n",
              "    .dataframe tbody tr th {\n",
              "        vertical-align: top;\n",
              "    }\n",
              "\n",
              "    .dataframe thead th {\n",
              "        text-align: right;\n",
              "    }\n",
              "</style>\n",
              "<table border=\"1\" class=\"dataframe\">\n",
              "  <thead>\n",
              "    <tr style=\"text-align: right;\">\n",
              "      <th></th>\n",
              "      <th>chunks</th>\n",
              "      <th>begin</th>\n",
              "      <th>end</th>\n",
              "      <th>code</th>\n",
              "      <th>all_codes</th>\n",
              "      <th>resolutions</th>\n",
              "      <th>all_distances</th>\n",
              "    </tr>\n",
              "  </thead>\n",
              "  <tbody>\n",
              "    <tr>\n",
              "      <th>0</th>\n",
              "      <td>FLT3 gene mutation analysis</td>\n",
              "      <td>0</td>\n",
              "      <td>26</td>\n",
              "      <td>47958-4</td>\n",
              "      <td>[47958-4, LP310331-6, 21676-2, 53863-7, 92843-...</td>\n",
              "      <td>[FLT3 gene targeted mutation analysis [FLT3 ge...</td>\n",
              "      <td>[0.0354, 0.1032, 0.1021, 0.1111, 0.1155, 0.113...</td>\n",
              "    </tr>\n",
              "  </tbody>\n",
              "</table>\n",
              "</div>\n",
              "    <div class=\"colab-df-buttons\">\n",
              "\n",
              "  <div class=\"colab-df-container\">\n",
              "    <button class=\"colab-df-convert\" onclick=\"convertToInteractive('df-0354f9c7-0584-4622-96b5-4180d01552d0')\"\n",
              "            title=\"Convert this dataframe to an interactive table.\"\n",
              "            style=\"display:none;\">\n",
              "\n",
              "  <svg xmlns=\"http://www.w3.org/2000/svg\" height=\"24px\" viewBox=\"0 -960 960 960\">\n",
              "    <path d=\"M120-120v-720h720v720H120Zm60-500h600v-160H180v160Zm220 220h160v-160H400v160Zm0 220h160v-160H400v160ZM180-400h160v-160H180v160Zm440 0h160v-160H620v160ZM180-180h160v-160H180v160Zm440 0h160v-160H620v160Z\"/>\n",
              "  </svg>\n",
              "    </button>\n",
              "\n",
              "  <style>\n",
              "    .colab-df-container {\n",
              "      display:flex;\n",
              "      gap: 12px;\n",
              "    }\n",
              "\n",
              "    .colab-df-convert {\n",
              "      background-color: #E8F0FE;\n",
              "      border: none;\n",
              "      border-radius: 50%;\n",
              "      cursor: pointer;\n",
              "      display: none;\n",
              "      fill: #1967D2;\n",
              "      height: 32px;\n",
              "      padding: 0 0 0 0;\n",
              "      width: 32px;\n",
              "    }\n",
              "\n",
              "    .colab-df-convert:hover {\n",
              "      background-color: #E2EBFA;\n",
              "      box-shadow: 0px 1px 2px rgba(60, 64, 67, 0.3), 0px 1px 3px 1px rgba(60, 64, 67, 0.15);\n",
              "      fill: #174EA6;\n",
              "    }\n",
              "\n",
              "    .colab-df-buttons div {\n",
              "      margin-bottom: 4px;\n",
              "    }\n",
              "\n",
              "    [theme=dark] .colab-df-convert {\n",
              "      background-color: #3B4455;\n",
              "      fill: #D2E3FC;\n",
              "    }\n",
              "\n",
              "    [theme=dark] .colab-df-convert:hover {\n",
              "      background-color: #434B5C;\n",
              "      box-shadow: 0px 1px 3px 1px rgba(0, 0, 0, 0.15);\n",
              "      filter: drop-shadow(0px 1px 2px rgba(0, 0, 0, 0.3));\n",
              "      fill: #FFFFFF;\n",
              "    }\n",
              "  </style>\n",
              "\n",
              "    <script>\n",
              "      const buttonEl =\n",
              "        document.querySelector('#df-0354f9c7-0584-4622-96b5-4180d01552d0 button.colab-df-convert');\n",
              "      buttonEl.style.display =\n",
              "        google.colab.kernel.accessAllowed ? 'block' : 'none';\n",
              "\n",
              "      async function convertToInteractive(key) {\n",
              "        const element = document.querySelector('#df-0354f9c7-0584-4622-96b5-4180d01552d0');\n",
              "        const dataTable =\n",
              "          await google.colab.kernel.invokeFunction('convertToInteractive',\n",
              "                                                    [key], {});\n",
              "        if (!dataTable) return;\n",
              "\n",
              "        const docLinkHtml = 'Like what you see? Visit the ' +\n",
              "          '<a target=\"_blank\" href=https://colab.research.google.com/notebooks/data_table.ipynb>data table notebook</a>'\n",
              "          + ' to learn more about interactive tables.';\n",
              "        element.innerHTML = '';\n",
              "        dataTable['output_type'] = 'display_data';\n",
              "        await google.colab.output.renderOutput(dataTable, element);\n",
              "        const docLink = document.createElement('div');\n",
              "        docLink.innerHTML = docLinkHtml;\n",
              "        element.appendChild(docLink);\n",
              "      }\n",
              "    </script>\n",
              "  </div>\n",
              "\n",
              "    </div>\n",
              "  </div>\n"
            ]
          },
          "metadata": {},
          "execution_count": 29
        }
      ]
    }
  ],
  "metadata": {
    "accelerator": "TPU",
    "colab": {
      "provenance": [],
      "authorship_tag": "ABX9TyMHBsjkdaOiBZrdxbh8BUFh",
      "include_colab_link": true
    },
    "kernelspec": {
      "display_name": "Python 3",
      "name": "python3"
    },
    "language_info": {
      "name": "python"
    }
  },
  "nbformat": 4,
  "nbformat_minor": 0
}
