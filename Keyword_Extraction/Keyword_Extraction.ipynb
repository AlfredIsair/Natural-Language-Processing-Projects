{
  "nbformat": 4,
  "nbformat_minor": 0,
  "metadata": {
    "colab": {
      "provenance": [],
      "authorship_tag": "ABX9TyPvNNc6zjMGH39nF4/6gBvA",
      "include_colab_link": true
    },
    "kernelspec": {
      "name": "python3",
      "display_name": "Python 3"
    },
    "language_info": {
      "name": "python"
    },
    "widgets": {
      "application/vnd.jupyter.widget-state+json": {
        "787d73a40de744e9903eddb25c3855b6": {
          "model_module": "@jupyter-widgets/controls",
          "model_name": "TextareaModel",
          "model_module_version": "1.5.0",
          "state": {
            "_dom_classes": [],
            "_model_module": "@jupyter-widgets/controls",
            "_model_module_version": "1.5.0",
            "_model_name": "TextareaModel",
            "_view_count": null,
            "_view_module": "@jupyter-widgets/controls",
            "_view_module_version": "1.5.0",
            "_view_name": "TextareaView",
            "continuous_update": true,
            "description": "Text:",
            "description_tooltip": null,
            "disabled": false,
            "layout": "IPY_MODEL_603322f773cb4d70a5fe1123052be048",
            "placeholder": "Enter your text here",
            "rows": null,
            "style": "IPY_MODEL_65b66d37bc76423cab050d4e1d3c11bb",
            "value": "Passionate and results-oriented data analyst with expertise in data analytics and business intelligence. Proficient in leveraging data-driven insights to optimize business outcomes and drive organizational growth. Experienced in extracting actionable insights from complex datasets to inform strategic decision-making processes. Eager to apply analytical skills and proficiency in programming to drive innovation and drive business success through data-driven strategies."
          }
        },
        "603322f773cb4d70a5fe1123052be048": {
          "model_module": "@jupyter-widgets/base",
          "model_name": "LayoutModel",
          "model_module_version": "1.2.0",
          "state": {
            "_model_module": "@jupyter-widgets/base",
            "_model_module_version": "1.2.0",
            "_model_name": "LayoutModel",
            "_view_count": null,
            "_view_module": "@jupyter-widgets/base",
            "_view_module_version": "1.2.0",
            "_view_name": "LayoutView",
            "align_content": null,
            "align_items": null,
            "align_self": null,
            "border": null,
            "bottom": null,
            "display": null,
            "flex": null,
            "flex_flow": null,
            "grid_area": null,
            "grid_auto_columns": null,
            "grid_auto_flow": null,
            "grid_auto_rows": null,
            "grid_column": null,
            "grid_gap": null,
            "grid_row": null,
            "grid_template_areas": null,
            "grid_template_columns": null,
            "grid_template_rows": null,
            "height": null,
            "justify_content": null,
            "justify_items": null,
            "left": null,
            "margin": null,
            "max_height": null,
            "max_width": null,
            "min_height": null,
            "min_width": null,
            "object_fit": null,
            "object_position": null,
            "order": null,
            "overflow": null,
            "overflow_x": null,
            "overflow_y": null,
            "padding": null,
            "right": null,
            "top": null,
            "visibility": null,
            "width": null
          }
        },
        "65b66d37bc76423cab050d4e1d3c11bb": {
          "model_module": "@jupyter-widgets/controls",
          "model_name": "DescriptionStyleModel",
          "model_module_version": "1.5.0",
          "state": {
            "_model_module": "@jupyter-widgets/controls",
            "_model_module_version": "1.5.0",
            "_model_name": "DescriptionStyleModel",
            "_view_count": null,
            "_view_module": "@jupyter-widgets/base",
            "_view_module_version": "1.2.0",
            "_view_name": "StyleView",
            "description_width": ""
          }
        },
        "416fac22ed21475389b75def4894e74e": {
          "model_module": "@jupyter-widgets/controls",
          "model_name": "ButtonModel",
          "model_module_version": "1.5.0",
          "state": {
            "_dom_classes": [],
            "_model_module": "@jupyter-widgets/controls",
            "_model_module_version": "1.5.0",
            "_model_name": "ButtonModel",
            "_view_count": null,
            "_view_module": "@jupyter-widgets/controls",
            "_view_module_version": "1.5.0",
            "_view_name": "ButtonView",
            "button_style": "",
            "description": "Extract Keywords",
            "disabled": false,
            "icon": "",
            "layout": "IPY_MODEL_d0378ebf7ed446e78230e115d47a6002",
            "style": "IPY_MODEL_d8b14fbcb6a4447e874a6e2b1136225b",
            "tooltip": ""
          }
        },
        "d0378ebf7ed446e78230e115d47a6002": {
          "model_module": "@jupyter-widgets/base",
          "model_name": "LayoutModel",
          "model_module_version": "1.2.0",
          "state": {
            "_model_module": "@jupyter-widgets/base",
            "_model_module_version": "1.2.0",
            "_model_name": "LayoutModel",
            "_view_count": null,
            "_view_module": "@jupyter-widgets/base",
            "_view_module_version": "1.2.0",
            "_view_name": "LayoutView",
            "align_content": null,
            "align_items": null,
            "align_self": null,
            "border": null,
            "bottom": null,
            "display": null,
            "flex": null,
            "flex_flow": null,
            "grid_area": null,
            "grid_auto_columns": null,
            "grid_auto_flow": null,
            "grid_auto_rows": null,
            "grid_column": null,
            "grid_gap": null,
            "grid_row": null,
            "grid_template_areas": null,
            "grid_template_columns": null,
            "grid_template_rows": null,
            "height": null,
            "justify_content": null,
            "justify_items": null,
            "left": null,
            "margin": null,
            "max_height": null,
            "max_width": null,
            "min_height": null,
            "min_width": null,
            "object_fit": null,
            "object_position": null,
            "order": null,
            "overflow": null,
            "overflow_x": null,
            "overflow_y": null,
            "padding": null,
            "right": null,
            "top": null,
            "visibility": null,
            "width": null
          }
        },
        "d8b14fbcb6a4447e874a6e2b1136225b": {
          "model_module": "@jupyter-widgets/controls",
          "model_name": "ButtonStyleModel",
          "model_module_version": "1.5.0",
          "state": {
            "_model_module": "@jupyter-widgets/controls",
            "_model_module_version": "1.5.0",
            "_model_name": "ButtonStyleModel",
            "_view_count": null,
            "_view_module": "@jupyter-widgets/base",
            "_view_module_version": "1.2.0",
            "_view_name": "StyleView",
            "button_color": null,
            "font_weight": ""
          }
        }
      }
    }
  },
  "cells": [
    {
      "cell_type": "markdown",
      "metadata": {
        "id": "view-in-github",
        "colab_type": "text"
      },
      "source": [
        "<a href=\"https://colab.research.google.com/github/AlfredIsair/Natural-Language-Processing-Projects/blob/main/Keyword_Extraction/Keyword_Extraction.ipynb\" target=\"_parent\"><img src=\"https://colab.research.google.com/assets/colab-badge.svg\" alt=\"Open In Colab\"/></a>"
      ]
    },
    {
      "cell_type": "markdown",
      "source": [
        "### **Keyphrase or keyword extraction**\n",
        "in NLP is a text analysis technique that extracts important words and phrases from the input text. These key phrases can be used in a variety of tasks, including information retrieval, document summarization, and content categorization."
      ],
      "metadata": {
        "id": "GqoduXPAiKSt"
      }
    },
    {
      "cell_type": "code",
      "execution_count": 32,
      "metadata": {
        "id": "wOUPXEoNFYDL"
      },
      "outputs": [],
      "source": [
        "! pip install -q pyspark==3.4.1 spark-nlp==5.1.2"
      ]
    },
    {
      "cell_type": "code",
      "source": [
        "from pyspark.sql import functions as F\n",
        "from pyspark.sql.functions import lit\n",
        "from pyspark.sql.types  import StringType, DataType, ArrayType\n",
        "from pyspark.sql.functions import udf, struct\n",
        "from pyspark.ml import Pipeline\n",
        "from IPython.core.display import display, HTML\n",
        "import re\n"
      ],
      "metadata": {
        "id": "n-4_3X3NFbbA"
      },
      "execution_count": 33,
      "outputs": []
    },
    {
      "cell_type": "code",
      "source": [
        "import sparknlp\n",
        "\n",
        "from pyspark.ml import PipelineModel\n",
        "from sparknlp.annotator import *\n",
        "from sparknlp.base import *\n",
        "\n",
        "spark = sparknlp.start()"
      ],
      "metadata": {
        "id": "Ic0jx572Fbdf",
        "outputId": "096bb914-18ad-4fd4-9ee3-f3f7b983cf99",
        "colab": {
          "base_uri": "https://localhost:8080/"
        }
      },
      "execution_count": 34,
      "outputs": [
        {
          "output_type": "stream",
          "name": "stdout",
          "text": [
            "Warning::Spark Session already created, some configs may not take.\n"
          ]
        }
      ]
    },
    {
      "cell_type": "code",
      "source": [
        "#list of stop words to exclude, they don't provide much value when identifying key concepts\n",
        "stopwords = StopWordsCleaner().getStopWords()"
      ],
      "metadata": {
        "id": "33GP-1UnFbf4"
      },
      "execution_count": 35,
      "outputs": []
    },
    {
      "cell_type": "code",
      "source": [
        "stopwords[:10]"
      ],
      "metadata": {
        "colab": {
          "base_uri": "https://localhost:8080/"
        },
        "id": "FamwqYYtFbif",
        "outputId": "a2392cd0-ab27-46ca-cf9f-9322299a6e5b"
      },
      "execution_count": 36,
      "outputs": [
        {
          "output_type": "execute_result",
          "data": {
            "text/plain": [
              "['i', 'me', 'my', 'myself', 'we', 'our', 'ours', 'ourselves', 'you', 'your']"
            ]
          },
          "metadata": {},
          "execution_count": 36
        }
      ]
    },
    {
      "cell_type": "markdown",
      "source": [
        "### **YAKE Keyword Extractor**\n",
        "\n",
        "YAKE stands for Yet Another Keyword Extractor and it is an unsupervised approach for automatic keyword extraction by leveraging text features.\n",
        "Yake is a novel feature-based system for multi-lingual keyword extraction, which supports texts of different sizes, domain or languages.\n",
        "Unlike other approaches, Yake does not rely on dictionaries nor thesauri, neither is trained against any corpora. Instead, it follows an unsupervised approach which builds upon features extracted from the text, making it thus applicable to documents written in different languages without the need for further knowledge. This can be beneficial for a large number of tasks and a plethora of situations where access to training corpora is either limited or restricted."
      ],
      "metadata": {
        "id": "S0TMo_LJiZys"
      }
    },
    {
      "cell_type": "markdown",
      "source": [
        "The algorithm makes use of the position of a sentence and token. Therefore, to use the annotator, the text should be first sent through a Sentence Boundary Detector and then a tokenizer.\n",
        "\n",
        "Parameters to get the best result from the annotator.\n",
        "\n",
        "- *setMinNGrams(int)* Select the minimum length of a extracted keyword\n",
        "- *setMaxNGrams(int)* Select the maximum length of a extracted keyword\n",
        "- *setNKeywords(int)* Extract the top N keywords\n",
        "- *setStopWords(list)* Set the list of stop words\n",
        "- *setThreshold(float)* Each keyword will be given a keyword score greater than 0. (Lower the score better the keyword) Set an upper bound for the keyword score from this method.\n",
        "- *setWindowSize(int)* Yake will construct a co-occurence matrix. You can set the window size for the cooccurence matrix construction from this method. ex: windowSize=2 will look at two words to both left and right of a candidate word"
      ],
      "metadata": {
        "id": "Age9ugNAjpYd"
      }
    },
    {
      "cell_type": "code",
      "source": [
        "#Building Yake Ppipeline\n",
        "document= DocumentAssembler() \\\n",
        "        .setInputCol(\"text\").setOutputCol(\"document\")\n",
        "\n",
        "sentence= SentenceDetector() \\\n",
        "        .setInputCols(\"document\") \\\n",
        "        .setOutputCol(\"sentence\")\n",
        "\n",
        "token= Tokenizer()\\\n",
        "        .setInputCols(\"sentence\")\\\n",
        "        .setOutputCol(\"token\") \\\n",
        "        .setContextChars([\"(\", \")\", \"?\", \"!\", \".\", \",\"])\n",
        "\n",
        "keywords= YakeKeywordExtraction() \\\n",
        "        .setInputCols(\"token\")  \\\n",
        "        .setOutputCol(\"keywords\") \\\n",
        "        .setMinNGrams(1) \\\n",
        "        .setMaxNGrams(3) \\\n",
        "        .setNKeywords(20) \\\n",
        "        .setStopWords(stopwords) \\\n",
        "        .setThreshold(0.5) \\\n",
        "        .setWindowSize(3)\n",
        "\n",
        "\n",
        "yake_pipeline = Pipeline(stages=[\n",
        "    document,\n",
        "    sentence,\n",
        "    token,\n",
        "    keywords\n",
        "])"
      ],
      "metadata": {
        "id": "KJfSdx7nZAF9"
      },
      "execution_count": 37,
      "outputs": []
    },
    {
      "cell_type": "code",
      "source": [
        "#create an empty dataframe to store our results.\n",
        "empty_df = spark.createDataFrame([['']]).toDF(\"text\")\n",
        "\n",
        "yake_Model = yake_pipeline.fit(empty_df)"
      ],
      "metadata": {
        "id": "qlz4ox_8ZAIl"
      },
      "execution_count": 38,
      "outputs": []
    },
    {
      "cell_type": "code",
      "source": [
        "#LightPipeline\n",
        "\n",
        "light_model = LightPipeline(yake_Model)\n",
        "\n",
        "text = '''\n",
        "  This guide is about How to build an LLM with a Vector Database and improve LLM’s use of this flow. We’ll look at how combining these two can make LLMs more accurate and useful, especially for specific topics.\n",
        "  Next, we offer a brief overview of Vector Databases, explaining the concept of vector embedding and its role in enhancing AI and machine learning applications.\n",
        "  We’ll show you how these databases differ from traditional databases and why they are better suited for AI-driven tasks, particularly when working with unstructured data like text, images, and complex patterns.\n",
        "  Further, we’ll explore the practical application of this technology in building a Closed-QA bot. This bot, powered by Falcon-7B and ChromaDB, demonstrates the effectiveness of LLMs when coupled with the right tools and techniques.\n",
        "'''\n",
        "\n",
        "light_result = light_model.fullAnnotate(text)[0]\n",
        "\n",
        "# summary view of the keyword extraction outcome, pairing each recognized keyword(s) with its matching source sentence(s)\n",
        "[(s.metadata['sentence'], s.result) for s in light_result['sentence']]\n"
      ],
      "metadata": {
        "colab": {
          "base_uri": "https://localhost:8080/"
        },
        "id": "V1Xfhp4bZALV",
        "outputId": "4f1649db-85e6-4973-8906-dccd26034b09"
      },
      "execution_count": 39,
      "outputs": [
        {
          "output_type": "execute_result",
          "data": {
            "text/plain": [
              "[('0',\n",
              "  'This guide is about How to build an LLM with a Vector Database and improve LLM’s use of this flow.'),\n",
              " ('1',\n",
              "  'We’ll look at how combining these two can make LLMs more accurate and useful, especially for specific topics.'),\n",
              " ('2',\n",
              "  'Next, we offer a brief overview of Vector Databases, explaining the concept of vector embedding and its role in enhancing AI and machine learning applications.'),\n",
              " ('3',\n",
              "  'We’ll show you how these databases differ from traditional databases and why they are better suited for AI-driven tasks, particularly when working with unstructured data like text, images, and complex patterns.'),\n",
              " ('4',\n",
              "  'Further, we’ll explore the practical application of this technology in building a Closed-QA bot.'),\n",
              " ('5',\n",
              "  'This bot, powered by Falcon-7B and ChromaDB, demonstrates the effectiveness of LLMs when coupled with the right tools and techniques.')]"
            ]
          },
          "metadata": {},
          "execution_count": 39
        }
      ]
    },
    {
      "cell_type": "code",
      "source": [
        "#lets take the extracted keywords from light_result, organizes them into a Pandas DataFrame, sorts the entries by descending order of relevance, and finally displays the highest ranked 30 results.\n",
        "\n",
        "import pandas as pd\n",
        "\n",
        "keys_df = pd.DataFrame([(k.result, k.begin, k.end, k.metadata['score'], k.metadata['sentence'])\n",
        "                        for k in light_result['keywords']],\n",
        "                       columns = ['keywords', 'begin', 'end', 'score', 'sentence'])\n",
        "keys_df['score'] = keys_df['score'].astype(float)\n",
        "\n",
        "#ordering by relevance\n",
        "keys_df.sort_values(['sentence', 'score']).head(30)"
      ],
      "metadata": {
        "colab": {
          "base_uri": "https://localhost:8080/",
          "height": 488
        },
        "id": "bV12fUTJ0xjS",
        "outputId": "0f63b4fc-89ac-4fdd-859f-b2fcf5739da5"
      },
      "execution_count": 40,
      "outputs": [
        {
          "output_type": "execute_result",
          "data": {
            "text/plain": [
              "            keywords  begin  end     score sentence\n",
              "1             vector     50   55  0.171555        0\n",
              "12   vector database     50   64  0.315063        0\n",
              "0                llm     39   41  0.465506        0\n",
              "2           database     57   64  0.465506        0\n",
              "3               llms    149  152  0.372603        1\n",
              "4             vector    249  254  0.171555        2\n",
              "6             vector    293  298  0.171555        2\n",
              "5          databases    256  264  0.208702        2\n",
              "13  vector databases    249  264  0.475439        2\n",
              "7          databases    401  409  0.208702        3\n",
              "8          databases    435  443  0.208702        3\n",
              "9                bot    681  683  0.385333        4\n",
              "11              llms    765  768  0.372603        5\n",
              "10               bot    691  693  0.385333        5"
            ],
            "text/html": [
              "\n",
              "  <div id=\"df-d90c07a7-4dfc-4d74-919e-e76bc9a79ced\" class=\"colab-df-container\">\n",
              "    <div>\n",
              "<style scoped>\n",
              "    .dataframe tbody tr th:only-of-type {\n",
              "        vertical-align: middle;\n",
              "    }\n",
              "\n",
              "    .dataframe tbody tr th {\n",
              "        vertical-align: top;\n",
              "    }\n",
              "\n",
              "    .dataframe thead th {\n",
              "        text-align: right;\n",
              "    }\n",
              "</style>\n",
              "<table border=\"1\" class=\"dataframe\">\n",
              "  <thead>\n",
              "    <tr style=\"text-align: right;\">\n",
              "      <th></th>\n",
              "      <th>keywords</th>\n",
              "      <th>begin</th>\n",
              "      <th>end</th>\n",
              "      <th>score</th>\n",
              "      <th>sentence</th>\n",
              "    </tr>\n",
              "  </thead>\n",
              "  <tbody>\n",
              "    <tr>\n",
              "      <th>1</th>\n",
              "      <td>vector</td>\n",
              "      <td>50</td>\n",
              "      <td>55</td>\n",
              "      <td>0.171555</td>\n",
              "      <td>0</td>\n",
              "    </tr>\n",
              "    <tr>\n",
              "      <th>12</th>\n",
              "      <td>vector database</td>\n",
              "      <td>50</td>\n",
              "      <td>64</td>\n",
              "      <td>0.315063</td>\n",
              "      <td>0</td>\n",
              "    </tr>\n",
              "    <tr>\n",
              "      <th>0</th>\n",
              "      <td>llm</td>\n",
              "      <td>39</td>\n",
              "      <td>41</td>\n",
              "      <td>0.465506</td>\n",
              "      <td>0</td>\n",
              "    </tr>\n",
              "    <tr>\n",
              "      <th>2</th>\n",
              "      <td>database</td>\n",
              "      <td>57</td>\n",
              "      <td>64</td>\n",
              "      <td>0.465506</td>\n",
              "      <td>0</td>\n",
              "    </tr>\n",
              "    <tr>\n",
              "      <th>3</th>\n",
              "      <td>llms</td>\n",
              "      <td>149</td>\n",
              "      <td>152</td>\n",
              "      <td>0.372603</td>\n",
              "      <td>1</td>\n",
              "    </tr>\n",
              "    <tr>\n",
              "      <th>4</th>\n",
              "      <td>vector</td>\n",
              "      <td>249</td>\n",
              "      <td>254</td>\n",
              "      <td>0.171555</td>\n",
              "      <td>2</td>\n",
              "    </tr>\n",
              "    <tr>\n",
              "      <th>6</th>\n",
              "      <td>vector</td>\n",
              "      <td>293</td>\n",
              "      <td>298</td>\n",
              "      <td>0.171555</td>\n",
              "      <td>2</td>\n",
              "    </tr>\n",
              "    <tr>\n",
              "      <th>5</th>\n",
              "      <td>databases</td>\n",
              "      <td>256</td>\n",
              "      <td>264</td>\n",
              "      <td>0.208702</td>\n",
              "      <td>2</td>\n",
              "    </tr>\n",
              "    <tr>\n",
              "      <th>13</th>\n",
              "      <td>vector databases</td>\n",
              "      <td>249</td>\n",
              "      <td>264</td>\n",
              "      <td>0.475439</td>\n",
              "      <td>2</td>\n",
              "    </tr>\n",
              "    <tr>\n",
              "      <th>7</th>\n",
              "      <td>databases</td>\n",
              "      <td>401</td>\n",
              "      <td>409</td>\n",
              "      <td>0.208702</td>\n",
              "      <td>3</td>\n",
              "    </tr>\n",
              "    <tr>\n",
              "      <th>8</th>\n",
              "      <td>databases</td>\n",
              "      <td>435</td>\n",
              "      <td>443</td>\n",
              "      <td>0.208702</td>\n",
              "      <td>3</td>\n",
              "    </tr>\n",
              "    <tr>\n",
              "      <th>9</th>\n",
              "      <td>bot</td>\n",
              "      <td>681</td>\n",
              "      <td>683</td>\n",
              "      <td>0.385333</td>\n",
              "      <td>4</td>\n",
              "    </tr>\n",
              "    <tr>\n",
              "      <th>11</th>\n",
              "      <td>llms</td>\n",
              "      <td>765</td>\n",
              "      <td>768</td>\n",
              "      <td>0.372603</td>\n",
              "      <td>5</td>\n",
              "    </tr>\n",
              "    <tr>\n",
              "      <th>10</th>\n",
              "      <td>bot</td>\n",
              "      <td>691</td>\n",
              "      <td>693</td>\n",
              "      <td>0.385333</td>\n",
              "      <td>5</td>\n",
              "    </tr>\n",
              "  </tbody>\n",
              "</table>\n",
              "</div>\n",
              "    <div class=\"colab-df-buttons\">\n",
              "\n",
              "  <div class=\"colab-df-container\">\n",
              "    <button class=\"colab-df-convert\" onclick=\"convertToInteractive('df-d90c07a7-4dfc-4d74-919e-e76bc9a79ced')\"\n",
              "            title=\"Convert this dataframe to an interactive table.\"\n",
              "            style=\"display:none;\">\n",
              "\n",
              "  <svg xmlns=\"http://www.w3.org/2000/svg\" height=\"24px\" viewBox=\"0 -960 960 960\">\n",
              "    <path d=\"M120-120v-720h720v720H120Zm60-500h600v-160H180v160Zm220 220h160v-160H400v160Zm0 220h160v-160H400v160ZM180-400h160v-160H180v160Zm440 0h160v-160H620v160ZM180-180h160v-160H180v160Zm440 0h160v-160H620v160Z\"/>\n",
              "  </svg>\n",
              "    </button>\n",
              "\n",
              "  <style>\n",
              "    .colab-df-container {\n",
              "      display:flex;\n",
              "      gap: 12px;\n",
              "    }\n",
              "\n",
              "    .colab-df-convert {\n",
              "      background-color: #E8F0FE;\n",
              "      border: none;\n",
              "      border-radius: 50%;\n",
              "      cursor: pointer;\n",
              "      display: none;\n",
              "      fill: #1967D2;\n",
              "      height: 32px;\n",
              "      padding: 0 0 0 0;\n",
              "      width: 32px;\n",
              "    }\n",
              "\n",
              "    .colab-df-convert:hover {\n",
              "      background-color: #E2EBFA;\n",
              "      box-shadow: 0px 1px 2px rgba(60, 64, 67, 0.3), 0px 1px 3px 1px rgba(60, 64, 67, 0.15);\n",
              "      fill: #174EA6;\n",
              "    }\n",
              "\n",
              "    .colab-df-buttons div {\n",
              "      margin-bottom: 4px;\n",
              "    }\n",
              "\n",
              "    [theme=dark] .colab-df-convert {\n",
              "      background-color: #3B4455;\n",
              "      fill: #D2E3FC;\n",
              "    }\n",
              "\n",
              "    [theme=dark] .colab-df-convert:hover {\n",
              "      background-color: #434B5C;\n",
              "      box-shadow: 0px 1px 3px 1px rgba(0, 0, 0, 0.15);\n",
              "      filter: drop-shadow(0px 1px 2px rgba(0, 0, 0, 0.3));\n",
              "      fill: #FFFFFF;\n",
              "    }\n",
              "  </style>\n",
              "\n",
              "    <script>\n",
              "      const buttonEl =\n",
              "        document.querySelector('#df-d90c07a7-4dfc-4d74-919e-e76bc9a79ced button.colab-df-convert');\n",
              "      buttonEl.style.display =\n",
              "        google.colab.kernel.accessAllowed ? 'block' : 'none';\n",
              "\n",
              "      async function convertToInteractive(key) {\n",
              "        const element = document.querySelector('#df-d90c07a7-4dfc-4d74-919e-e76bc9a79ced');\n",
              "        const dataTable =\n",
              "          await google.colab.kernel.invokeFunction('convertToInteractive',\n",
              "                                                    [key], {});\n",
              "        if (!dataTable) return;\n",
              "\n",
              "        const docLinkHtml = 'Like what you see? Visit the ' +\n",
              "          '<a target=\"_blank\" href=https://colab.research.google.com/notebooks/data_table.ipynb>data table notebook</a>'\n",
              "          + ' to learn more about interactive tables.';\n",
              "        element.innerHTML = '';\n",
              "        dataTable['output_type'] = 'display_data';\n",
              "        await google.colab.output.renderOutput(dataTable, element);\n",
              "        const docLink = document.createElement('div');\n",
              "        docLink.innerHTML = docLinkHtml;\n",
              "        element.appendChild(docLink);\n",
              "      }\n",
              "    </script>\n",
              "  </div>\n",
              "\n",
              "\n",
              "<div id=\"df-7f21fb32-a4e7-4b0d-a48a-a7358ffe0df3\">\n",
              "  <button class=\"colab-df-quickchart\" onclick=\"quickchart('df-7f21fb32-a4e7-4b0d-a48a-a7358ffe0df3')\"\n",
              "            title=\"Suggest charts\"\n",
              "            style=\"display:none;\">\n",
              "\n",
              "<svg xmlns=\"http://www.w3.org/2000/svg\" height=\"24px\"viewBox=\"0 0 24 24\"\n",
              "     width=\"24px\">\n",
              "    <g>\n",
              "        <path d=\"M19 3H5c-1.1 0-2 .9-2 2v14c0 1.1.9 2 2 2h14c1.1 0 2-.9 2-2V5c0-1.1-.9-2-2-2zM9 17H7v-7h2v7zm4 0h-2V7h2v10zm4 0h-2v-4h2v4z\"/>\n",
              "    </g>\n",
              "</svg>\n",
              "  </button>\n",
              "\n",
              "<style>\n",
              "  .colab-df-quickchart {\n",
              "      --bg-color: #E8F0FE;\n",
              "      --fill-color: #1967D2;\n",
              "      --hover-bg-color: #E2EBFA;\n",
              "      --hover-fill-color: #174EA6;\n",
              "      --disabled-fill-color: #AAA;\n",
              "      --disabled-bg-color: #DDD;\n",
              "  }\n",
              "\n",
              "  [theme=dark] .colab-df-quickchart {\n",
              "      --bg-color: #3B4455;\n",
              "      --fill-color: #D2E3FC;\n",
              "      --hover-bg-color: #434B5C;\n",
              "      --hover-fill-color: #FFFFFF;\n",
              "      --disabled-bg-color: #3B4455;\n",
              "      --disabled-fill-color: #666;\n",
              "  }\n",
              "\n",
              "  .colab-df-quickchart {\n",
              "    background-color: var(--bg-color);\n",
              "    border: none;\n",
              "    border-radius: 50%;\n",
              "    cursor: pointer;\n",
              "    display: none;\n",
              "    fill: var(--fill-color);\n",
              "    height: 32px;\n",
              "    padding: 0;\n",
              "    width: 32px;\n",
              "  }\n",
              "\n",
              "  .colab-df-quickchart:hover {\n",
              "    background-color: var(--hover-bg-color);\n",
              "    box-shadow: 0 1px 2px rgba(60, 64, 67, 0.3), 0 1px 3px 1px rgba(60, 64, 67, 0.15);\n",
              "    fill: var(--button-hover-fill-color);\n",
              "  }\n",
              "\n",
              "  .colab-df-quickchart-complete:disabled,\n",
              "  .colab-df-quickchart-complete:disabled:hover {\n",
              "    background-color: var(--disabled-bg-color);\n",
              "    fill: var(--disabled-fill-color);\n",
              "    box-shadow: none;\n",
              "  }\n",
              "\n",
              "  .colab-df-spinner {\n",
              "    border: 2px solid var(--fill-color);\n",
              "    border-color: transparent;\n",
              "    border-bottom-color: var(--fill-color);\n",
              "    animation:\n",
              "      spin 1s steps(1) infinite;\n",
              "  }\n",
              "\n",
              "  @keyframes spin {\n",
              "    0% {\n",
              "      border-color: transparent;\n",
              "      border-bottom-color: var(--fill-color);\n",
              "      border-left-color: var(--fill-color);\n",
              "    }\n",
              "    20% {\n",
              "      border-color: transparent;\n",
              "      border-left-color: var(--fill-color);\n",
              "      border-top-color: var(--fill-color);\n",
              "    }\n",
              "    30% {\n",
              "      border-color: transparent;\n",
              "      border-left-color: var(--fill-color);\n",
              "      border-top-color: var(--fill-color);\n",
              "      border-right-color: var(--fill-color);\n",
              "    }\n",
              "    40% {\n",
              "      border-color: transparent;\n",
              "      border-right-color: var(--fill-color);\n",
              "      border-top-color: var(--fill-color);\n",
              "    }\n",
              "    60% {\n",
              "      border-color: transparent;\n",
              "      border-right-color: var(--fill-color);\n",
              "    }\n",
              "    80% {\n",
              "      border-color: transparent;\n",
              "      border-right-color: var(--fill-color);\n",
              "      border-bottom-color: var(--fill-color);\n",
              "    }\n",
              "    90% {\n",
              "      border-color: transparent;\n",
              "      border-bottom-color: var(--fill-color);\n",
              "    }\n",
              "  }\n",
              "</style>\n",
              "\n",
              "  <script>\n",
              "    async function quickchart(key) {\n",
              "      const quickchartButtonEl =\n",
              "        document.querySelector('#' + key + ' button');\n",
              "      quickchartButtonEl.disabled = true;  // To prevent multiple clicks.\n",
              "      quickchartButtonEl.classList.add('colab-df-spinner');\n",
              "      try {\n",
              "        const charts = await google.colab.kernel.invokeFunction(\n",
              "            'suggestCharts', [key], {});\n",
              "      } catch (error) {\n",
              "        console.error('Error during call to suggestCharts:', error);\n",
              "      }\n",
              "      quickchartButtonEl.classList.remove('colab-df-spinner');\n",
              "      quickchartButtonEl.classList.add('colab-df-quickchart-complete');\n",
              "    }\n",
              "    (() => {\n",
              "      let quickchartButtonEl =\n",
              "        document.querySelector('#df-7f21fb32-a4e7-4b0d-a48a-a7358ffe0df3 button');\n",
              "      quickchartButtonEl.style.display =\n",
              "        google.colab.kernel.accessAllowed ? 'block' : 'none';\n",
              "    })();\n",
              "  </script>\n",
              "</div>\n",
              "\n",
              "    </div>\n",
              "  </div>\n"
            ],
            "application/vnd.google.colaboratory.intrinsic+json": {
              "type": "dataframe",
              "summary": "{\n  \"name\": \"keys_df\",\n  \"rows\": 14,\n  \"fields\": [\n    {\n      \"column\": \"keywords\",\n      \"properties\": {\n        \"dtype\": \"string\",\n        \"num_unique_values\": 8,\n        \"samples\": [\n          \"vector database\",\n          \"databases\",\n          \"vector\"\n        ],\n        \"semantic_type\": \"\",\n        \"description\": \"\"\n      }\n    },\n    {\n      \"column\": \"begin\",\n      \"properties\": {\n        \"dtype\": \"number\",\n        \"std\": 251,\n        \"min\": 39,\n        \"max\": 765,\n        \"num_unique_values\": 12,\n        \"samples\": [\n          765,\n          681,\n          50\n        ],\n        \"semantic_type\": \"\",\n        \"description\": \"\"\n      }\n    },\n    {\n      \"column\": \"end\",\n      \"properties\": {\n        \"dtype\": \"number\",\n        \"std\": 250,\n        \"min\": 41,\n        \"max\": 768,\n        \"num_unique_values\": 12,\n        \"samples\": [\n          768,\n          683,\n          55\n        ],\n        \"semantic_type\": \"\",\n        \"description\": \"\"\n      }\n    },\n    {\n      \"column\": \"score\",\n      \"properties\": {\n        \"dtype\": \"number\",\n        \"std\": 0.11868796160612582,\n        \"min\": 0.17155518769498104,\n        \"max\": 0.47543853936616515,\n        \"num_unique_values\": 7,\n        \"samples\": [\n          0.17155518769498104,\n          0.3150625031462239,\n          0.47543853936616515\n        ],\n        \"semantic_type\": \"\",\n        \"description\": \"\"\n      }\n    },\n    {\n      \"column\": \"sentence\",\n      \"properties\": {\n        \"dtype\": \"category\",\n        \"num_unique_values\": 6,\n        \"samples\": [\n          \"0\",\n          \"1\",\n          \"5\"\n        ],\n        \"semantic_type\": \"\",\n        \"description\": \"\"\n      }\n    }\n  ]\n}"
            }
          },
          "metadata": {},
          "execution_count": 40
        }
      ]
    },
    {
      "cell_type": "code",
      "execution_count": 41,
      "metadata": {
        "colab": {
          "base_uri": "https://localhost:8080/"
        },
        "id": "ldRBUp-w1Z8U",
        "outputId": "45649d3b-d876-4846-d584-57c2824990bc"
      },
      "outputs": [
        {
          "output_type": "stream",
          "name": "stdout",
          "text": [
            "+------------------------------------------------------------------------------------------------------------------------------------------------------------------------------------------------------------------------------------------------------------------------------------------------------------------------------------------------------------------------------------------------------------------------------------------------------------------------------------------------------------------------------------------------------------------------------------------------------------------------------------------------------------------------------------------------------------------------------------------------------------------------------------------------------------------------------------------------------------------------------------------------------------------------------------------------------------------------------------------------------------------------------------------------------------------------------------------------------------------------------------------------------------------------------------------------------------------------------------------------------------------------------------------------------------------------------------------------------------------------------------------------------------------------------------------------------------------------------------------------------------------------------------------------------------------------------------------------------------------------------------------------------------------------------------------------------+\n",
            "|text                                                                                                                                                                                                                                                                                                                                                                                                                                                                                                                                                                                                                                                                                                                                                                                                                                                                                                                                                                                                                                                                                                                                                                                                                                                                                                                                                                                                                                                                                                                                                                                                                                                                                                  |\n",
            "+------------------------------------------------------------------------------------------------------------------------------------------------------------------------------------------------------------------------------------------------------------------------------------------------------------------------------------------------------------------------------------------------------------------------------------------------------------------------------------------------------------------------------------------------------------------------------------------------------------------------------------------------------------------------------------------------------------------------------------------------------------------------------------------------------------------------------------------------------------------------------------------------------------------------------------------------------------------------------------------------------------------------------------------------------------------------------------------------------------------------------------------------------------------------------------------------------------------------------------------------------------------------------------------------------------------------------------------------------------------------------------------------------------------------------------------------------------------------------------------------------------------------------------------------------------------------------------------------------------------------------------------------------------------------------------------------------+\n",
            "|The human KCNJ9 (Kir 3.3, GIRK3) is a member of the G-protein-activated inwardly rectifying potassium (GIRK) channel family. Here we describe the genomicorganization of the KCNJ9 locus on chromosome 1q21-23 as a candidate gene forType II diabetes mellitus in the Pima Indian population. The gene spansapproximately 7.6 kb and contains one noncoding and two coding exons separated byapproximately 2.2 and approximately 2.6 kb introns, respectively. We identified14 single nucleotide polymorphisms (SNPs), including one that predicts aVal366Ala substitution, and an 8 base-pair (bp) insertion/deletion. Ourexpression studies revealed the presence of the transcript in various humantissues including pancreas, and two major insulin-responsive tissues: fat andskeletal muscle. The characterization of the KCNJ9 gene should facilitate furtherstudies on the function of the KCNJ9 protein and allow evaluation of thepotential role of the locus in Type II diabetes.                                                                                                                                                                                                                                                                                                                                                                                                                                                                                                                                                                                                                                                                                                         |\n",
            "|BACKGROUND: At present, it is one of the most important issues for the treatment of breast cancer to develop the standard therapy for patients previously treated with anthracyclines and taxanes. With the objective of determining the usefulnessof vinorelbine monotherapy in patients with advanced or recurrent breast cancerafter standard therapy, we evaluated the efficacy and safety of vinorelbine inpatients previously treated with anthracyclines and taxanes. METHODS: Vinorelbinewas administered at a dose level of 25 mg/m(2) intravenously on days 1 and 8 of a3 week cycle. Patients were given three or more cycles in the absence of tumorprogression. A maximum of nine cycles were administered. RESULTS: The responserate in 50 evaluable patients was 20.0% (10 out of 50; 95% confidence interval,10.0-33.7%). Responders plus those who had minor response (MR) or no change (NC) accounted for 58.0% [10 partial responses (PRs) + one MR + 18 NCs out of 50]. TheKaplan-Meier estimate (50% point) of time to progression (TTP) was 115.0 days.The response rate in the visceral organs was 17.3% (nine PRs out of 52). Themajor toxicity was myelosuppression, which was reversible and did not requirediscontinuation of treatment. CONCLUSION: The results of this study show thatvinorelbine monotherapy is useful in patients with advanced or recurrent breastcancer previously exposed to both anthracyclines and taxanes.                                                                                                                                                                                                                                       |\n",
            "|OBJECTIVE: To investigate the relationship between preoperative atrialfibrillation and early and late clinical outcomes following cardiac surgery.METHODS: A retrospective cohort including all consecutive coronary artery bypass graft and/or valve surgery patients between 1995 and 2005 was identified (n =9796). No patient had a concomitant surgical AF ablation. The association betweenpreoperative atrial fibrillation and in-hospital outcomes was examined. We alsodetermined late death and cardiovascular-related re-hospitalization by linking toadministrative health databases. Median follow-up was 2.9 years (maximum 11years). RESULTS: The prevalence of preoperative atrial fibrillation was 11.3% (n = 1105), ranging from 7.2% in isolated CABG to 30% in valve surgery. In-hospital mortality, stroke, and renal failure were more common in atrial fibrillationpatients (all p < 0.0001), although the association between atrial fibrillationand mortality was not statistically significant in multivariate logisticregression. Longitudinal analyses showed that preoperative atrial fibrillationwas associated with decreased event-free survival (adjusted hazard ratio 1.55,95% confidence interval 1.42-1.70, p < 0.0001). CONCLUSIONS: Preoperative atrial fibrillation is associated with increased late mortality and recurrentcardiovascular events post-cardiac surgery. Effective management strategies foratrial fibrillation need to be explored and may provide an opportunity to improvethe long-term outcomes of cardiac surgical patients.                                                                                                              |\n",
            "|Combined EEG/fMRI recording has been used to localize the generators of EEGevents and to identify subject state in cognitive studies and is of increasinginterest. However, the large EEG artifacts induced during fMRI have precludedsimultaneous EEG and fMRI recording, restricting study design. Removing thisartifact is difficult, as it normally exceeds EEG significantly and containscomponents in the EEG frequency range. We have developed a recording system andan artifact reduction method that reduce this artifact effectively. The recordingsystem has large dynamic range to capture both low-amplitude EEG and largeimaging artifact without distortion (resolution 2 microV, range 33.3 mV), 5-kHzsampling, and low-pass filtering prior to the main gain stage. Imaging artifactis reduced by subtracting an averaged artifact waveform, followed by adaptivenoise cancellation to reduce any residual artifact. This method was validated in recordings from five subjects using periodic and continuous fMRI sequences.Spectral analysis revealed differences of only 10 to 18% between EEG recorded in the scanner without fMRI and the corrected EEG. Ninety-nine percent of spikewaves (median 74 microV) added to the recordings were identified in the correctedEEG compared to 12% in the uncorrected EEG. The median noise after artifactreduction was 8 microV. All these measures indicate that most of the artifact wasremoved, with minimal EEG distortion. Using this recording system and artifactreduction method, we have demonstrated that simultaneous EEG/fMRI studies are forthe first time possible, extending the scope of EEG/fMRI studies considerably.|\n",
            "|Kohlschutter syndrome is a rare neurodegenerative disorder presenting withintractable seizures, developmental regression and characteristic hypoplasticdental enamel indicative of amelogenesis imperfecta. We report a new family with two affected siblings.                                                                                                                                                                                                                                                                                                                                                                                                                                                                                                                                                                                                                                                                                                                                                                                                                                                                                                                                                                                                                                                                                                                                                                                                                                                                                                                                                                                                                                        |\n",
            "+------------------------------------------------------------------------------------------------------------------------------------------------------------------------------------------------------------------------------------------------------------------------------------------------------------------------------------------------------------------------------------------------------------------------------------------------------------------------------------------------------------------------------------------------------------------------------------------------------------------------------------------------------------------------------------------------------------------------------------------------------------------------------------------------------------------------------------------------------------------------------------------------------------------------------------------------------------------------------------------------------------------------------------------------------------------------------------------------------------------------------------------------------------------------------------------------------------------------------------------------------------------------------------------------------------------------------------------------------------------------------------------------------------------------------------------------------------------------------------------------------------------------------------------------------------------------------------------------------------------------------------------------------------------------------------------------------+\n",
            "only showing top 5 rows\n",
            "\n"
          ]
        }
      ],
      "source": [
        "! wget -q https://s3.amazonaws.com/auxdata.johnsnowlabs.com/public/resources/en/pubmed/pubmed_sample_text_small.csv\n",
        "\n",
        "df = spark.read\\\n",
        "                .option(\"header\", \"true\")\\\n",
        "                .csv(\"pubmed_sample_text_small.csv\")\\\n",
        "\n",
        "df.show(5, truncate=False)\n",
        "\n"
      ]
    },
    {
      "cell_type": "code",
      "source": [
        "df.columns\n"
      ],
      "metadata": {
        "colab": {
          "base_uri": "https://localhost:8080/"
        },
        "id": "dkxFswvN3tsK",
        "outputId": "c43a8700-8a9b-4fc0-de09-1007e9217ac1"
      },
      "execution_count": 42,
      "outputs": [
        {
          "output_type": "execute_result",
          "data": {
            "text/plain": [
              "['text']"
            ]
          },
          "metadata": {},
          "execution_count": 42
        }
      ]
    },
    {
      "cell_type": "code",
      "source": [
        "result = yake_pipeline.fit(df).transform(df)"
      ],
      "metadata": {
        "id": "JNHkNZXJ0xm5"
      },
      "execution_count": 43,
      "outputs": []
    },
    {
      "cell_type": "code",
      "source": [
        "result = result.withColumn('unique_keywords', F.array_distinct(\"keywords.result\"))"
      ],
      "metadata": {
        "id": "RA7HZkAb0xqJ"
      },
      "execution_count": 44,
      "outputs": []
    },
    {
      "cell_type": "code",
      "source": [
        "def highlight(text, keywords):\n",
        "    for k in keywords:\n",
        "        text = (re.sub(r'(\\b%s\\b)'%k, r'<span style=\"background-color: yellow;\">\\1</span>', text, flags=re.IGNORECASE))\n",
        "    return text"
      ],
      "metadata": {
        "id": "cQPuGP1A7Exp"
      },
      "execution_count": 45,
      "outputs": []
    },
    {
      "cell_type": "code",
      "source": [
        "highlight_udf = udf(highlight, StringType())"
      ],
      "metadata": {
        "id": "9qTJUuJk7E0Q"
      },
      "execution_count": 46,
      "outputs": []
    },
    {
      "cell_type": "code",
      "source": [
        "result = result.withColumn(\"highlighted_keywords\",highlight_udf('text','unique_keywords'))"
      ],
      "metadata": {
        "id": "0ieSTn6G7RZg"
      },
      "execution_count": 47,
      "outputs": []
    },
    {
      "cell_type": "code",
      "source": [
        "for r in result.select(\"highlighted_keywords\").limit(10).collect():\n",
        "    display(HTML(r.highlighted_keywords))\n",
        "    print(\"\\n\\n\")"
      ],
      "metadata": {
        "colab": {
          "base_uri": "https://localhost:8080/",
          "height": 1000
        },
        "id": "y5ZKznRI7RcI",
        "outputId": "ffa13198-e886-4617-c7ba-530eb7453e54"
      },
      "execution_count": 48,
      "outputs": [
        {
          "output_type": "display_data",
          "data": {
            "text/plain": [
              "<IPython.core.display.HTML object>"
            ],
            "text/html": [
              "The human KCNJ9 (<span style=\"background-color: yellow;\">Kir</span> 3.3, GIRK3) is a member of the G-protein-activated inwardly rectifying potassium (<span style=\"background-color: yellow;\">GIRK</span>) channel family. Here we describe the genomicorganization of the KCNJ9 <span style=\"background-color: yellow;\">locus</span> on chromosome 1q21-23 as a candidate <span style=\"background-color: yellow;\">gene</span> forType <span style=\"background-color: yellow;\">II</span> <span style=\"background-color: yellow;\">diabetes</span> mellitus in the <span style=\"background-color: yellow;\">Pima Indian</span> population. The <span style=\"background-color: yellow;\">gene</span> spansapproximately 7.6 <span style=\"background-color: yellow;\">kb</span> and contains <span style=\"background-color: yellow;\">one</span> noncoding and <span style=\"background-color: yellow;\">two</span> coding exons separated byapproximately 2.2 and approximately 2.6 <span style=\"background-color: yellow;\">kb</span> introns, respectively. We identified14 single nucleotide polymorphisms (SNPs), <span style=\"background-color: yellow;\">including</span> <span style=\"background-color: yellow;\">one</span> that predicts aVal366Ala substitution, and an 8 base-pair (bp) insertion/deletion. Ourexpression studies revealed the presence of the transcript in various humantissues <span style=\"background-color: yellow;\">including</span> pancreas, and <span style=\"background-color: yellow;\">two</span> major insulin-responsive tissues: fat andskeletal muscle. The characterization of the KCNJ9 <span style=\"background-color: yellow;\">gene</span> should facilitate furtherstudies on the function of the KCNJ9 protein and allow evaluation of thepotential role of the <span style=\"background-color: yellow;\">locus</span> in Type <span style=\"background-color: yellow;\">II</span> <span style=\"background-color: yellow;\">diabetes</span>."
            ]
          },
          "metadata": {}
        },
        {
          "output_type": "stream",
          "name": "stdout",
          "text": [
            "\n",
            "\n",
            "\n"
          ]
        },
        {
          "output_type": "display_data",
          "data": {
            "text/plain": [
              "<IPython.core.display.HTML object>"
            ],
            "text/html": [
              "BACKGROUND: At present, it is <span style=\"background-color: yellow;\">one</span> of the most important issues for the <span style=\"background-color: yellow;\">treatment</span> of <span style=\"background-color: yellow;\">breast</span> cancer to develop the <span style=\"background-color: yellow;\">standard</span> <span style=\"background-color: yellow;\">therapy</span> for <span style=\"background-color: yellow;\">patients</span> <span style=\"background-color: yellow;\">previously</span> <span style=\"background-color: yellow;\">treated</span> with <span style=\"background-color: yellow;\">anthracyclines</span> and <span style=\"background-color: yellow;\">taxanes</span>. With the objective of determining the usefulnessof <span style=\"background-color: yellow;\">vinorelbine</span> <span style=\"background-color: yellow;\">monotherapy</span> in <span style=\"background-color: yellow;\">patients</span> with <span style=\"background-color: yellow;\">advanced</span> or <span style=\"background-color: yellow;\">recurrent</span> <span style=\"background-color: yellow;\">breast</span> cancerafter <span style=\"background-color: yellow;\">standard</span> <span style=\"background-color: yellow;\">therapy</span>, we evaluated the efficacy and safety of <span style=\"background-color: yellow;\">vinorelbine</span> inpatients <span style=\"background-color: yellow;\">previously</span> <span style=\"background-color: yellow;\">treated</span> with <span style=\"background-color: yellow;\">anthracyclines</span> and <span style=\"background-color: yellow;\">taxanes</span>. METHODS: Vinorelbinewas <span style=\"background-color: yellow;\">administered</span> at a dose level of 25 mg/m(2) intravenously on days 1 and 8 of a3 week cycle. <span style=\"background-color: yellow;\">Patients</span> were given three or more <span style=\"background-color: yellow;\">cycles</span> in the absence of tumorprogression. A maximum of <span style=\"background-color: yellow;\">nine</span> <span style=\"background-color: yellow;\">cycles</span> were <span style=\"background-color: yellow;\">administered</span>. RESULTS: The responserate in 50 evaluable <span style=\"background-color: yellow;\">patients</span> was 20.0% (10 out of 50; 95% confidence interval,10.0-33.7%). Responders plus those who had minor response (<span style=\"background-color: yellow;\">MR</span>) or no change (NC) accounted for 58.0% [10 partial responses (PRs) + <span style=\"background-color: yellow;\">one</span> <span style=\"background-color: yellow;\">MR</span> + 18 NCs out of 50]. TheKaplan-Meier estimate (50% point) of time to progression (TTP) was 115.0 days.The response rate in the visceral organs was 17.3% (<span style=\"background-color: yellow;\">nine</span> PRs out of 52). Themajor toxicity was myelosuppression, which was reversible and did not requirediscontinuation of <span style=\"background-color: yellow;\">treatment</span>. CONCLUSION: The results of this study show thatvinorelbine <span style=\"background-color: yellow;\">monotherapy</span> is useful in <span style=\"background-color: yellow;\">patients</span> with <span style=\"background-color: yellow;\">advanced</span> or <span style=\"background-color: yellow;\">recurrent</span> breastcancer <span style=\"background-color: yellow;\">previously</span> exposed to both <span style=\"background-color: yellow;\">anthracyclines</span> and <span style=\"background-color: yellow;\">taxanes</span>."
            ]
          },
          "metadata": {}
        },
        {
          "output_type": "stream",
          "name": "stdout",
          "text": [
            "\n",
            "\n",
            "\n"
          ]
        },
        {
          "output_type": "display_data",
          "data": {
            "text/plain": [
              "<IPython.core.display.HTML object>"
            ],
            "text/html": [
              "OBJECTIVE: To investigate the relationship between <span style=\"background-color: yellow;\">preoperative</span> atrialfibrillation and early and <span style=\"background-color: yellow;\">late</span> clinical <span style=\"background-color: yellow;\">outcomes</span> following <span style=\"background-color: yellow;\">cardiac</span> <span style=\"background-color: yellow;\">surgery</span>.METHODS: A retrospective cohort including all consecutive coronary artery bypass graft and/or <span style=\"background-color: yellow;\">valve</span> <span style=\"background-color: yellow;\">surgery</span> <span style=\"background-color: yellow;\">patients</span> between 1995 and 2005 was identified (<span style=\"background-color: yellow;\">n</span> =9796). No patient had a concomitant <span style=\"background-color: yellow;\">surgical</span> AF ablation. The <span style=\"background-color: yellow;\">association</span> betweenpreoperative <span style=\"background-color: yellow;\">atrial</span> <span style=\"background-color: yellow;\">fibrillation</span> and in-hospital <span style=\"background-color: yellow;\">outcomes</span> was examined. We alsodetermined <span style=\"background-color: yellow;\">late</span> death and cardiovascular-related re-hospitalization by linking toadministrative health databases. Median follow-up was 2.9 years (maximum 11years). RESULTS: The prevalence of <span style=\"background-color: yellow;\">preoperative</span> <span style=\"background-color: yellow;\">atrial</span> <span style=\"background-color: yellow;\">fibrillation</span> was 11.3% (<span style=\"background-color: yellow;\">n</span> = 1105), ranging from 7.2% in isolated CABG to 30% in <span style=\"background-color: yellow;\">valve</span> <span style=\"background-color: yellow;\">surgery</span>. In-hospital <span style=\"background-color: yellow;\">mortality</span>, stroke, and renal failure were more common in <span style=\"background-color: yellow;\">atrial</span> fibrillationpatients (all <span style=\"background-color: yellow;\">p</span> < 0.0001), although the <span style=\"background-color: yellow;\">association</span> between <span style=\"background-color: yellow;\">atrial</span> fibrillationand <span style=\"background-color: yellow;\">mortality</span> was not statistically significant in multivariate logisticregression. Longitudinal analyses showed that <span style=\"background-color: yellow;\">preoperative</span> <span style=\"background-color: yellow;\">atrial</span> fibrillationwas <span style=\"background-color: yellow;\">associated</span> with decreased event-free survival (adjusted hazard ratio 1.55,95% confidence interval 1.42-1.70, <span style=\"background-color: yellow;\">p</span> < 0.0001). CONCLUSIONS: <span style=\"background-color: yellow;\">Preoperative</span> <span style=\"background-color: yellow;\">atrial</span> <span style=\"background-color: yellow;\">fibrillation</span> is <span style=\"background-color: yellow;\">associated</span> with increased <span style=\"background-color: yellow;\">late</span> <span style=\"background-color: yellow;\">mortality</span> and recurrentcardiovascular events post-<span style=\"background-color: yellow;\">cardiac</span> <span style=\"background-color: yellow;\">surgery</span>. Effective management strategies foratrial <span style=\"background-color: yellow;\">fibrillation</span> need to be explored and may provide an opportunity to improvethe long-term <span style=\"background-color: yellow;\">outcomes</span> of <span style=\"background-color: yellow;\">cardiac</span> <span style=\"background-color: yellow;\">surgical</span> <span style=\"background-color: yellow;\">patients</span>."
            ]
          },
          "metadata": {}
        },
        {
          "output_type": "stream",
          "name": "stdout",
          "text": [
            "\n",
            "\n",
            "\n"
          ]
        },
        {
          "output_type": "display_data",
          "data": {
            "text/plain": [
              "<IPython.core.display.HTML object>"
            ],
            "text/html": [
              "Combined <span style=\"background-color: yellow;\">EEG</span>/<span style=\"background-color: yellow;\">fMRI</span> <span style=\"background-color: yellow;\">recording</span> has been used to localize the generators of EEGevents and to identify subject state in cognitive <span style=\"background-color: yellow;\">studies</span> and is of increasinginterest. However, the <span style=\"background-color: yellow;\">large</span> <span style=\"background-color: yellow;\">EEG</span> artifacts induced during <span style=\"background-color: yellow;\">fMRI</span> have precludedsimultaneous <span style=\"background-color: yellow;\">EEG</span> and <span style=\"background-color: yellow;\">fMRI</span> <span style=\"background-color: yellow;\">recording</span>, restricting study design. Removing thisartifact is difficult, as it normally exceeds <span style=\"background-color: yellow;\">EEG</span> significantly and containscomponents in the <span style=\"background-color: yellow;\">EEG</span> frequency <span style=\"background-color: yellow;\">range</span>. We have developed a <span style=\"background-color: yellow;\">recording</span> <span style=\"background-color: yellow;\">system</span> andan <span style=\"background-color: yellow;\">artifact</span> reduction <span style=\"background-color: yellow;\">method</span> that <span style=\"background-color: yellow;\">reduce</span> this <span style=\"background-color: yellow;\">artifact</span> effectively. The recordingsystem has <span style=\"background-color: yellow;\">large</span> dynamic <span style=\"background-color: yellow;\">range</span> to capture both low-amplitude <span style=\"background-color: yellow;\">EEG</span> and largeimaging <span style=\"background-color: yellow;\">artifact</span> <span style=\"background-color: yellow;\">without</span> <span style=\"background-color: yellow;\">distortion</span> (resolution 2 <span style=\"background-color: yellow;\">microV</span>, <span style=\"background-color: yellow;\">range</span> 33.3 mV), 5-kHzsampling, and low-pass filtering prior to the main gain stage. Imaging artifactis reduced by subtracting an averaged <span style=\"background-color: yellow;\">artifact</span> waveform, followed by adaptivenoise cancellation to <span style=\"background-color: yellow;\">reduce</span> any residual <span style=\"background-color: yellow;\">artifact</span>. This <span style=\"background-color: yellow;\">method</span> was validated in <span style=\"background-color: yellow;\">recordings</span> from five subjects <span style=\"background-color: yellow;\">using</span> periodic and continuous <span style=\"background-color: yellow;\">fMRI</span> sequences.Spectral analysis revealed differences of only 10 to 18% between <span style=\"background-color: yellow;\">EEG</span> recorded in the scanner <span style=\"background-color: yellow;\">without</span> <span style=\"background-color: yellow;\">fMRI</span> and the corrected <span style=\"background-color: yellow;\">EEG</span>. Ninety-nine percent of spikewaves (<span style=\"background-color: yellow;\">median</span> 74 <span style=\"background-color: yellow;\">microV</span>) added to the <span style=\"background-color: yellow;\">recordings</span> were identified in the correctedEEG compared to 12% in the uncorrected <span style=\"background-color: yellow;\">EEG</span>. The <span style=\"background-color: yellow;\">median</span> noise after <span style=\"background-color: yellow;\">artifactreduction</span> was 8 <span style=\"background-color: yellow;\">microV</span>. All these measures indicate that most of the <span style=\"background-color: yellow;\">artifact</span> wasremoved, with minimal <span style=\"background-color: yellow;\">EEG</span> <span style=\"background-color: yellow;\">distortion</span>. <span style=\"background-color: yellow;\">Using</span> this <span style=\"background-color: yellow;\">recording</span> <span style=\"background-color: yellow;\">system</span> and <span style=\"background-color: yellow;\">artifactreduction</span> <span style=\"background-color: yellow;\">method</span>, we have demonstrated that simultaneous <span style=\"background-color: yellow;\">EEG</span>/<span style=\"background-color: yellow;\">fMRI</span> <span style=\"background-color: yellow;\">studies</span> are forthe first time possible, extending the scope of <span style=\"background-color: yellow;\">EEG</span>/<span style=\"background-color: yellow;\">fMRI</span> <span style=\"background-color: yellow;\">studies</span> considerably."
            ]
          },
          "metadata": {}
        },
        {
          "output_type": "stream",
          "name": "stdout",
          "text": [
            "\n",
            "\n",
            "\n"
          ]
        },
        {
          "output_type": "display_data",
          "data": {
            "text/plain": [
              "<IPython.core.display.HTML object>"
            ],
            "text/html": [
              "Kohlschutter syndrome is a rare neurodegenerative disorder presenting withintractable seizures, developmental regression and characteristic hypoplasticdental enamel indicative of amelogenesis imperfecta. We report a new family with two affected siblings."
            ]
          },
          "metadata": {}
        },
        {
          "output_type": "stream",
          "name": "stdout",
          "text": [
            "\n",
            "\n",
            "\n"
          ]
        },
        {
          "output_type": "display_data",
          "data": {
            "text/plain": [
              "<IPython.core.display.HTML object>"
            ],
            "text/html": [
              "<span style=\"background-color: yellow;\">Statistical</span> <span style=\"background-color: yellow;\">analysis</span> of neuroimages is commonly approached with intergroupcomparisons made by repeated <span style=\"background-color: yellow;\">application</span> of univariate or multivariate testsperformed on the set of the regions of interest sampled in the acquired images.The use of such large numbers of tests requires <span style=\"background-color: yellow;\">application</span> of techniques forcorrection for <span style=\"background-color: yellow;\">multiple</span> comparisons. Standard <span style=\"background-color: yellow;\">multiple</span> comparison adjustments(such as the Bonferroni) may be overly conservative when <span style=\"background-color: yellow;\">data</span> are correlatedand/or not normally distributed. Resampling-based step-down <span style=\"background-color: yellow;\">procedures</span> thatsuccessfully account for unknown correlation structures in the <span style=\"background-color: yellow;\">data</span> have recentlybeen introduced. We <span style=\"background-color: yellow;\">combined</span> resampling step-down <span style=\"background-color: yellow;\">procedures</span> with the MinimumVariance Adaptive method, which allows selection of an optimal test statisticfrom a predefined class of statistics for the <span style=\"background-color: yellow;\">data</span> under <span style=\"background-color: yellow;\">analysis</span>. As shown insimulation studies and <span style=\"background-color: yellow;\">analysis</span> of autoradiographic <span style=\"background-color: yellow;\">data</span>, the <span style=\"background-color: yellow;\">combined</span> technique exhibits a significant increase in <span style=\"background-color: yellow;\">statistical</span> power, even for small sample sizes(n = 8, 9, 10)."
            ]
          },
          "metadata": {}
        },
        {
          "output_type": "stream",
          "name": "stdout",
          "text": [
            "\n",
            "\n",
            "\n"
          ]
        },
        {
          "output_type": "display_data",
          "data": {
            "text/plain": [
              "<IPython.core.display.HTML object>"
            ],
            "text/html": [
              "The synthetic DOX-LNA <span style=\"background-color: yellow;\">conjugate</span> was characterized by proton nuclear magneticresonance and <span style=\"background-color: yellow;\">mass</span> <span style=\"background-color: yellow;\">spectrometry</span>. In addition, the purity of the <span style=\"background-color: yellow;\">conjugate</span> wasanalyzed by reverse-phase high-performance <span style=\"background-color: yellow;\">liquid</span> chromatography. The cellularuptake, intracellular distribution, and <span style=\"background-color: yellow;\">cytotoxicity</span> of DOX-LNA were assessed by flow cytometry, fluorescence microscopy, <span style=\"background-color: yellow;\">liquid</span> chromatography/electrosprayionization tandem <span style=\"background-color: yellow;\">mass</span> <span style=\"background-color: yellow;\">spectrometry</span>, and the tetrazolium dye assay using the invitro cell models. The DOX-LNA <span style=\"background-color: yellow;\">conjugate</span> showed substantially highertumor-specific <span style=\"background-color: yellow;\">cytotoxicity</span> compared with DOX."
            ]
          },
          "metadata": {}
        },
        {
          "output_type": "stream",
          "name": "stdout",
          "text": [
            "\n",
            "\n",
            "\n"
          ]
        },
        {
          "output_type": "display_data",
          "data": {
            "text/plain": [
              "<IPython.core.display.HTML object>"
            ],
            "text/html": [
              "Our objective was to compare <span style=\"background-color: yellow;\">three</span> different <span style=\"background-color: yellow;\">methods</span> of <span style=\"background-color: yellow;\">blood</span> pressuremeasurement through the results of a controlled study aimed at comparing theantihypertensive effects of trandolapril and losartan. Two hundred andtwenty-nine hypertensive <span style=\"background-color: yellow;\">patients</span> were randomized in a double-blind parallelgroup study. After a 3-week placebo period, they received either 2 mgtrandolapril or 50 mg losartan once daily for 6 weeks. At the end of both placeboand active <span style=\"background-color: yellow;\">treatment</span> <span style=\"background-color: yellow;\">periods</span>, <span style=\"background-color: yellow;\">three</span> <span style=\"background-color: yellow;\">methods</span> of <span style=\"background-color: yellow;\">blood</span> <span style=\"background-color: yellow;\">pressure</span> measurement wereused: a) <span style=\"background-color: yellow;\">office</span> <span style=\"background-color: yellow;\">blood</span> <span style=\"background-color: yellow;\">pressure</span> (<span style=\"background-color: yellow;\">three</span> <span style=\"background-color: yellow;\">consecutive</span> <span style=\"background-color: yellow;\">measurements</span>); b) home selfblood <span style=\"background-color: yellow;\">pressure</span> <span style=\"background-color: yellow;\">measurements</span> (<span style=\"background-color: yellow;\">SBPM</span>), consisting of <span style=\"background-color: yellow;\">three</span> <span style=\"background-color: yellow;\">consecutive</span> <span style=\"background-color: yellow;\">measurements</span> <span style=\"background-color: yellow;\">performed</span> at home in the morning and in the evening for 7 <span style=\"background-color: yellow;\">consecutive</span> days; andc) ambulatory <span style=\"background-color: yellow;\">blood</span> <span style=\"background-color: yellow;\">pressure</span> <span style=\"background-color: yellow;\">measurements</span> (<span style=\"background-color: yellow;\">ABPM</span>), 24-h BP recordings with threemeasurements per hour. Of the 229 <span style=\"background-color: yellow;\">patients</span>, 199 (87%) <span style=\"background-color: yellow;\">performed</span> at least 12 validSBPM <span style=\"background-color: yellow;\">measurements</span> during both placebo and <span style=\"background-color: yellow;\">treatment</span> <span style=\"background-color: yellow;\">periods</span>, whereas only 160(70%) <span style=\"background-color: yellow;\">performed</span> <span style=\"background-color: yellow;\">good</span> quality 24-h <span style=\"background-color: yellow;\">ABPM</span> recordings during both <span style=\"background-color: yellow;\">periods</span> (P <.0001). One hundred-forty <span style=\"background-color: yellow;\">patients</span> <span style=\"background-color: yellow;\">performed</span> the <span style=\"background-color: yellow;\">three</span> <span style=\"background-color: yellow;\">methods</span> of measurementwell. At <span style=\"background-color: yellow;\">baseline</span> and with <span style=\"background-color: yellow;\">treatment</span>, <span style=\"background-color: yellow;\">agreement</span> between <span style=\"background-color: yellow;\">office</span> <span style=\"background-color: yellow;\">measurements</span> andABPM or <span style=\"background-color: yellow;\">SBPM</span> was weak. Conversely, there was a <span style=\"background-color: yellow;\">good</span> <span style=\"background-color: yellow;\">agreement</span> between <span style=\"background-color: yellow;\">ABPM</span> andSBPM. The mean difference (SBP/DBP) between <span style=\"background-color: yellow;\">ABPM</span> and <span style=\"background-color: yellow;\">SBPM</span> was 4.6 +/- 10.4/3.5+/- 7.1 at <span style=\"background-color: yellow;\">baseline</span> and 3.5 +/- 10.0/4.0 +/- 7.0 at the end of the treatmentperiod. The correlation between <span style=\"background-color: yellow;\">SBPM</span> and <span style=\"background-color: yellow;\">ABPM</span> expressed by the r coefficient and the P values were the following: at <span style=\"background-color: yellow;\">baseline</span> 0.79/0.70 (< 0.001/< .0001), withactive <span style=\"background-color: yellow;\">treatment</span> 0.74/0.69 (0.0001/.0001). <span style=\"background-color: yellow;\">Hourly</span> and 24-h <span style=\"background-color: yellow;\">reproducibility</span> ofblood <span style=\"background-color: yellow;\">pressure</span> response was quantified by the standard deviation of BP response. Compared with <span style=\"background-color: yellow;\">office</span> <span style=\"background-color: yellow;\">blood</span> <span style=\"background-color: yellow;\">pressure</span>, both global and <span style=\"background-color: yellow;\">hourly</span> <span style=\"background-color: yellow;\">SBPM</span> responsesexhibited a lower standard deviation. <span style=\"background-color: yellow;\">Hourly</span> <span style=\"background-color: yellow;\">reproducibility</span> of <span style=\"background-color: yellow;\">SBPM</span> response(10.8 <span style=\"background-color: yellow;\">mm</span> Hg/6.9 <span style=\"background-color: yellow;\">mm</span> Hg) was lower than <span style=\"background-color: yellow;\">hourly</span> <span style=\"background-color: yellow;\">reproducibility</span> of <span style=\"background-color: yellow;\">ABPM</span> response(15.6 <span style=\"background-color: yellow;\">mm</span> Hg/11.9 <span style=\"background-color: yellow;\">mm</span> Hg). In conclusion, <span style=\"background-color: yellow;\">SBPM</span> was easier to perform than <span style=\"background-color: yellow;\">ABPM</span>.There was a <span style=\"background-color: yellow;\">good</span> <span style=\"background-color: yellow;\">agreement</span> between these two <span style=\"background-color: yellow;\">methods</span> whereas concordance between <span style=\"background-color: yellow;\">SBPM</span> or <span style=\"background-color: yellow;\">ABPM</span> and <span style=\"background-color: yellow;\">office</span> <span style=\"background-color: yellow;\">measurements</span> was weak. As <span style=\"background-color: yellow;\">hourly</span> <span style=\"background-color: yellow;\">reproducibility</span> of <span style=\"background-color: yellow;\">SBPM</span> response is better than <span style=\"background-color: yellow;\">reproducibility</span> of both <span style=\"background-color: yellow;\">hourly</span> <span style=\"background-color: yellow;\">ABPM</span> and <span style=\"background-color: yellow;\">office</span> BPresponse, <span style=\"background-color: yellow;\">SBPM</span> seems to be the most appropriate method for evaluating residualantihypertensive effect."
            ]
          },
          "metadata": {}
        },
        {
          "output_type": "stream",
          "name": "stdout",
          "text": [
            "\n",
            "\n",
            "\n"
          ]
        },
        {
          "output_type": "display_data",
          "data": {
            "text/plain": [
              "<IPython.core.display.HTML object>"
            ],
            "text/html": [
              "We conducted a phase <span style=\"background-color: yellow;\">II</span> study to assess the efficacy and tolerability ofirinotecan and <span style=\"background-color: yellow;\">cisplatin</span> as salvage <span style=\"background-color: yellow;\">chemotherapy</span> in <span style=\"background-color: yellow;\">patients</span> with advancedgastric adenocarcinoma, progressing after both 5-fluorouracil (5-FU)- andtaxane-containing regimen. <span style=\"background-color: yellow;\">Patients</span> with measurable <span style=\"background-color: yellow;\">metastatic</span> gastric cancer,progressive after <span style=\"background-color: yellow;\">previous</span> <span style=\"background-color: yellow;\">chemotherapy</span> that consisted either of a 5-FU-basedregimen followed by second-line <span style=\"background-color: yellow;\">chemotherapy</span> containing <span style=\"background-color: yellow;\">taxanes</span> or a 5-FU andtaxane <span style=\"background-color: yellow;\">combination</span> were treated with <span style=\"background-color: yellow;\">irinotecan</span> and <span style=\"background-color: yellow;\">cisplatin</span>. <span style=\"background-color: yellow;\">Irinotecan</span> 70mg/m(2) was <span style=\"background-color: yellow;\">administered</span> on <span style=\"background-color: yellow;\">day</span> 1 and <span style=\"background-color: yellow;\">day</span> 15; <span style=\"background-color: yellow;\">cisplatin</span> 70 mg/m(2) wasadministered on <span style=\"background-color: yellow;\">day</span> 1. Treatment was repeated every 4 weeks. For 28 patientsregistered, a total of 94 <span style=\"background-color: yellow;\">chemotherapy</span> cycles were <span style=\"background-color: yellow;\">administered</span>. The <span style=\"background-color: yellow;\">patients</span>'median age was 51 years and 27 (96%) had an ECOG performance status of 1 orbelow. In an intent-to-treat analysis, seven <span style=\"background-color: yellow;\">patients</span> (25%) achieved a partialresponse, which maintained for 6.3 months (95% confidence interval 6.2-6.4months). The median progression-free and overall survival were 3.5 and 5.6months, respectively. Major toxic effects included nausea, diarrhea andneurotoxicity. Although there was one possible treatment-related death, toxicity profiles were generally predictable and manageable. We conclude that irinotecanand <span style=\"background-color: yellow;\">cisplatin</span> is an active <span style=\"background-color: yellow;\">combination</span> for <span style=\"background-color: yellow;\">patients</span> with <span style=\"background-color: yellow;\">metastatic</span> gastriccancer in whom <span style=\"background-color: yellow;\">previous</span> <span style=\"background-color: yellow;\">chemotherapy</span> with 5-FU and <span style=\"background-color: yellow;\">taxanes</span> has failed."
            ]
          },
          "metadata": {}
        },
        {
          "output_type": "stream",
          "name": "stdout",
          "text": [
            "\n",
            "\n",
            "\n"
          ]
        },
        {
          "output_type": "display_data",
          "data": {
            "text/plain": [
              "<IPython.core.display.HTML object>"
            ],
            "text/html": [
              "\"\"\"Monomeric <span style=\"background-color: yellow;\">sarcosine</span> oxidase (<span style=\"background-color: yellow;\">MSOX</span>) is a flavoenzyme that catalyzes the oxidative demethylation of <span style=\"background-color: yellow;\">sarcosine</span> (N-methylglycine) to yield <span style=\"background-color: yellow;\">glycine</span>"
            ]
          },
          "metadata": {}
        },
        {
          "output_type": "stream",
          "name": "stdout",
          "text": [
            "\n",
            "\n",
            "\n"
          ]
        }
      ]
    },
    {
      "cell_type": "markdown",
      "source": [
        "## **Keyword Extraction Tool**\n",
        "\n",
        " The tool provides a user interface built with IPython widgets, allowing users to input text and click a button to extract keywords. The extracted keywords are displayed along with the input text with highlighted keywords. This tool can be useful for quickly identifying key terms and concepts in text documents.\n",
        "\n"
      ],
      "metadata": {
        "id": "zekO1a7OVJMk"
      }
    },
    {
      "cell_type": "code",
      "source": [
        "keyword_model = yake_pipeline.fit(df)"
      ],
      "metadata": {
        "id": "PWAlvN4bNd21"
      },
      "execution_count": 49,
      "outputs": []
    },
    {
      "cell_type": "code",
      "source": [
        "import re\n",
        "import ipywidgets as widgets\n",
        "from IPython.display import display, HTML\n",
        "\n",
        "\n",
        "\n",
        "def highlight(text, keywords):\n",
        "    for k in keywords:\n",
        "        text = (re.sub(r'(\\b%s\\b)' % k, r'<span style=\"background-color: yellow;\">\\1</span>', text, flags=re.IGNORECASE))\n",
        "    return text\n",
        "\n",
        "def extract_keywords(text):\n",
        "    # Transform the input text using the pre-fitted pipeline model\n",
        "    result = keyword_model.transform(spark.createDataFrame([(text,)], [\"text\"]))\n",
        "\n",
        "    # Extract unique keywords\n",
        "    unique_keywords = [keyword.result for keyword in result.select(\"keywords\").collect()[0][\"keywords\"]]\n",
        "\n",
        "    # Highlight keywords in the input text\n",
        "    highlighted_text = highlight(text, unique_keywords)\n",
        "    return unique_keywords, highlighted_text\n",
        "\n",
        "\n",
        "# Colab UI\n",
        "text_input = widgets.Textarea(\n",
        "    value='',\n",
        "    placeholder='Enter your text here',\n",
        "    description='Text:',\n",
        "    disabled=False\n",
        ")\n",
        "display(text_input)\n",
        "\n",
        "def on_button_click(b):\n",
        "    uploaded_text = text_input.value\n",
        "    if uploaded_text:\n",
        "        keywords, highlighted_text = extract_keywords(uploaded_text)\n",
        "        display(HTML(f\"<b>Keywords:</b> {' | '.join(keywords)}\"))\n",
        "        display(HTML(highlighted_text))\n",
        "    else:\n",
        "        print(\"Please enter some text.\")\n",
        "\n",
        "button = widgets.Button(description=\"Extract Keywords\")\n",
        "button.on_click(on_button_click)\n",
        "display(button)\n"
      ],
      "metadata": {
        "colab": {
          "base_uri": "https://localhost:8080/",
          "height": 147,
          "referenced_widgets": [
            "787d73a40de744e9903eddb25c3855b6",
            "603322f773cb4d70a5fe1123052be048",
            "65b66d37bc76423cab050d4e1d3c11bb",
            "416fac22ed21475389b75def4894e74e",
            "d0378ebf7ed446e78230e115d47a6002",
            "d8b14fbcb6a4447e874a6e2b1136225b"
          ]
        },
        "id": "a9FJPbPZSZKF",
        "outputId": "5006b833-93eb-459b-8415-a073ad6b56c6"
      },
      "execution_count": 50,
      "outputs": [
        {
          "output_type": "display_data",
          "data": {
            "text/plain": [
              "Textarea(value='', description='Text:', placeholder='Enter your text here')"
            ],
            "application/vnd.jupyter.widget-view+json": {
              "version_major": 2,
              "version_minor": 0,
              "model_id": "787d73a40de744e9903eddb25c3855b6"
            }
          },
          "metadata": {}
        },
        {
          "output_type": "display_data",
          "data": {
            "text/plain": [
              "Button(description='Extract Keywords', style=ButtonStyle())"
            ],
            "application/vnd.jupyter.widget-view+json": {
              "version_major": 2,
              "version_minor": 0,
              "model_id": "416fac22ed21475389b75def4894e74e"
            }
          },
          "metadata": {}
        },
        {
          "output_type": "display_data",
          "data": {
            "text/plain": [
              "<IPython.core.display.HTML object>"
            ],
            "text/html": [
              "<b>Keywords:</b> data | data | business | insights | business | drive | insights | drive | drive | business"
            ]
          },
          "metadata": {}
        },
        {
          "output_type": "display_data",
          "data": {
            "text/plain": [
              "<IPython.core.display.HTML object>"
            ],
            "text/html": [
              "Passionate and results-oriented <span style=\"background-color: yellow;\"><span style=\"background-color: yellow;\">data</span></span> analyst with expertise in <span style=\"background-color: yellow;\"><span style=\"background-color: yellow;\">data</span></span> analytics and <span style=\"background-color: yellow;\"><span style=\"background-color: yellow;\"><span style=\"background-color: yellow;\">business</span></span></span> intelligence. Proficient in leveraging <span style=\"background-color: yellow;\"><span style=\"background-color: yellow;\">data</span></span>-driven <span style=\"background-color: yellow;\"><span style=\"background-color: yellow;\">insights</span></span> to optimize <span style=\"background-color: yellow;\"><span style=\"background-color: yellow;\"><span style=\"background-color: yellow;\">business</span></span></span> outcomes and <span style=\"background-color: yellow;\"><span style=\"background-color: yellow;\"><span style=\"background-color: yellow;\">drive</span></span></span> organizational growth. Experienced in extracting actionable <span style=\"background-color: yellow;\"><span style=\"background-color: yellow;\">insights</span></span> from complex datasets to inform strategic decision-making processes. Eager to apply analytical skills and proficiency in programming to <span style=\"background-color: yellow;\"><span style=\"background-color: yellow;\"><span style=\"background-color: yellow;\">drive</span></span></span> innovation and <span style=\"background-color: yellow;\"><span style=\"background-color: yellow;\"><span style=\"background-color: yellow;\">drive</span></span></span> <span style=\"background-color: yellow;\"><span style=\"background-color: yellow;\"><span style=\"background-color: yellow;\">business</span></span></span> success through <span style=\"background-color: yellow;\"><span style=\"background-color: yellow;\">data</span></span>-driven strategies."
            ]
          },
          "metadata": {}
        }
      ]
    }
  ]
}