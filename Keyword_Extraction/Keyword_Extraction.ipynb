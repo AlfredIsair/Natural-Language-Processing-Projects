{
  "nbformat": 4,
  "nbformat_minor": 0,
  "metadata": {
    "colab": {
      "provenance": [],
      "authorship_tag": "ABX9TyNuEFNwP3PAeiXDietw/wp3",
      "include_colab_link": true
    },
    "kernelspec": {
      "name": "python3",
      "display_name": "Python 3"
    },
    "language_info": {
      "name": "python"
    },
    "widgets": {
      "application/vnd.jupyter.widget-state+json": {
        "ef4e20e0452b49d5a763399f28ddcf7d": {
          "model_module": "@jupyter-widgets/controls",
          "model_name": "TextareaModel",
          "model_module_version": "1.5.0",
          "state": {
            "_dom_classes": [],
            "_model_module": "@jupyter-widgets/controls",
            "_model_module_version": "1.5.0",
            "_model_name": "TextareaModel",
            "_view_count": null,
            "_view_module": "@jupyter-widgets/controls",
            "_view_module_version": "1.5.0",
            "_view_name": "TextareaView",
            "continuous_update": true,
            "description": "Text:",
            "description_tooltip": null,
            "disabled": false,
            "layout": "IPY_MODEL_fcc0874cf2df4a7d86ea5a5ac16090f3",
            "placeholder": "Enter your text here",
            "rows": null,
            "style": "IPY_MODEL_5d768aff237d4471a444d8d7da9d3246",
            "value": "The human KCNJ9 (Kir 3.3, GIRK3) is a member of the G-protein-activated inwardly rectifying potassium (GIRK) channel family. Here we describe the genomicorganization of the KCNJ9 locus on chromosome 1q21-23 as a candidate gene forType II diabetes mellitus in the Pima Indian population. The gene spansapproximately 7.6 kb and contains one noncoding and two coding exons separated byapproximately 2.2 and approximately 2.6 kb introns, respectively. We identified14 single nucleotide polymorphisms (SNPs), including one that predicts aVal366Ala substitution, and an 8 base-pair (bp) insertion/deletion. Ourexpression studies revealed the presence of the transcript in various humantissues including pancreas, and two major insulin-responsive tissues: fat andskeletal muscle. The characterization of the KCNJ9 gene should facilitate furtherstudies on the function of the KCNJ9 protein and allow evaluation of thepotential role of the locus in Type II diabetes."
          }
        },
        "fcc0874cf2df4a7d86ea5a5ac16090f3": {
          "model_module": "@jupyter-widgets/base",
          "model_name": "LayoutModel",
          "model_module_version": "1.2.0",
          "state": {
            "_model_module": "@jupyter-widgets/base",
            "_model_module_version": "1.2.0",
            "_model_name": "LayoutModel",
            "_view_count": null,
            "_view_module": "@jupyter-widgets/base",
            "_view_module_version": "1.2.0",
            "_view_name": "LayoutView",
            "align_content": null,
            "align_items": null,
            "align_self": null,
            "border": null,
            "bottom": null,
            "display": null,
            "flex": null,
            "flex_flow": null,
            "grid_area": null,
            "grid_auto_columns": null,
            "grid_auto_flow": null,
            "grid_auto_rows": null,
            "grid_column": null,
            "grid_gap": null,
            "grid_row": null,
            "grid_template_areas": null,
            "grid_template_columns": null,
            "grid_template_rows": null,
            "height": null,
            "justify_content": null,
            "justify_items": null,
            "left": null,
            "margin": null,
            "max_height": null,
            "max_width": null,
            "min_height": null,
            "min_width": null,
            "object_fit": null,
            "object_position": null,
            "order": null,
            "overflow": null,
            "overflow_x": null,
            "overflow_y": null,
            "padding": null,
            "right": null,
            "top": null,
            "visibility": null,
            "width": null
          }
        },
        "5d768aff237d4471a444d8d7da9d3246": {
          "model_module": "@jupyter-widgets/controls",
          "model_name": "DescriptionStyleModel",
          "model_module_version": "1.5.0",
          "state": {
            "_model_module": "@jupyter-widgets/controls",
            "_model_module_version": "1.5.0",
            "_model_name": "DescriptionStyleModel",
            "_view_count": null,
            "_view_module": "@jupyter-widgets/base",
            "_view_module_version": "1.2.0",
            "_view_name": "StyleView",
            "description_width": ""
          }
        },
        "2b46c04ae8cf4d0b91ee1f8edbc25ae8": {
          "model_module": "@jupyter-widgets/controls",
          "model_name": "ButtonModel",
          "model_module_version": "1.5.0",
          "state": {
            "_dom_classes": [],
            "_model_module": "@jupyter-widgets/controls",
            "_model_module_version": "1.5.0",
            "_model_name": "ButtonModel",
            "_view_count": null,
            "_view_module": "@jupyter-widgets/controls",
            "_view_module_version": "1.5.0",
            "_view_name": "ButtonView",
            "button_style": "",
            "description": "Extract Keywords",
            "disabled": false,
            "icon": "",
            "layout": "IPY_MODEL_d75f43a3c22f40579c809b6a08ef8930",
            "style": "IPY_MODEL_db82c1ef10be4a609489f81a635dbbdd",
            "tooltip": ""
          }
        },
        "d75f43a3c22f40579c809b6a08ef8930": {
          "model_module": "@jupyter-widgets/base",
          "model_name": "LayoutModel",
          "model_module_version": "1.2.0",
          "state": {
            "_model_module": "@jupyter-widgets/base",
            "_model_module_version": "1.2.0",
            "_model_name": "LayoutModel",
            "_view_count": null,
            "_view_module": "@jupyter-widgets/base",
            "_view_module_version": "1.2.0",
            "_view_name": "LayoutView",
            "align_content": null,
            "align_items": null,
            "align_self": null,
            "border": null,
            "bottom": null,
            "display": null,
            "flex": null,
            "flex_flow": null,
            "grid_area": null,
            "grid_auto_columns": null,
            "grid_auto_flow": null,
            "grid_auto_rows": null,
            "grid_column": null,
            "grid_gap": null,
            "grid_row": null,
            "grid_template_areas": null,
            "grid_template_columns": null,
            "grid_template_rows": null,
            "height": null,
            "justify_content": null,
            "justify_items": null,
            "left": null,
            "margin": null,
            "max_height": null,
            "max_width": null,
            "min_height": null,
            "min_width": null,
            "object_fit": null,
            "object_position": null,
            "order": null,
            "overflow": null,
            "overflow_x": null,
            "overflow_y": null,
            "padding": null,
            "right": null,
            "top": null,
            "visibility": null,
            "width": null
          }
        },
        "db82c1ef10be4a609489f81a635dbbdd": {
          "model_module": "@jupyter-widgets/controls",
          "model_name": "ButtonStyleModel",
          "model_module_version": "1.5.0",
          "state": {
            "_model_module": "@jupyter-widgets/controls",
            "_model_module_version": "1.5.0",
            "_model_name": "ButtonStyleModel",
            "_view_count": null,
            "_view_module": "@jupyter-widgets/base",
            "_view_module_version": "1.2.0",
            "_view_name": "StyleView",
            "button_color": null,
            "font_weight": ""
          }
        }
      }
    }
  },
  "cells": [
    {
      "cell_type": "markdown",
      "metadata": {
        "id": "view-in-github",
        "colab_type": "text"
      },
      "source": [
        "<a href=\"https://colab.research.google.com/github/AlfredIsair/Natural-Language-Processing-Projects/blob/main/Keyword_Extraction/Keyword_Extraction.ipynb\" target=\"_parent\"><img src=\"https://colab.research.google.com/assets/colab-badge.svg\" alt=\"Open In Colab\"/></a>"
      ]
    },
    {
      "cell_type": "code",
      "execution_count": 1,
      "metadata": {
        "id": "wOUPXEoNFYDL"
      },
      "outputs": [],
      "source": [
        "! pip install -q pyspark==3.4.1 spark-nlp==5.1.2"
      ]
    },
    {
      "cell_type": "code",
      "source": [
        "from pyspark.sql import functions as F\n",
        "from pyspark.sql.functions import lit\n",
        "from pyspark.sql.types  import StringType, DataType, ArrayType\n",
        "from pyspark.sql.functions import udf, struct\n",
        "from pyspark.ml import Pipeline\n",
        "from IPython.core.display import display, HTML\n",
        "import re\n"
      ],
      "metadata": {
        "id": "n-4_3X3NFbbA"
      },
      "execution_count": 2,
      "outputs": []
    },
    {
      "cell_type": "code",
      "source": [
        "import sparknlp\n",
        "\n",
        "from pyspark.ml import PipelineModel\n",
        "from sparknlp.annotator import *\n",
        "from sparknlp.base import *\n",
        "\n",
        "spark = sparknlp.start()"
      ],
      "metadata": {
        "id": "Ic0jx572Fbdf"
      },
      "execution_count": 3,
      "outputs": []
    },
    {
      "cell_type": "code",
      "source": [
        "stopwords = StopWordsCleaner().getStopWords()"
      ],
      "metadata": {
        "id": "33GP-1UnFbf4"
      },
      "execution_count": 4,
      "outputs": []
    },
    {
      "cell_type": "code",
      "source": [
        "stopwords[:10]"
      ],
      "metadata": {
        "colab": {
          "base_uri": "https://localhost:8080/"
        },
        "id": "FamwqYYtFbif",
        "outputId": "5d2f52e5-db90-43c7-ad43-8fb12f0c68a1"
      },
      "execution_count": 5,
      "outputs": [
        {
          "output_type": "execute_result",
          "data": {
            "text/plain": [
              "['i', 'me', 'my', 'myself', 'we', 'our', 'ours', 'ourselves', 'you', 'your']"
            ]
          },
          "metadata": {},
          "execution_count": 5
        }
      ]
    },
    {
      "cell_type": "code",
      "source": [
        "document= DocumentAssembler() \\\n",
        "        .setInputCol(\"text\").setOutputCol(\"document\")\n",
        "\n",
        "sentence= SentenceDetector() \\\n",
        "        .setInputCols(\"document\") \\\n",
        "        .setOutputCol(\"sentence\")\n",
        "\n",
        "token= Tokenizer()\\\n",
        "        .setInputCols(\"sentence\")\\\n",
        "        .setOutputCol(\"token\") \\\n",
        "        .setContextChars([\"(\", \")\", \"?\", \"!\", \".\", \",\"])\n",
        "\n",
        "keywords= YakeKeywordExtraction() \\\n",
        "        .setInputCols(\"token\")  \\\n",
        "        .setOutputCol(\"keywords\") \\\n",
        "        .setMinNGrams(1) \\\n",
        "        .setMaxNGrams(3) \\\n",
        "        .setNKeywords(20) \\\n",
        "        .setStopWords(stopwords) \\\n",
        "        #.setThreshold() \\\n",
        "        #.setWindowSize()\n",
        "\n",
        "\n",
        "yake_pipeline = Pipeline(stages=[\n",
        "    document,\n",
        "    sentence,\n",
        "    token,\n",
        "    keywords\n",
        "])"
      ],
      "metadata": {
        "id": "KJfSdx7nZAF9"
      },
      "execution_count": 6,
      "outputs": []
    },
    {
      "cell_type": "code",
      "source": [
        "empty_df = spark.createDataFrame([['']]).toDF(\"text\")\n",
        "\n",
        "yake_Model = yake_pipeline.fit(empty_df)"
      ],
      "metadata": {
        "id": "qlz4ox_8ZAIl"
      },
      "execution_count": 7,
      "outputs": []
    },
    {
      "cell_type": "code",
      "source": [
        "#LightPipeline\n",
        "\n",
        "light_model = LightPipeline(yake_Model)\n",
        "\n",
        "text = '''\n",
        "  google is acquiring data science community kaggle. Sources tell us that google is acquiring kaggle, a platform that hosts data science and machine learning competitions.\n",
        "  Details about the transaction remain somewhat vague , but given that google is hosting its Cloud Next conference in san francisco this week, the official announcement could come as early as tomorrow.\n",
        "  Reached by phone, kaggle co-founder ceo anthony goldbloom declined to deny that the acquisition is happening. google itself declined 'to comment on rumors'.\n",
        "  kaggle, which has about half a million data scientists on its platform, was founded by Goldbloom and Ben Hamner in 2010.\n",
        "  The service got an early start and even though it has a few competitors like DrivenData, TopCoder and HackerRank, it has managed to stay well ahead of them by focusing on its specific niche.\n",
        "  The service is basically the de facto home for running data science and machine learning competitions.\n",
        "  With kaggle, google is buying one of the largest and most active communities for data scientists - and with that, it will get increased mindshare in this community, too (though it already has plenty of that thanks to Tensorflow and other projects).\n",
        "  kaggle has a bit of a history with google, too, but that's pretty recent. Earlier this month, google and kaggle teamed up to host a $100,000 machine learning competition around classifying YouTube videos.\n",
        "  That competition had some deep integrations with the google Cloud platform, too. Our understanding is that google will keep the service running - likely under its current name. While the acquisition is probably more about Kaggle's community than technology,\n",
        "  kaggle did build some interesting tools for hosting its competition and 'kernels', too. On kaggle, kernels are basically the source code for analyzing data sets and developers can share this code on the platform (the company previously called them 'scripts').\n",
        "  Like similar competition-centric sites, kaggle also runs a job board, too. It's unclear what google will do with that part of the service. According to Crunchbase, kaggle raised $12.5 million (though PitchBook says it's $12.75) since its launch in 2010.\n",
        "  Investors in kaggle include Index Ventures, SV Angel, Max Levchin, Naval Ravikant, google chief economist Hal Varian, Khosla Ventures and Yuri Milner\n",
        "'''\n",
        "\n",
        "light_result = light_model.fullAnnotate(text)[0]\n",
        "\n",
        "# summary view of the keyword extraction outcome, pairing each recognized keyword(s) with its matching source sentence(s)\n",
        "[(s.metadata['sentence'], s.result) for s in light_result['sentence']]\n"
      ],
      "metadata": {
        "colab": {
          "base_uri": "https://localhost:8080/"
        },
        "id": "V1Xfhp4bZALV",
        "outputId": "da99da46-d3d9-4cb6-858e-51955cb10322"
      },
      "execution_count": 8,
      "outputs": [
        {
          "output_type": "execute_result",
          "data": {
            "text/plain": [
              "[('0', 'google is acquiring data science community kaggle.'),\n",
              " ('1',\n",
              "  'Sources tell us that google is acquiring kaggle, a platform that hosts data science and machine learning competitions.'),\n",
              " ('2',\n",
              "  'Details about the transaction remain somewhat vague , but given that google is hosting its Cloud Next conference in san francisco this week, the official announcement could come as early as tomorrow.'),\n",
              " ('3',\n",
              "  'Reached by phone, kaggle co-founder ceo anthony goldbloom declined to deny that the acquisition is happening.'),\n",
              " ('4',\n",
              "  \"google itself declined 'to comment on rumors'.\\n  kaggle, which has about half a million data scientists on its platform, was founded by Goldbloom and Ben Hamner in 2010.\"),\n",
              " ('5',\n",
              "  'The service got an early start and even though it has a few competitors like DrivenData, TopCoder and HackerRank, it has managed to stay well ahead of them by focusing on its specific niche.'),\n",
              " ('6',\n",
              "  'The service is basically the de facto home for running data science and machine learning competitions.'),\n",
              " ('7',\n",
              "  'With kaggle, google is buying one of the largest and most active communities for data scientists - and with that, it will get increased mindshare in this community, too (though it already has plenty of that thanks to Tensorflow and other projects).'),\n",
              " ('8',\n",
              "  \"kaggle has a bit of a history with google, too, but that's pretty recent.\"),\n",
              " ('9',\n",
              "  'Earlier this month, google and kaggle teamed up to host a $100,000 machine learning competition around classifying YouTube videos.'),\n",
              " ('10',\n",
              "  'That competition had some deep integrations with the google Cloud platform, too.'),\n",
              " ('11',\n",
              "  'Our understanding is that google will keep the service running - likely under its current name.'),\n",
              " ('12',\n",
              "  \"While the acquisition is probably more about Kaggle's community than technology,\\n  kaggle did build some interesting tools for hosting its competition and 'kernels', too.\"),\n",
              " ('13',\n",
              "  \"On kaggle, kernels are basically the source code for analyzing data sets and developers can share this code on the platform (the company previously called them 'scripts').\"),\n",
              " ('14',\n",
              "  'Like similar competition-centric sites, kaggle also runs a job board, too.'),\n",
              " ('15', \"It's unclear what google will do with that part of the service.\"),\n",
              " ('16',\n",
              "  \"According to Crunchbase, kaggle raised $12.5 million (though PitchBook says it's $12.75) since its launch in 2010.\"),\n",
              " ('17',\n",
              "  'Investors in kaggle include Index Ventures, SV Angel, Max Levchin, Naval Ravikant, google chief economist Hal Varian, Khosla Ventures and Yuri Milner')]"
            ]
          },
          "metadata": {},
          "execution_count": 8
        }
      ]
    },
    {
      "cell_type": "code",
      "source": [
        "#lets take the extracted keywords from light_result, organizes them into a Pandas DataFrame, sorts the entries by descending order of relevance, and finally displays the highest ranked 30 results.\n",
        "\n",
        "import pandas as pd\n",
        "\n",
        "keys_df = pd.DataFrame([(k.result, k.begin, k.end, k.metadata['score'], k.metadata['sentence'])\n",
        "                        for k in light_result['keywords']],\n",
        "                       columns = ['keywords', 'begin', 'end', 'score', 'sentence'])\n",
        "keys_df['score'] = keys_df['score'].astype(float)\n",
        "\n",
        "#ordering by relevance\n",
        "keys_df.sort_values(['sentence', 'score']).head(30)"
      ],
      "metadata": {
        "colab": {
          "base_uri": "https://localhost:8080/",
          "height": 990
        },
        "id": "bV12fUTJ0xjS",
        "outputId": "7bb09846-f6bb-459f-d683-97e83e77539c"
      },
      "execution_count": 9,
      "outputs": [
        {
          "output_type": "execute_result",
          "data": {
            "text/plain": [
              "        keywords  begin   end     score sentence\n",
              "5         kaggle     46    51  0.053675        0\n",
              "0         google      3     8  0.058287        0\n",
              "2           data     23    26  0.107008        0\n",
              "3        science     28    34  0.225451        0\n",
              "71  data science     23    34  0.255856        0\n",
              "4      community     36    44  0.263910        0\n",
              "1      acquiring     13    21  0.356494        0\n",
              "8         kaggle     95   100  0.053675        1\n",
              "6         google     75    80  0.058287        1\n",
              "10          data    125   128  0.107008        1\n",
              "9       platform    105   112  0.187174        1\n",
              "11       science    130   136  0.225451        1\n",
              "12       machine    142   148  0.253205        1\n",
              "72  data science    125   136  0.255856        1\n",
              "13      learning    150   157  0.256034        1\n",
              "7      acquiring     85    93  0.356494        1\n",
              "14  competitions    159   170  0.393240        1\n",
              "51        google   1468  1473  0.058287       10\n",
              "53      platform   1481  1488  0.187174       10\n",
              "50   competition   1420  1430  0.271576       10\n",
              "52         cloud   1475  1479  0.296057       10\n",
              "54        google   1522  1527  0.058287       11\n",
              "55       service   1543  1549  0.193717       11\n",
              "57        kaggle   1675  1680  0.053675       12\n",
              "56     community   1646  1654  0.263910       12\n",
              "58   competition   1731  1741  0.271576       12\n",
              "59        kaggle   1766  1771  0.053675       13\n",
              "60          data   1826  1829  0.107008       13\n",
              "61      platform   1878  1885  0.187174       13\n",
              "62        kaggle   1977  1982  0.053675       14"
            ],
            "text/html": [
              "\n",
              "  <div id=\"df-3b7f2147-bbed-45ec-bd05-e15f778c693d\" class=\"colab-df-container\">\n",
              "    <div>\n",
              "<style scoped>\n",
              "    .dataframe tbody tr th:only-of-type {\n",
              "        vertical-align: middle;\n",
              "    }\n",
              "\n",
              "    .dataframe tbody tr th {\n",
              "        vertical-align: top;\n",
              "    }\n",
              "\n",
              "    .dataframe thead th {\n",
              "        text-align: right;\n",
              "    }\n",
              "</style>\n",
              "<table border=\"1\" class=\"dataframe\">\n",
              "  <thead>\n",
              "    <tr style=\"text-align: right;\">\n",
              "      <th></th>\n",
              "      <th>keywords</th>\n",
              "      <th>begin</th>\n",
              "      <th>end</th>\n",
              "      <th>score</th>\n",
              "      <th>sentence</th>\n",
              "    </tr>\n",
              "  </thead>\n",
              "  <tbody>\n",
              "    <tr>\n",
              "      <th>5</th>\n",
              "      <td>kaggle</td>\n",
              "      <td>46</td>\n",
              "      <td>51</td>\n",
              "      <td>0.053675</td>\n",
              "      <td>0</td>\n",
              "    </tr>\n",
              "    <tr>\n",
              "      <th>0</th>\n",
              "      <td>google</td>\n",
              "      <td>3</td>\n",
              "      <td>8</td>\n",
              "      <td>0.058287</td>\n",
              "      <td>0</td>\n",
              "    </tr>\n",
              "    <tr>\n",
              "      <th>2</th>\n",
              "      <td>data</td>\n",
              "      <td>23</td>\n",
              "      <td>26</td>\n",
              "      <td>0.107008</td>\n",
              "      <td>0</td>\n",
              "    </tr>\n",
              "    <tr>\n",
              "      <th>3</th>\n",
              "      <td>science</td>\n",
              "      <td>28</td>\n",
              "      <td>34</td>\n",
              "      <td>0.225451</td>\n",
              "      <td>0</td>\n",
              "    </tr>\n",
              "    <tr>\n",
              "      <th>71</th>\n",
              "      <td>data science</td>\n",
              "      <td>23</td>\n",
              "      <td>34</td>\n",
              "      <td>0.255856</td>\n",
              "      <td>0</td>\n",
              "    </tr>\n",
              "    <tr>\n",
              "      <th>4</th>\n",
              "      <td>community</td>\n",
              "      <td>36</td>\n",
              "      <td>44</td>\n",
              "      <td>0.263910</td>\n",
              "      <td>0</td>\n",
              "    </tr>\n",
              "    <tr>\n",
              "      <th>1</th>\n",
              "      <td>acquiring</td>\n",
              "      <td>13</td>\n",
              "      <td>21</td>\n",
              "      <td>0.356494</td>\n",
              "      <td>0</td>\n",
              "    </tr>\n",
              "    <tr>\n",
              "      <th>8</th>\n",
              "      <td>kaggle</td>\n",
              "      <td>95</td>\n",
              "      <td>100</td>\n",
              "      <td>0.053675</td>\n",
              "      <td>1</td>\n",
              "    </tr>\n",
              "    <tr>\n",
              "      <th>6</th>\n",
              "      <td>google</td>\n",
              "      <td>75</td>\n",
              "      <td>80</td>\n",
              "      <td>0.058287</td>\n",
              "      <td>1</td>\n",
              "    </tr>\n",
              "    <tr>\n",
              "      <th>10</th>\n",
              "      <td>data</td>\n",
              "      <td>125</td>\n",
              "      <td>128</td>\n",
              "      <td>0.107008</td>\n",
              "      <td>1</td>\n",
              "    </tr>\n",
              "    <tr>\n",
              "      <th>9</th>\n",
              "      <td>platform</td>\n",
              "      <td>105</td>\n",
              "      <td>112</td>\n",
              "      <td>0.187174</td>\n",
              "      <td>1</td>\n",
              "    </tr>\n",
              "    <tr>\n",
              "      <th>11</th>\n",
              "      <td>science</td>\n",
              "      <td>130</td>\n",
              "      <td>136</td>\n",
              "      <td>0.225451</td>\n",
              "      <td>1</td>\n",
              "    </tr>\n",
              "    <tr>\n",
              "      <th>12</th>\n",
              "      <td>machine</td>\n",
              "      <td>142</td>\n",
              "      <td>148</td>\n",
              "      <td>0.253205</td>\n",
              "      <td>1</td>\n",
              "    </tr>\n",
              "    <tr>\n",
              "      <th>72</th>\n",
              "      <td>data science</td>\n",
              "      <td>125</td>\n",
              "      <td>136</td>\n",
              "      <td>0.255856</td>\n",
              "      <td>1</td>\n",
              "    </tr>\n",
              "    <tr>\n",
              "      <th>13</th>\n",
              "      <td>learning</td>\n",
              "      <td>150</td>\n",
              "      <td>157</td>\n",
              "      <td>0.256034</td>\n",
              "      <td>1</td>\n",
              "    </tr>\n",
              "    <tr>\n",
              "      <th>7</th>\n",
              "      <td>acquiring</td>\n",
              "      <td>85</td>\n",
              "      <td>93</td>\n",
              "      <td>0.356494</td>\n",
              "      <td>1</td>\n",
              "    </tr>\n",
              "    <tr>\n",
              "      <th>14</th>\n",
              "      <td>competitions</td>\n",
              "      <td>159</td>\n",
              "      <td>170</td>\n",
              "      <td>0.393240</td>\n",
              "      <td>1</td>\n",
              "    </tr>\n",
              "    <tr>\n",
              "      <th>51</th>\n",
              "      <td>google</td>\n",
              "      <td>1468</td>\n",
              "      <td>1473</td>\n",
              "      <td>0.058287</td>\n",
              "      <td>10</td>\n",
              "    </tr>\n",
              "    <tr>\n",
              "      <th>53</th>\n",
              "      <td>platform</td>\n",
              "      <td>1481</td>\n",
              "      <td>1488</td>\n",
              "      <td>0.187174</td>\n",
              "      <td>10</td>\n",
              "    </tr>\n",
              "    <tr>\n",
              "      <th>50</th>\n",
              "      <td>competition</td>\n",
              "      <td>1420</td>\n",
              "      <td>1430</td>\n",
              "      <td>0.271576</td>\n",
              "      <td>10</td>\n",
              "    </tr>\n",
              "    <tr>\n",
              "      <th>52</th>\n",
              "      <td>cloud</td>\n",
              "      <td>1475</td>\n",
              "      <td>1479</td>\n",
              "      <td>0.296057</td>\n",
              "      <td>10</td>\n",
              "    </tr>\n",
              "    <tr>\n",
              "      <th>54</th>\n",
              "      <td>google</td>\n",
              "      <td>1522</td>\n",
              "      <td>1527</td>\n",
              "      <td>0.058287</td>\n",
              "      <td>11</td>\n",
              "    </tr>\n",
              "    <tr>\n",
              "      <th>55</th>\n",
              "      <td>service</td>\n",
              "      <td>1543</td>\n",
              "      <td>1549</td>\n",
              "      <td>0.193717</td>\n",
              "      <td>11</td>\n",
              "    </tr>\n",
              "    <tr>\n",
              "      <th>57</th>\n",
              "      <td>kaggle</td>\n",
              "      <td>1675</td>\n",
              "      <td>1680</td>\n",
              "      <td>0.053675</td>\n",
              "      <td>12</td>\n",
              "    </tr>\n",
              "    <tr>\n",
              "      <th>56</th>\n",
              "      <td>community</td>\n",
              "      <td>1646</td>\n",
              "      <td>1654</td>\n",
              "      <td>0.263910</td>\n",
              "      <td>12</td>\n",
              "    </tr>\n",
              "    <tr>\n",
              "      <th>58</th>\n",
              "      <td>competition</td>\n",
              "      <td>1731</td>\n",
              "      <td>1741</td>\n",
              "      <td>0.271576</td>\n",
              "      <td>12</td>\n",
              "    </tr>\n",
              "    <tr>\n",
              "      <th>59</th>\n",
              "      <td>kaggle</td>\n",
              "      <td>1766</td>\n",
              "      <td>1771</td>\n",
              "      <td>0.053675</td>\n",
              "      <td>13</td>\n",
              "    </tr>\n",
              "    <tr>\n",
              "      <th>60</th>\n",
              "      <td>data</td>\n",
              "      <td>1826</td>\n",
              "      <td>1829</td>\n",
              "      <td>0.107008</td>\n",
              "      <td>13</td>\n",
              "    </tr>\n",
              "    <tr>\n",
              "      <th>61</th>\n",
              "      <td>platform</td>\n",
              "      <td>1878</td>\n",
              "      <td>1885</td>\n",
              "      <td>0.187174</td>\n",
              "      <td>13</td>\n",
              "    </tr>\n",
              "    <tr>\n",
              "      <th>62</th>\n",
              "      <td>kaggle</td>\n",
              "      <td>1977</td>\n",
              "      <td>1982</td>\n",
              "      <td>0.053675</td>\n",
              "      <td>14</td>\n",
              "    </tr>\n",
              "  </tbody>\n",
              "</table>\n",
              "</div>\n",
              "    <div class=\"colab-df-buttons\">\n",
              "\n",
              "  <div class=\"colab-df-container\">\n",
              "    <button class=\"colab-df-convert\" onclick=\"convertToInteractive('df-3b7f2147-bbed-45ec-bd05-e15f778c693d')\"\n",
              "            title=\"Convert this dataframe to an interactive table.\"\n",
              "            style=\"display:none;\">\n",
              "\n",
              "  <svg xmlns=\"http://www.w3.org/2000/svg\" height=\"24px\" viewBox=\"0 -960 960 960\">\n",
              "    <path d=\"M120-120v-720h720v720H120Zm60-500h600v-160H180v160Zm220 220h160v-160H400v160Zm0 220h160v-160H400v160ZM180-400h160v-160H180v160Zm440 0h160v-160H620v160ZM180-180h160v-160H180v160Zm440 0h160v-160H620v160Z\"/>\n",
              "  </svg>\n",
              "    </button>\n",
              "\n",
              "  <style>\n",
              "    .colab-df-container {\n",
              "      display:flex;\n",
              "      gap: 12px;\n",
              "    }\n",
              "\n",
              "    .colab-df-convert {\n",
              "      background-color: #E8F0FE;\n",
              "      border: none;\n",
              "      border-radius: 50%;\n",
              "      cursor: pointer;\n",
              "      display: none;\n",
              "      fill: #1967D2;\n",
              "      height: 32px;\n",
              "      padding: 0 0 0 0;\n",
              "      width: 32px;\n",
              "    }\n",
              "\n",
              "    .colab-df-convert:hover {\n",
              "      background-color: #E2EBFA;\n",
              "      box-shadow: 0px 1px 2px rgba(60, 64, 67, 0.3), 0px 1px 3px 1px rgba(60, 64, 67, 0.15);\n",
              "      fill: #174EA6;\n",
              "    }\n",
              "\n",
              "    .colab-df-buttons div {\n",
              "      margin-bottom: 4px;\n",
              "    }\n",
              "\n",
              "    [theme=dark] .colab-df-convert {\n",
              "      background-color: #3B4455;\n",
              "      fill: #D2E3FC;\n",
              "    }\n",
              "\n",
              "    [theme=dark] .colab-df-convert:hover {\n",
              "      background-color: #434B5C;\n",
              "      box-shadow: 0px 1px 3px 1px rgba(0, 0, 0, 0.15);\n",
              "      filter: drop-shadow(0px 1px 2px rgba(0, 0, 0, 0.3));\n",
              "      fill: #FFFFFF;\n",
              "    }\n",
              "  </style>\n",
              "\n",
              "    <script>\n",
              "      const buttonEl =\n",
              "        document.querySelector('#df-3b7f2147-bbed-45ec-bd05-e15f778c693d button.colab-df-convert');\n",
              "      buttonEl.style.display =\n",
              "        google.colab.kernel.accessAllowed ? 'block' : 'none';\n",
              "\n",
              "      async function convertToInteractive(key) {\n",
              "        const element = document.querySelector('#df-3b7f2147-bbed-45ec-bd05-e15f778c693d');\n",
              "        const dataTable =\n",
              "          await google.colab.kernel.invokeFunction('convertToInteractive',\n",
              "                                                    [key], {});\n",
              "        if (!dataTable) return;\n",
              "\n",
              "        const docLinkHtml = 'Like what you see? Visit the ' +\n",
              "          '<a target=\"_blank\" href=https://colab.research.google.com/notebooks/data_table.ipynb>data table notebook</a>'\n",
              "          + ' to learn more about interactive tables.';\n",
              "        element.innerHTML = '';\n",
              "        dataTable['output_type'] = 'display_data';\n",
              "        await google.colab.output.renderOutput(dataTable, element);\n",
              "        const docLink = document.createElement('div');\n",
              "        docLink.innerHTML = docLinkHtml;\n",
              "        element.appendChild(docLink);\n",
              "      }\n",
              "    </script>\n",
              "  </div>\n",
              "\n",
              "\n",
              "<div id=\"df-87771d74-4aff-49fb-8130-4f740f2908d6\">\n",
              "  <button class=\"colab-df-quickchart\" onclick=\"quickchart('df-87771d74-4aff-49fb-8130-4f740f2908d6')\"\n",
              "            title=\"Suggest charts\"\n",
              "            style=\"display:none;\">\n",
              "\n",
              "<svg xmlns=\"http://www.w3.org/2000/svg\" height=\"24px\"viewBox=\"0 0 24 24\"\n",
              "     width=\"24px\">\n",
              "    <g>\n",
              "        <path d=\"M19 3H5c-1.1 0-2 .9-2 2v14c0 1.1.9 2 2 2h14c1.1 0 2-.9 2-2V5c0-1.1-.9-2-2-2zM9 17H7v-7h2v7zm4 0h-2V7h2v10zm4 0h-2v-4h2v4z\"/>\n",
              "    </g>\n",
              "</svg>\n",
              "  </button>\n",
              "\n",
              "<style>\n",
              "  .colab-df-quickchart {\n",
              "      --bg-color: #E8F0FE;\n",
              "      --fill-color: #1967D2;\n",
              "      --hover-bg-color: #E2EBFA;\n",
              "      --hover-fill-color: #174EA6;\n",
              "      --disabled-fill-color: #AAA;\n",
              "      --disabled-bg-color: #DDD;\n",
              "  }\n",
              "\n",
              "  [theme=dark] .colab-df-quickchart {\n",
              "      --bg-color: #3B4455;\n",
              "      --fill-color: #D2E3FC;\n",
              "      --hover-bg-color: #434B5C;\n",
              "      --hover-fill-color: #FFFFFF;\n",
              "      --disabled-bg-color: #3B4455;\n",
              "      --disabled-fill-color: #666;\n",
              "  }\n",
              "\n",
              "  .colab-df-quickchart {\n",
              "    background-color: var(--bg-color);\n",
              "    border: none;\n",
              "    border-radius: 50%;\n",
              "    cursor: pointer;\n",
              "    display: none;\n",
              "    fill: var(--fill-color);\n",
              "    height: 32px;\n",
              "    padding: 0;\n",
              "    width: 32px;\n",
              "  }\n",
              "\n",
              "  .colab-df-quickchart:hover {\n",
              "    background-color: var(--hover-bg-color);\n",
              "    box-shadow: 0 1px 2px rgba(60, 64, 67, 0.3), 0 1px 3px 1px rgba(60, 64, 67, 0.15);\n",
              "    fill: var(--button-hover-fill-color);\n",
              "  }\n",
              "\n",
              "  .colab-df-quickchart-complete:disabled,\n",
              "  .colab-df-quickchart-complete:disabled:hover {\n",
              "    background-color: var(--disabled-bg-color);\n",
              "    fill: var(--disabled-fill-color);\n",
              "    box-shadow: none;\n",
              "  }\n",
              "\n",
              "  .colab-df-spinner {\n",
              "    border: 2px solid var(--fill-color);\n",
              "    border-color: transparent;\n",
              "    border-bottom-color: var(--fill-color);\n",
              "    animation:\n",
              "      spin 1s steps(1) infinite;\n",
              "  }\n",
              "\n",
              "  @keyframes spin {\n",
              "    0% {\n",
              "      border-color: transparent;\n",
              "      border-bottom-color: var(--fill-color);\n",
              "      border-left-color: var(--fill-color);\n",
              "    }\n",
              "    20% {\n",
              "      border-color: transparent;\n",
              "      border-left-color: var(--fill-color);\n",
              "      border-top-color: var(--fill-color);\n",
              "    }\n",
              "    30% {\n",
              "      border-color: transparent;\n",
              "      border-left-color: var(--fill-color);\n",
              "      border-top-color: var(--fill-color);\n",
              "      border-right-color: var(--fill-color);\n",
              "    }\n",
              "    40% {\n",
              "      border-color: transparent;\n",
              "      border-right-color: var(--fill-color);\n",
              "      border-top-color: var(--fill-color);\n",
              "    }\n",
              "    60% {\n",
              "      border-color: transparent;\n",
              "      border-right-color: var(--fill-color);\n",
              "    }\n",
              "    80% {\n",
              "      border-color: transparent;\n",
              "      border-right-color: var(--fill-color);\n",
              "      border-bottom-color: var(--fill-color);\n",
              "    }\n",
              "    90% {\n",
              "      border-color: transparent;\n",
              "      border-bottom-color: var(--fill-color);\n",
              "    }\n",
              "  }\n",
              "</style>\n",
              "\n",
              "  <script>\n",
              "    async function quickchart(key) {\n",
              "      const quickchartButtonEl =\n",
              "        document.querySelector('#' + key + ' button');\n",
              "      quickchartButtonEl.disabled = true;  // To prevent multiple clicks.\n",
              "      quickchartButtonEl.classList.add('colab-df-spinner');\n",
              "      try {\n",
              "        const charts = await google.colab.kernel.invokeFunction(\n",
              "            'suggestCharts', [key], {});\n",
              "      } catch (error) {\n",
              "        console.error('Error during call to suggestCharts:', error);\n",
              "      }\n",
              "      quickchartButtonEl.classList.remove('colab-df-spinner');\n",
              "      quickchartButtonEl.classList.add('colab-df-quickchart-complete');\n",
              "    }\n",
              "    (() => {\n",
              "      let quickchartButtonEl =\n",
              "        document.querySelector('#df-87771d74-4aff-49fb-8130-4f740f2908d6 button');\n",
              "      quickchartButtonEl.style.display =\n",
              "        google.colab.kernel.accessAllowed ? 'block' : 'none';\n",
              "    })();\n",
              "  </script>\n",
              "</div>\n",
              "\n",
              "    </div>\n",
              "  </div>\n"
            ],
            "application/vnd.google.colaboratory.intrinsic+json": {
              "type": "dataframe",
              "summary": "{\n  \"name\": \"keys_df\",\n  \"rows\": 30,\n  \"fields\": [\n    {\n      \"column\": \"keywords\",\n      \"properties\": {\n        \"dtype\": \"category\",\n        \"samples\": [\n          \"learning\",\n          \"competition\",\n          \"kaggle\"\n        ],\n        \"num_unique_values\": 14,\n        \"semantic_type\": \"\",\n        \"description\": \"\"\n      }\n    },\n    {\n      \"column\": \"begin\",\n      \"properties\": {\n        \"dtype\": \"number\",\n        \"std\": 798,\n        \"min\": 3,\n        \"max\": 1977,\n        \"samples\": [\n          105,\n          1826,\n          125\n        ],\n        \"num_unique_values\": 28,\n        \"semantic_type\": \"\",\n        \"description\": \"\"\n      }\n    },\n    {\n      \"column\": \"end\",\n      \"properties\": {\n        \"dtype\": \"number\",\n        \"std\": 798,\n        \"min\": 8,\n        \"max\": 1982,\n        \"samples\": [\n          112,\n          1829,\n          128\n        ],\n        \"num_unique_values\": 28,\n        \"semantic_type\": \"\",\n        \"description\": \"\"\n      }\n    },\n    {\n      \"column\": \"score\",\n      \"properties\": {\n        \"dtype\": \"number\",\n        \"std\": 0.10727719768327743,\n        \"min\": 0.05367515528428291,\n        \"max\": 0.3932399050524057,\n        \"samples\": [\n          0.25603392028536504,\n          0.2715759858165907,\n          0.05367515528428291\n        ],\n        \"num_unique_values\": 14,\n        \"semantic_type\": \"\",\n        \"description\": \"\"\n      }\n    },\n    {\n      \"column\": \"sentence\",\n      \"properties\": {\n        \"dtype\": \"category\",\n        \"samples\": [\n          \"0\",\n          \"1\",\n          \"13\"\n        ],\n        \"num_unique_values\": 7,\n        \"semantic_type\": \"\",\n        \"description\": \"\"\n      }\n    }\n  ]\n}"
            }
          },
          "metadata": {},
          "execution_count": 9
        }
      ]
    },
    {
      "cell_type": "code",
      "execution_count": 10,
      "metadata": {
        "colab": {
          "base_uri": "https://localhost:8080/"
        },
        "id": "ldRBUp-w1Z8U",
        "outputId": "a48f7b51-f063-474e-9e01-67f90713f6b6"
      },
      "outputs": [
        {
          "output_type": "stream",
          "name": "stdout",
          "text": [
            "+------------------------------------------------------------+\n",
            "|                                                        text|\n",
            "+------------------------------------------------------------+\n",
            "|The human KCNJ9 (Kir 3.3, GIRK3) is a member of the G-pro...|\n",
            "|BACKGROUND: At present, it is one of the most important i...|\n",
            "|OBJECTIVE: To investigate the relationship between preope...|\n",
            "|Combined EEG/fMRI recording has been used to localize the...|\n",
            "|Kohlschutter syndrome is a rare neurodegenerative disorde...|\n",
            "|Statistical analysis of neuroimages is commonly approache...|\n",
            "|The synthetic DOX-LNA conjugate was characterized by prot...|\n",
            "|Our objective was to compare three different methods of b...|\n",
            "|We conducted a phase II study to assess the efficacy and ...|\n",
            "|\"\"\"Monomeric sarcosine oxidase (MSOX) is a flavoenzyme th...|\n",
            "|We presented the tachinid fly Exorista japonica with movi...|\n",
            "|The literature dealing with the water conducting properti...|\n",
            "|A novel approach to synthesize chitosan-O-isopropyl-5'-O-...|\n",
            "|An HPLC-ESI-MS-MS method has been developed for the quant...|\n",
            "|The localizing and lateralizing values of eye and head ic...|\n",
            "|OBJECTIVE: To evaluate the effectiveness and acceptabilit...|\n",
            "|For the construction of new combinatorial libraries, a le...|\n",
            "|We report the results of a screen for genetic association...|\n",
            "|Intraparenchymal pericatheter cyst is rarely reported. Ob...|\n",
            "|It is known that patients with Klinefelter's syndrome are...|\n",
            "+------------------------------------------------------------+\n",
            "only showing top 20 rows\n",
            "\n"
          ]
        }
      ],
      "source": [
        "! wget -q https://s3.amazonaws.com/auxdata.johnsnowlabs.com/public/resources/en/pubmed/pubmed_sample_text_small.csv\n",
        "\n",
        "df = spark.read\\\n",
        "                .option(\"header\", \"true\")\\\n",
        "                .csv(\"pubmed_sample_text_small.csv\")\\\n",
        "\n",
        "df.show(truncate=60)"
      ]
    },
    {
      "cell_type": "code",
      "source": [
        "result = yake_pipeline.fit(df).transform(df)"
      ],
      "metadata": {
        "id": "JNHkNZXJ0xm5"
      },
      "execution_count": 11,
      "outputs": []
    },
    {
      "cell_type": "code",
      "source": [
        "result = result.withColumn('unique_keywords', F.array_distinct(\"keywords.result\"))"
      ],
      "metadata": {
        "id": "RA7HZkAb0xqJ"
      },
      "execution_count": 12,
      "outputs": []
    },
    {
      "cell_type": "code",
      "source": [
        "def highlight(text, keywords):\n",
        "    for k in keywords:\n",
        "        text = (re.sub(r'(\\b%s\\b)'%k, r'<span style=\"background-color: yellow;\">\\1</span>', text, flags=re.IGNORECASE))\n",
        "    return text"
      ],
      "metadata": {
        "id": "cQPuGP1A7Exp"
      },
      "execution_count": 13,
      "outputs": []
    },
    {
      "cell_type": "code",
      "source": [
        "highlight_udf = udf(highlight, StringType())"
      ],
      "metadata": {
        "id": "9qTJUuJk7E0Q"
      },
      "execution_count": 14,
      "outputs": []
    },
    {
      "cell_type": "code",
      "source": [
        "result = result.withColumn(\"highlighted_keywords\",highlight_udf('text','unique_keywords'))"
      ],
      "metadata": {
        "id": "0ieSTn6G7RZg"
      },
      "execution_count": 15,
      "outputs": []
    },
    {
      "cell_type": "code",
      "source": [
        "for r in result.select(\"highlighted_keywords\").limit(10).collect():\n",
        "    display(HTML(r.highlighted_keywords))\n",
        "    print(\"\\n\\n\")"
      ],
      "metadata": {
        "colab": {
          "base_uri": "https://localhost:8080/",
          "height": 1000
        },
        "id": "y5ZKznRI7RcI",
        "outputId": "f7717b8f-9763-4e3b-e6eb-834dbbd97c1b"
      },
      "execution_count": 16,
      "outputs": [
        {
          "output_type": "display_data",
          "data": {
            "text/plain": [
              "<IPython.core.display.HTML object>"
            ],
            "text/html": [
              "The human KCNJ9 (<span style=\"background-color: yellow;\">Kir</span> 3.3, GIRK3) is a member of the G-protein-activated <span style=\"background-color: yellow;\">inwardly</span> rectifying potassium (<span style=\"background-color: yellow;\">GIRK</span>) channel family. Here we describe the genomicorganization of the KCNJ9 <span style=\"background-color: yellow;\">locus</span> on chromosome 1q21-23 as a candidate <span style=\"background-color: yellow;\">gene</span> forType <span style=\"background-color: yellow;\">II</span> <span style=\"background-color: yellow;\">diabetes</span> mellitus in the <span style=\"background-color: yellow;\">Pima</span> <span style=\"background-color: yellow;\">Indian</span> population. The <span style=\"background-color: yellow;\">gene</span> spansapproximately 7.6 <span style=\"background-color: yellow;\">kb</span> and contains <span style=\"background-color: yellow;\">one</span> noncoding and <span style=\"background-color: yellow;\">two</span> coding exons separated byapproximately 2.2 and approximately 2.6 <span style=\"background-color: yellow;\">kb</span> introns, respectively. We identified14 single nucleotide polymorphisms (SNPs), <span style=\"background-color: yellow;\">including</span> <span style=\"background-color: yellow;\">one</span> that predicts aVal366Ala substitution, and an 8 base-pair (bp) insertion/deletion. Ourexpression studies revealed the presence of the transcript in various humantissues <span style=\"background-color: yellow;\">including</span> pancreas, and <span style=\"background-color: yellow;\">two</span> major insulin-responsive tissues: fat andskeletal muscle. The characterization of the KCNJ9 <span style=\"background-color: yellow;\">gene</span> should facilitate furtherstudies on the function of the KCNJ9 protein and allow evaluation of thepotential role of the <span style=\"background-color: yellow;\">locus</span> in <span style=\"background-color: yellow;\">Type</span> <span style=\"background-color: yellow;\">II</span> <span style=\"background-color: yellow;\">diabetes</span>."
            ]
          },
          "metadata": {}
        },
        {
          "output_type": "stream",
          "name": "stdout",
          "text": [
            "\n",
            "\n",
            "\n"
          ]
        },
        {
          "output_type": "display_data",
          "data": {
            "text/plain": [
              "<IPython.core.display.HTML object>"
            ],
            "text/html": [
              "BACKGROUND: At present, it is <span style=\"background-color: yellow;\">one</span> of the most important issues for the <span style=\"background-color: yellow;\">treatment</span> of <span style=\"background-color: yellow;\">breast</span> cancer to develop the <span style=\"background-color: yellow;\">standard</span> <span style=\"background-color: yellow;\">therapy</span> for <span style=\"background-color: yellow;\">patients</span> <span style=\"background-color: yellow;\">previously</span> <span style=\"background-color: yellow;\">treated</span> with <span style=\"background-color: yellow;\">anthracyclines</span> and <span style=\"background-color: yellow;\">taxanes</span>. With the objective of determining the usefulnessof <span style=\"background-color: yellow;\">vinorelbine</span> <span style=\"background-color: yellow;\">monotherapy</span> in <span style=\"background-color: yellow;\">patients</span> with <span style=\"background-color: yellow;\">advanced</span> or <span style=\"background-color: yellow;\">recurrent</span> <span style=\"background-color: yellow;\">breast</span> cancerafter <span style=\"background-color: yellow;\">standard</span> <span style=\"background-color: yellow;\">therapy</span>, we evaluated the efficacy and safety of <span style=\"background-color: yellow;\">vinorelbine</span> inpatients <span style=\"background-color: yellow;\">previously</span> <span style=\"background-color: yellow;\">treated</span> with <span style=\"background-color: yellow;\">anthracyclines</span> and <span style=\"background-color: yellow;\">taxanes</span>. METHODS: Vinorelbinewas <span style=\"background-color: yellow;\">administered</span> at a dose level of 25 mg/m(2) intravenously on days 1 and 8 of a3 week cycle. <span style=\"background-color: yellow;\">Patients</span> were given three or more <span style=\"background-color: yellow;\">cycles</span> in the absence of tumorprogression. A maximum of <span style=\"background-color: yellow;\">nine</span> <span style=\"background-color: yellow;\">cycles</span> were <span style=\"background-color: yellow;\">administered</span>. RESULTS: The responserate in 50 evaluable <span style=\"background-color: yellow;\">patients</span> was 20.0% (10 out of 50; 95% confidence interval,10.0-33.7%). Responders plus those who had minor response (<span style=\"background-color: yellow;\">MR</span>) or no change (NC) accounted for 58.0% [10 partial responses (PRs) + <span style=\"background-color: yellow;\">one</span> <span style=\"background-color: yellow;\">MR</span> + 18 NCs out of 50]. TheKaplan-Meier estimate (50% point) of time to progression (TTP) was 115.0 days.The response rate in the visceral organs was 17.3% (<span style=\"background-color: yellow;\">nine</span> PRs out of 52). Themajor toxicity was myelosuppression, which was reversible and did not requirediscontinuation of <span style=\"background-color: yellow;\">treatment</span>. CONCLUSION: The results of this study show thatvinorelbine <span style=\"background-color: yellow;\">monotherapy</span> is useful in <span style=\"background-color: yellow;\">patients</span> with <span style=\"background-color: yellow;\">advanced</span> or <span style=\"background-color: yellow;\">recurrent</span> breastcancer <span style=\"background-color: yellow;\">previously</span> exposed to both <span style=\"background-color: yellow;\">anthracyclines</span> and <span style=\"background-color: yellow;\">taxanes</span>."
            ]
          },
          "metadata": {}
        },
        {
          "output_type": "stream",
          "name": "stdout",
          "text": [
            "\n",
            "\n",
            "\n"
          ]
        },
        {
          "output_type": "display_data",
          "data": {
            "text/plain": [
              "<IPython.core.display.HTML object>"
            ],
            "text/html": [
              "OBJECTIVE: To investigate the relationship between <span style=\"background-color: yellow;\">preoperative</span> atrialfibrillation and early and <span style=\"background-color: yellow;\">late</span> clinical <span style=\"background-color: yellow;\">outcomes</span> following <span style=\"background-color: yellow;\">cardiac</span> <span style=\"background-color: yellow;\">surgery</span>.METHODS: A retrospective cohort including all consecutive coronary artery bypass graft and/or <span style=\"background-color: yellow;\">valve</span> <span style=\"background-color: yellow;\">surgery</span> <span style=\"background-color: yellow;\">patients</span> between 1995 and 2005 was identified (<span style=\"background-color: yellow;\">n</span> =9796). No patient had a concomitant <span style=\"background-color: yellow;\">surgical</span> <span style=\"background-color: yellow;\">AF</span> ablation. The <span style=\"background-color: yellow;\">association</span> betweenpreoperative <span style=\"background-color: yellow;\">atrial</span> <span style=\"background-color: yellow;\">fibrillation</span> and in-hospital <span style=\"background-color: yellow;\">outcomes</span> was examined. We alsodetermined <span style=\"background-color: yellow;\">late</span> death and cardiovascular-related re-hospitalization by linking toadministrative health databases. Median follow-up was 2.9 years (maximum 11years). RESULTS: The prevalence of <span style=\"background-color: yellow;\">preoperative</span> <span style=\"background-color: yellow;\">atrial</span> <span style=\"background-color: yellow;\">fibrillation</span> was 11.3% (<span style=\"background-color: yellow;\">n</span> = 1105), ranging from 7.2% in isolated <span style=\"background-color: yellow;\">CABG</span> to 30% in <span style=\"background-color: yellow;\">valve</span> <span style=\"background-color: yellow;\">surgery</span>. In-hospital <span style=\"background-color: yellow;\">mortality</span>, stroke, and renal failure were more common in <span style=\"background-color: yellow;\">atrial</span> fibrillationpatients (all <span style=\"background-color: yellow;\">p</span> < 0.0001), although the <span style=\"background-color: yellow;\">association</span> between <span style=\"background-color: yellow;\">atrial</span> fibrillationand <span style=\"background-color: yellow;\">mortality</span> was not statistically significant in multivariate logisticregression. Longitudinal analyses showed that <span style=\"background-color: yellow;\">preoperative</span> <span style=\"background-color: yellow;\">atrial</span> fibrillationwas <span style=\"background-color: yellow;\">associated</span> with decreased event-free survival (adjusted hazard ratio 1.55,95% confidence interval 1.42-1.70, <span style=\"background-color: yellow;\">p</span> < 0.0001). CONCLUSIONS: <span style=\"background-color: yellow;\">Preoperative</span> <span style=\"background-color: yellow;\">atrial</span> <span style=\"background-color: yellow;\">fibrillation</span> is <span style=\"background-color: yellow;\">associated</span> with increased <span style=\"background-color: yellow;\">late</span> <span style=\"background-color: yellow;\">mortality</span> and recurrentcardiovascular events post-<span style=\"background-color: yellow;\">cardiac</span> <span style=\"background-color: yellow;\">surgery</span>. Effective management strategies foratrial <span style=\"background-color: yellow;\">fibrillation</span> need to be explored and may provide an opportunity to improvethe long-term <span style=\"background-color: yellow;\">outcomes</span> of <span style=\"background-color: yellow;\">cardiac</span> <span style=\"background-color: yellow;\">surgical</span> <span style=\"background-color: yellow;\">patients</span>."
            ]
          },
          "metadata": {}
        },
        {
          "output_type": "stream",
          "name": "stdout",
          "text": [
            "\n",
            "\n",
            "\n"
          ]
        },
        {
          "output_type": "display_data",
          "data": {
            "text/plain": [
              "<IPython.core.display.HTML object>"
            ],
            "text/html": [
              "Combined <span style=\"background-color: yellow;\">EEG</span>/<span style=\"background-color: yellow;\">fMRI</span> <span style=\"background-color: yellow;\">recording</span> has been used to localize the generators of EEGevents and to identify subject state in cognitive <span style=\"background-color: yellow;\">studies</span> and is of increasinginterest. However, the <span style=\"background-color: yellow;\">large</span> <span style=\"background-color: yellow;\">EEG</span> artifacts induced during <span style=\"background-color: yellow;\">fMRI</span> have precludedsimultaneous <span style=\"background-color: yellow;\">EEG</span> and <span style=\"background-color: yellow;\">fMRI</span> <span style=\"background-color: yellow;\">recording</span>, restricting study design. Removing thisartifact is difficult, as it normally exceeds <span style=\"background-color: yellow;\">EEG</span> significantly and containscomponents in the <span style=\"background-color: yellow;\">EEG</span> frequency <span style=\"background-color: yellow;\">range</span>. We have developed a <span style=\"background-color: yellow;\">recording</span> <span style=\"background-color: yellow;\">system</span> andan <span style=\"background-color: yellow;\">artifact</span> reduction <span style=\"background-color: yellow;\">method</span> that <span style=\"background-color: yellow;\">reduce</span> this <span style=\"background-color: yellow;\">artifact</span> effectively. The recordingsystem has <span style=\"background-color: yellow;\">large</span> dynamic <span style=\"background-color: yellow;\">range</span> to capture both low-amplitude <span style=\"background-color: yellow;\">EEG</span> and largeimaging <span style=\"background-color: yellow;\">artifact</span> <span style=\"background-color: yellow;\">without</span> <span style=\"background-color: yellow;\">distortion</span> (resolution 2 <span style=\"background-color: yellow;\">microV</span>, <span style=\"background-color: yellow;\">range</span> 33.3 mV), 5-kHzsampling, and low-pass filtering prior to the main gain stage. Imaging artifactis reduced by subtracting an averaged <span style=\"background-color: yellow;\">artifact</span> waveform, followed by adaptivenoise cancellation to <span style=\"background-color: yellow;\">reduce</span> any residual <span style=\"background-color: yellow;\">artifact</span>. This <span style=\"background-color: yellow;\">method</span> was validated in <span style=\"background-color: yellow;\">recordings</span> from five subjects <span style=\"background-color: yellow;\">using</span> periodic and continuous <span style=\"background-color: yellow;\">fMRI</span> sequences.Spectral analysis revealed differences of only 10 to 18% between <span style=\"background-color: yellow;\">EEG</span> recorded in the scanner <span style=\"background-color: yellow;\">without</span> <span style=\"background-color: yellow;\">fMRI</span> and the corrected <span style=\"background-color: yellow;\">EEG</span>. Ninety-nine percent of spikewaves (<span style=\"background-color: yellow;\">median</span> 74 <span style=\"background-color: yellow;\">microV</span>) added to the <span style=\"background-color: yellow;\">recordings</span> were identified in the correctedEEG compared to 12% in the uncorrected <span style=\"background-color: yellow;\">EEG</span>. The <span style=\"background-color: yellow;\">median</span> noise after <span style=\"background-color: yellow;\">artifactreduction</span> was 8 <span style=\"background-color: yellow;\">microV</span>. All these measures indicate that most of the <span style=\"background-color: yellow;\">artifact</span> wasremoved, with minimal <span style=\"background-color: yellow;\">EEG</span> <span style=\"background-color: yellow;\">distortion</span>. <span style=\"background-color: yellow;\">Using</span> this <span style=\"background-color: yellow;\">recording</span> <span style=\"background-color: yellow;\">system</span> and <span style=\"background-color: yellow;\">artifactreduction</span> <span style=\"background-color: yellow;\">method</span>, we have demonstrated that simultaneous <span style=\"background-color: yellow;\">EEG</span>/<span style=\"background-color: yellow;\">fMRI</span> <span style=\"background-color: yellow;\">studies</span> are forthe first time possible, extending the scope of <span style=\"background-color: yellow;\">EEG</span>/<span style=\"background-color: yellow;\">fMRI</span> <span style=\"background-color: yellow;\">studies</span> considerably."
            ]
          },
          "metadata": {}
        },
        {
          "output_type": "stream",
          "name": "stdout",
          "text": [
            "\n",
            "\n",
            "\n"
          ]
        },
        {
          "output_type": "display_data",
          "data": {
            "text/plain": [
              "<IPython.core.display.HTML object>"
            ],
            "text/html": [
              "<span style=\"background-color: yellow;\">Kohlschutter</span> syndrome is a <span style=\"background-color: yellow;\">rare</span> <span style=\"background-color: yellow;\">neurodegenerative</span> <span style=\"background-color: yellow;\">disorder</span> <span style=\"background-color: yellow;\">presenting</span> <span style=\"background-color: yellow;\">withintractable</span> <span style=\"background-color: yellow;\">seizures</span>, <span style=\"background-color: yellow;\">developmental</span> <span style=\"background-color: yellow;\">regression</span> and <span style=\"background-color: yellow;\">characteristic</span> <span style=\"background-color: yellow;\">hypoplasticdental</span> <span style=\"background-color: yellow;\">enamel</span> <span style=\"background-color: yellow;\">indicative</span> of <span style=\"background-color: yellow;\">amelogenesis</span> <span style=\"background-color: yellow;\">imperfecta</span>. We report a <span style=\"background-color: yellow;\">new</span> <span style=\"background-color: yellow;\">family</span> with <span style=\"background-color: yellow;\">two</span> <span style=\"background-color: yellow;\">affected</span> <span style=\"background-color: yellow;\">siblings</span>."
            ]
          },
          "metadata": {}
        },
        {
          "output_type": "stream",
          "name": "stdout",
          "text": [
            "\n",
            "\n",
            "\n"
          ]
        },
        {
          "output_type": "display_data",
          "data": {
            "text/plain": [
              "<IPython.core.display.HTML object>"
            ],
            "text/html": [
              "<span style=\"background-color: yellow;\">Statistical</span> <span style=\"background-color: yellow;\">analysis</span> of neuroimages is commonly <span style=\"background-color: yellow;\">approached</span> with <span style=\"background-color: yellow;\">intergroupcomparisons</span> made by <span style=\"background-color: yellow;\">repeated</span> <span style=\"background-color: yellow;\">application</span> of univariate or multivariate testsperformed on the <span style=\"background-color: yellow;\">set</span> of the regions of <span style=\"background-color: yellow;\">interest</span> sampled in the acquired images.The use of such <span style=\"background-color: yellow;\">large</span> <span style=\"background-color: yellow;\">numbers</span> of <span style=\"background-color: yellow;\">tests</span> <span style=\"background-color: yellow;\">requires</span> <span style=\"background-color: yellow;\">application</span> of techniques forcorrection for <span style=\"background-color: yellow;\">multiple</span> comparisons. Standard <span style=\"background-color: yellow;\">multiple</span> comparison adjustments(such as the <span style=\"background-color: yellow;\">Bonferroni</span>) may be overly conservative when <span style=\"background-color: yellow;\">data</span> are correlatedand/or not normally distributed. Resampling-based step-down <span style=\"background-color: yellow;\">procedures</span> thatsuccessfully account for unknown correlation structures in the <span style=\"background-color: yellow;\">data</span> have recentlybeen introduced. We <span style=\"background-color: yellow;\">combined</span> resampling step-down <span style=\"background-color: yellow;\">procedures</span> with the MinimumVariance <span style=\"background-color: yellow;\">Adaptive</span> method, which allows selection of an optimal test statisticfrom a predefined class of statistics for the <span style=\"background-color: yellow;\">data</span> under <span style=\"background-color: yellow;\">analysis</span>. As shown insimulation studies and <span style=\"background-color: yellow;\">analysis</span> of autoradiographic <span style=\"background-color: yellow;\">data</span>, the <span style=\"background-color: yellow;\">combined</span> technique exhibits a significant increase in <span style=\"background-color: yellow;\">statistical</span> power, even for small sample sizes(n = 8, 9, 10)."
            ]
          },
          "metadata": {}
        },
        {
          "output_type": "stream",
          "name": "stdout",
          "text": [
            "\n",
            "\n",
            "\n"
          ]
        },
        {
          "output_type": "display_data",
          "data": {
            "text/plain": [
              "<IPython.core.display.HTML object>"
            ],
            "text/html": [
              "The <span style=\"background-color: yellow;\">synthetic</span> <span style=\"background-color: yellow;\">DOX</span>-LNA <span style=\"background-color: yellow;\">conjugate</span> was <span style=\"background-color: yellow;\">characterized</span> by <span style=\"background-color: yellow;\">proton</span> <span style=\"background-color: yellow;\">nuclear</span> <span style=\"background-color: yellow;\">magneticresonance</span> and <span style=\"background-color: yellow;\">mass</span> <span style=\"background-color: yellow;\">spectrometry</span>. In addition, the <span style=\"background-color: yellow;\">purity</span> of the <span style=\"background-color: yellow;\">conjugate</span> <span style=\"background-color: yellow;\">wasanalyzed</span> by reverse-phase high-performance <span style=\"background-color: yellow;\">liquid</span> <span style=\"background-color: yellow;\">chromatography</span>. The cellularuptake, <span style=\"background-color: yellow;\">intracellular</span> distribution, and <span style=\"background-color: yellow;\">cytotoxicity</span> of <span style=\"background-color: yellow;\">DOX</span>-LNA were assessed by <span style=\"background-color: yellow;\">flow</span> cytometry, fluorescence <span style=\"background-color: yellow;\">microscopy</span>, <span style=\"background-color: yellow;\">liquid</span> <span style=\"background-color: yellow;\">chromatography</span>/electrosprayionization tandem <span style=\"background-color: yellow;\">mass</span> <span style=\"background-color: yellow;\">spectrometry</span>, and the tetrazolium dye assay <span style=\"background-color: yellow;\">using</span> the invitro cell <span style=\"background-color: yellow;\">models</span>. The <span style=\"background-color: yellow;\">DOX</span>-LNA <span style=\"background-color: yellow;\">conjugate</span> showed substantially highertumor-specific <span style=\"background-color: yellow;\">cytotoxicity</span> compared with <span style=\"background-color: yellow;\">DOX</span>."
            ]
          },
          "metadata": {}
        },
        {
          "output_type": "stream",
          "name": "stdout",
          "text": [
            "\n",
            "\n",
            "\n"
          ]
        },
        {
          "output_type": "display_data",
          "data": {
            "text/plain": [
              "<IPython.core.display.HTML object>"
            ],
            "text/html": [
              "Our objective was to compare <span style=\"background-color: yellow;\">three</span> different <span style=\"background-color: yellow;\">methods</span> of <span style=\"background-color: yellow;\">blood</span> pressuremeasurement through the results of a controlled study aimed at comparing theantihypertensive effects of trandolapril and losartan. Two hundred andtwenty-nine hypertensive <span style=\"background-color: yellow;\">patients</span> were randomized in a double-blind parallelgroup study. After a 3-week placebo period, they received either 2 mgtrandolapril or 50 mg losartan once daily for 6 weeks. At the end of both placeboand active <span style=\"background-color: yellow;\">treatment</span> <span style=\"background-color: yellow;\">periods</span>, <span style=\"background-color: yellow;\">three</span> <span style=\"background-color: yellow;\">methods</span> of <span style=\"background-color: yellow;\">blood</span> <span style=\"background-color: yellow;\">pressure</span> measurement wereused: a) <span style=\"background-color: yellow;\">office</span> <span style=\"background-color: yellow;\">blood</span> <span style=\"background-color: yellow;\">pressure</span> (<span style=\"background-color: yellow;\">three</span> <span style=\"background-color: yellow;\">consecutive</span> <span style=\"background-color: yellow;\">measurements</span>); b) home selfblood <span style=\"background-color: yellow;\">pressure</span> <span style=\"background-color: yellow;\">measurements</span> (<span style=\"background-color: yellow;\">SBPM</span>), consisting of <span style=\"background-color: yellow;\">three</span> <span style=\"background-color: yellow;\">consecutive</span> <span style=\"background-color: yellow;\">measurements</span> <span style=\"background-color: yellow;\">performed</span> at home in the morning and in the evening for 7 <span style=\"background-color: yellow;\">consecutive</span> days; andc) ambulatory <span style=\"background-color: yellow;\">blood</span> <span style=\"background-color: yellow;\">pressure</span> <span style=\"background-color: yellow;\">measurements</span> (<span style=\"background-color: yellow;\">ABPM</span>), 24-h BP recordings with threemeasurements per hour. Of the 229 <span style=\"background-color: yellow;\">patients</span>, 199 (87%) <span style=\"background-color: yellow;\">performed</span> at least 12 validSBPM <span style=\"background-color: yellow;\">measurements</span> during both placebo and <span style=\"background-color: yellow;\">treatment</span> <span style=\"background-color: yellow;\">periods</span>, whereas only 160(70%) <span style=\"background-color: yellow;\">performed</span> <span style=\"background-color: yellow;\">good</span> quality 24-h <span style=\"background-color: yellow;\">ABPM</span> recordings during both <span style=\"background-color: yellow;\">periods</span> (P <.0001). One hundred-forty <span style=\"background-color: yellow;\">patients</span> <span style=\"background-color: yellow;\">performed</span> the <span style=\"background-color: yellow;\">three</span> <span style=\"background-color: yellow;\">methods</span> of measurementwell. At <span style=\"background-color: yellow;\">baseline</span> and with <span style=\"background-color: yellow;\">treatment</span>, <span style=\"background-color: yellow;\">agreement</span> between <span style=\"background-color: yellow;\">office</span> <span style=\"background-color: yellow;\">measurements</span> andABPM or <span style=\"background-color: yellow;\">SBPM</span> was weak. Conversely, there was a <span style=\"background-color: yellow;\">good</span> <span style=\"background-color: yellow;\">agreement</span> between <span style=\"background-color: yellow;\">ABPM</span> andSBPM. The mean difference (SBP/DBP) between <span style=\"background-color: yellow;\">ABPM</span> and <span style=\"background-color: yellow;\">SBPM</span> was 4.6 +/- 10.4/3.5+/- 7.1 at <span style=\"background-color: yellow;\">baseline</span> and 3.5 +/- 10.0/4.0 +/- 7.0 at the end of the treatmentperiod. The correlation between <span style=\"background-color: yellow;\">SBPM</span> and <span style=\"background-color: yellow;\">ABPM</span> expressed by the r coefficient and the P values were the following: at <span style=\"background-color: yellow;\">baseline</span> 0.79/0.70 (< 0.001/< .0001), withactive <span style=\"background-color: yellow;\">treatment</span> 0.74/0.69 (0.0001/.0001). <span style=\"background-color: yellow;\">Hourly</span> and 24-h <span style=\"background-color: yellow;\">reproducibility</span> ofblood <span style=\"background-color: yellow;\">pressure</span> response was quantified by the standard deviation of BP response. Compared with <span style=\"background-color: yellow;\">office</span> <span style=\"background-color: yellow;\">blood</span> <span style=\"background-color: yellow;\">pressure</span>, both global and <span style=\"background-color: yellow;\">hourly</span> <span style=\"background-color: yellow;\">SBPM</span> responsesexhibited a lower standard deviation. <span style=\"background-color: yellow;\">Hourly</span> <span style=\"background-color: yellow;\">reproducibility</span> of <span style=\"background-color: yellow;\">SBPM</span> response(10.8 <span style=\"background-color: yellow;\">mm</span> Hg/6.9 <span style=\"background-color: yellow;\">mm</span> Hg) was lower than <span style=\"background-color: yellow;\">hourly</span> <span style=\"background-color: yellow;\">reproducibility</span> of <span style=\"background-color: yellow;\">ABPM</span> response(15.6 <span style=\"background-color: yellow;\">mm</span> Hg/11.9 <span style=\"background-color: yellow;\">mm</span> Hg). In conclusion, <span style=\"background-color: yellow;\">SBPM</span> was easier to perform than <span style=\"background-color: yellow;\">ABPM</span>.There was a <span style=\"background-color: yellow;\">good</span> <span style=\"background-color: yellow;\">agreement</span> between these two <span style=\"background-color: yellow;\">methods</span> whereas concordance between <span style=\"background-color: yellow;\">SBPM</span> or <span style=\"background-color: yellow;\">ABPM</span> and <span style=\"background-color: yellow;\">office</span> <span style=\"background-color: yellow;\">measurements</span> was weak. As <span style=\"background-color: yellow;\">hourly</span> <span style=\"background-color: yellow;\">reproducibility</span> of <span style=\"background-color: yellow;\">SBPM</span> response is better than <span style=\"background-color: yellow;\">reproducibility</span> of both <span style=\"background-color: yellow;\">hourly</span> <span style=\"background-color: yellow;\">ABPM</span> and <span style=\"background-color: yellow;\">office</span> BPresponse, <span style=\"background-color: yellow;\">SBPM</span> seems to be the most appropriate method for evaluating residualantihypertensive effect."
            ]
          },
          "metadata": {}
        },
        {
          "output_type": "stream",
          "name": "stdout",
          "text": [
            "\n",
            "\n",
            "\n"
          ]
        },
        {
          "output_type": "display_data",
          "data": {
            "text/plain": [
              "<IPython.core.display.HTML object>"
            ],
            "text/html": [
              "We conducted a phase <span style=\"background-color: yellow;\">II</span> study to assess the <span style=\"background-color: yellow;\">efficacy</span> and tolerability ofirinotecan and <span style=\"background-color: yellow;\">cisplatin</span> as salvage <span style=\"background-color: yellow;\">chemotherapy</span> in <span style=\"background-color: yellow;\">patients</span> with <span style=\"background-color: yellow;\">advancedgastric</span> <span style=\"background-color: yellow;\">adenocarcinoma</span>, <span style=\"background-color: yellow;\">progressing</span> after both 5-fluorouracil (5-FU)- andtaxane-containing regimen. <span style=\"background-color: yellow;\">Patients</span> with measurable <span style=\"background-color: yellow;\">metastatic</span> gastric cancer,progressive after <span style=\"background-color: yellow;\">previous</span> <span style=\"background-color: yellow;\">chemotherapy</span> that consisted either of a 5-FU-basedregimen followed by second-line <span style=\"background-color: yellow;\">chemotherapy</span> containing <span style=\"background-color: yellow;\">taxanes</span> or a 5-FU andtaxane <span style=\"background-color: yellow;\">combination</span> were treated with <span style=\"background-color: yellow;\">irinotecan</span> and <span style=\"background-color: yellow;\">cisplatin</span>. <span style=\"background-color: yellow;\">Irinotecan</span> 70mg/m(2) was <span style=\"background-color: yellow;\">administered</span> on <span style=\"background-color: yellow;\">day</span> 1 and <span style=\"background-color: yellow;\">day</span> 15; <span style=\"background-color: yellow;\">cisplatin</span> 70 mg/m(2) wasadministered on <span style=\"background-color: yellow;\">day</span> 1. <span style=\"background-color: yellow;\">Treatment</span> was repeated every 4 weeks. For 28 patientsregistered, a total of 94 <span style=\"background-color: yellow;\">chemotherapy</span> cycles were <span style=\"background-color: yellow;\">administered</span>. The <span style=\"background-color: yellow;\">patients</span>'median age was 51 years and 27 (96%) had an <span style=\"background-color: yellow;\">ECOG</span> performance status of 1 orbelow. In an intent-to-treat analysis, seven <span style=\"background-color: yellow;\">patients</span> (25%) achieved a partialresponse, which maintained for 6.3 months (95% confidence interval 6.2-6.4months). The median progression-free and overall survival were 3.5 and 5.6months, respectively. Major toxic effects included nausea, diarrhea andneurotoxicity. Although there was one possible <span style=\"background-color: yellow;\">treatment</span>-related death, toxicity profiles were generally predictable and manageable. We conclude that irinotecanand <span style=\"background-color: yellow;\">cisplatin</span> is an active <span style=\"background-color: yellow;\">combination</span> for <span style=\"background-color: yellow;\">patients</span> with <span style=\"background-color: yellow;\">metastatic</span> gastriccancer in whom <span style=\"background-color: yellow;\">previous</span> <span style=\"background-color: yellow;\">chemotherapy</span> with 5-FU and <span style=\"background-color: yellow;\">taxanes</span> has failed."
            ]
          },
          "metadata": {}
        },
        {
          "output_type": "stream",
          "name": "stdout",
          "text": [
            "\n",
            "\n",
            "\n"
          ]
        },
        {
          "output_type": "display_data",
          "data": {
            "text/plain": [
              "<IPython.core.display.HTML object>"
            ],
            "text/html": [
              "\"\"\"Monomeric <span style=\"background-color: yellow;\">sarcosine</span> <span style=\"background-color: yellow;\">oxidase</span> (<span style=\"background-color: yellow;\">MSOX</span>) is a <span style=\"background-color: yellow;\">flavoenzyme</span> that <span style=\"background-color: yellow;\">catalyzes</span> the <span style=\"background-color: yellow;\">oxidative</span> <span style=\"background-color: yellow;\">demethylation</span> of <span style=\"background-color: yellow;\">sarcosine</span> (N-methylglycine) to <span style=\"background-color: yellow;\">yield</span> <span style=\"background-color: yellow;\">glycine</span>"
            ]
          },
          "metadata": {}
        },
        {
          "output_type": "stream",
          "name": "stdout",
          "text": [
            "\n",
            "\n",
            "\n"
          ]
        }
      ]
    },
    {
      "cell_type": "markdown",
      "source": [
        "## **Keyword Extraction Tool**\n",
        "\n",
        " The tool provides a user interface built with IPython widgets, allowing users to input text and click a button to extract keywords. The extracted keywords are displayed along with the input text with highlighted keywords. This tool can be useful for quickly identifying key terms and concepts in text documents.\n",
        "\n"
      ],
      "metadata": {
        "id": "zekO1a7OVJMk"
      }
    },
    {
      "cell_type": "code",
      "source": [
        "keyword_model = yake_pipeline.fit(df)"
      ],
      "metadata": {
        "id": "PWAlvN4bNd21"
      },
      "execution_count": 17,
      "outputs": []
    },
    {
      "cell_type": "code",
      "source": [
        "import re\n",
        "import ipywidgets as widgets\n",
        "from IPython.display import display, HTML\n",
        "\n",
        "\n",
        "\n",
        "def highlight(text, keywords):\n",
        "    for k in keywords:\n",
        "        text = (re.sub(r'(\\b%s\\b)' % k, r'<span style=\"background-color: yellow;\">\\1</span>', text, flags=re.IGNORECASE))\n",
        "    return text\n",
        "\n",
        "def extract_keywords(text):\n",
        "    # Transform the input text using the pre-fitted pipeline model\n",
        "    result = keyword_model.transform(spark.createDataFrame([(text,)], [\"text\"]))\n",
        "\n",
        "    # Extract unique keywords\n",
        "    unique_keywords = [keyword.result for keyword in result.select(\"keywords\").collect()[0][\"keywords\"]]\n",
        "\n",
        "    # Highlight keywords in the input text\n",
        "    highlighted_text = highlight(text, unique_keywords)\n",
        "    return unique_keywords, highlighted_text\n",
        "\n",
        "\n",
        "# Colab UI\n",
        "text_input = widgets.Textarea(\n",
        "    value='',\n",
        "    placeholder='Enter your text here',\n",
        "    description='Text:',\n",
        "    disabled=False\n",
        ")\n",
        "display(text_input)\n",
        "\n",
        "def on_button_click(b):\n",
        "    uploaded_text = text_input.value\n",
        "    if uploaded_text:\n",
        "        keywords, highlighted_text = extract_keywords(uploaded_text)\n",
        "        display(HTML(f\"<b>Keywords:</b> {' | '.join(keywords)}\"))\n",
        "        display(HTML(highlighted_text))\n",
        "    else:\n",
        "        print(\"Please enter some text.\")\n",
        "\n",
        "button = widgets.Button(description=\"Extract Keywords\")\n",
        "button.on_click(on_button_click)\n",
        "display(button)\n"
      ],
      "metadata": {
        "colab": {
          "base_uri": "https://localhost:8080/",
          "height": 164,
          "referenced_widgets": [
            "ef4e20e0452b49d5a763399f28ddcf7d",
            "fcc0874cf2df4a7d86ea5a5ac16090f3",
            "5d768aff237d4471a444d8d7da9d3246",
            "2b46c04ae8cf4d0b91ee1f8edbc25ae8",
            "d75f43a3c22f40579c809b6a08ef8930",
            "db82c1ef10be4a609489f81a635dbbdd"
          ]
        },
        "id": "a9FJPbPZSZKF",
        "outputId": "0735e186-3814-461e-ac8f-57e15a66a813"
      },
      "execution_count": 19,
      "outputs": [
        {
          "output_type": "display_data",
          "data": {
            "text/plain": [
              "Textarea(value='', description='Text:', placeholder='Enter your text here')"
            ],
            "application/vnd.jupyter.widget-view+json": {
              "version_major": 2,
              "version_minor": 0,
              "model_id": "ef4e20e0452b49d5a763399f28ddcf7d"
            }
          },
          "metadata": {}
        },
        {
          "output_type": "display_data",
          "data": {
            "text/plain": [
              "Button(description='Extract Keywords', style=ButtonStyle())"
            ],
            "application/vnd.jupyter.widget-view+json": {
              "version_major": 2,
              "version_minor": 0,
              "model_id": "2b46c04ae8cf4d0b91ee1f8edbc25ae8"
            }
          },
          "metadata": {}
        },
        {
          "output_type": "display_data",
          "data": {
            "text/plain": [
              "<IPython.core.display.HTML object>"
            ],
            "text/html": [
              "<b>Keywords:</b> kir | inwardly | girk | locus | gene | ii | diabetes | pima | indian | gene | kb | one | two | kb | including | one | including | two | gene | locus | type | ii | diabetes | fortype ii | ii diabetes | pima indian | indian population | type ii | ii diabetes | pima indian population"
            ]
          },
          "metadata": {}
        },
        {
          "output_type": "display_data",
          "data": {
            "text/plain": [
              "<IPython.core.display.HTML object>"
            ],
            "text/html": [
              "The human KCNJ9 (<span style=\"background-color: yellow;\">Kir</span> 3.3, GIRK3) is a member of the G-protein-activated <span style=\"background-color: yellow;\">inwardly</span> rectifying potassium (<span style=\"background-color: yellow;\">GIRK</span>) channel family. Here we describe the genomicorganization of the KCNJ9 <span style=\"background-color: yellow;\"><span style=\"background-color: yellow;\">locus</span></span> on chromosome 1q21-23 as a candidate <span style=\"background-color: yellow;\"><span style=\"background-color: yellow;\"><span style=\"background-color: yellow;\">gene</span></span></span> forType <span style=\"background-color: yellow;\"><span style=\"background-color: yellow;\">II</span></span> <span style=\"background-color: yellow;\"><span style=\"background-color: yellow;\">diabetes</span></span> mellitus in the <span style=\"background-color: yellow;\">Pima</span> <span style=\"background-color: yellow;\">Indian</span> population. The <span style=\"background-color: yellow;\"><span style=\"background-color: yellow;\"><span style=\"background-color: yellow;\">gene</span></span></span> spansapproximately 7.6 <span style=\"background-color: yellow;\"><span style=\"background-color: yellow;\">kb</span></span> and contains <span style=\"background-color: yellow;\"><span style=\"background-color: yellow;\">one</span></span> noncoding and <span style=\"background-color: yellow;\"><span style=\"background-color: yellow;\">two</span></span> coding exons separated byapproximately 2.2 and approximately 2.6 <span style=\"background-color: yellow;\"><span style=\"background-color: yellow;\">kb</span></span> introns, respectively. We identified14 single nucleotide polymorphisms (SNPs), <span style=\"background-color: yellow;\"><span style=\"background-color: yellow;\">including</span></span> <span style=\"background-color: yellow;\"><span style=\"background-color: yellow;\">one</span></span> that predicts aVal366Ala substitution, and an 8 base-pair (bp) insertion/deletion. Ourexpression studies revealed the presence of the transcript in various humantissues <span style=\"background-color: yellow;\"><span style=\"background-color: yellow;\">including</span></span> pancreas, and <span style=\"background-color: yellow;\"><span style=\"background-color: yellow;\">two</span></span> major insulin-responsive tissues: fat andskeletal muscle. The characterization of the KCNJ9 <span style=\"background-color: yellow;\"><span style=\"background-color: yellow;\"><span style=\"background-color: yellow;\">gene</span></span></span> should facilitate furtherstudies on the function of the KCNJ9 protein and allow evaluation of thepotential role of the <span style=\"background-color: yellow;\"><span style=\"background-color: yellow;\">locus</span></span> in <span style=\"background-color: yellow;\">Type</span> <span style=\"background-color: yellow;\"><span style=\"background-color: yellow;\">II</span></span> <span style=\"background-color: yellow;\"><span style=\"background-color: yellow;\">diabetes</span></span>."
            ]
          },
          "metadata": {}
        }
      ]
    }
  ]
}